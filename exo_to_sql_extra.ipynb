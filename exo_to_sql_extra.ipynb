{
 "cells": [
  {
   "cell_type": "code",
   "execution_count": 1,
   "metadata": {},
   "outputs": [],
   "source": [
    "import sqlite3\n",
    "import json\n",
    "import pandas as pd\n",
    "pd.set_option('display.max_colwidth',1000)"
   ]
  },
  {
   "cell_type": "markdown",
   "metadata": {},
   "source": [
    "## Create db with exoplanets data"
   ]
  },
  {
   "cell_type": "markdown",
   "metadata": {},
   "source": [
    "- Data source: https://www.kaggle.com/datasets/adityamishraml/nasaexoplanets"
   ]
  },
  {
   "cell_type": "code",
   "execution_count": 2,
   "metadata": {},
   "outputs": [],
   "source": [
    "# exoplanets_df = pd.read_csv('cleaned_5250.csv')\n",
    "# conn = sqlite3.connect('./databases/exoplanets_db.db')\n",
    "# exoplanets_df.to_sql('exoplanets',conn,if_exists='replace',index=False)\n",
    "# conn.close()"
   ]
  },
  {
   "cell_type": "code",
   "execution_count": 3,
   "metadata": {},
   "outputs": [
    {
     "data": {
      "text/plain": [
       "<sqlite3.Cursor at 0x77705f719ec0>"
      ]
     },
     "execution_count": 3,
     "metadata": {},
     "output_type": "execute_result"
    }
   ],
   "source": [
    "conn = sqlite3.connect('./databases/exoplanets_db.db')\n",
    "cursor = conn.cursor()\n",
    "cursor.execute(f\"SELECT * FROM exoplanets LIMIT 5;\")"
   ]
  },
  {
   "cell_type": "code",
   "execution_count": 4,
   "metadata": {},
   "outputs": [
    {
     "name": "stdout",
     "output_type": "stream",
     "text": [
      "('11 Comae Berenices b', 304.0, 4.72307, 'Gas Giant', 2007, 19.4, 'Jupiter', 1.08, 'Jupiter', 1.29, 0.8925394, 0.23, 'Radial Velocity')\n",
      "('11 Ursae Minoris b', 409.0, 5.013, 'Gas Giant', 2009, 14.74, 'Jupiter', 1.09, 'Jupiter', 1.53, 1.4, 0.08, 'Radial Velocity')\n",
      "('14 Andromedae b', 246.0, 5.23133, 'Gas Giant', 2008, 4.8, 'Jupiter', 1.15, 'Jupiter', 0.83, 0.5086927, 0.0, 'Radial Velocity')\n",
      "('14 Herculis b', 58.0, 6.61935, 'Gas Giant', 2002, 8.13881, 'Jupiter', 1.12, 'Jupiter', 2.773069, 4.8, 0.37, 'Radial Velocity')\n",
      "('16 Cygni B b', 69.0, 6.215, 'Gas Giant', 1996, 1.78, 'Jupiter', 1.2, 'Jupiter', 1.66, 2.2, 0.68, 'Radial Velocity')\n"
     ]
    }
   ],
   "source": [
    "for row in cursor:\n",
    "    print(row)"
   ]
  },
  {
   "cell_type": "code",
   "execution_count": 4,
   "metadata": {},
   "outputs": [
    {
     "data": {
      "text/plain": [
       "<sqlite3.Cursor at 0x7fbf0f70d340>"
      ]
     },
     "execution_count": 4,
     "metadata": {},
     "output_type": "execute_result"
    }
   ],
   "source": [
    "cursor.execute(\"PRAGMA table_info(exoplanets)\")"
   ]
  },
  {
   "cell_type": "code",
   "execution_count": 5,
   "metadata": {},
   "outputs": [
    {
     "name": "stdout",
     "output_type": "stream",
     "text": [
      "(0, 'name', 'TEXT', 0, None, 0)\n",
      "(1, 'distance', 'REAL', 0, None, 0)\n",
      "(2, 'stellar_magnitude', 'REAL', 0, None, 0)\n",
      "(3, 'planet_type', 'TEXT', 0, None, 0)\n",
      "(4, 'discovery_year', 'INTEGER', 0, None, 0)\n",
      "(5, 'mass_multiplier', 'REAL', 0, None, 0)\n",
      "(6, 'mass_wrt', 'TEXT', 0, None, 0)\n",
      "(7, 'radius_multiplier', 'REAL', 0, None, 0)\n",
      "(8, 'radius_wrt', 'TEXT', 0, None, 0)\n",
      "(9, 'orbital_radius', 'REAL', 0, None, 0)\n",
      "(10, 'orbital_period', 'REAL', 0, None, 0)\n",
      "(11, 'eccentricity', 'REAL', 0, None, 0)\n",
      "(12, 'detection_method', 'TEXT', 0, None, 0)\n"
     ]
    }
   ],
   "source": [
    "for row in cursor:\n",
    "    print(row)"
   ]
  },
  {
   "cell_type": "code",
   "execution_count": null,
   "metadata": {},
   "outputs": [],
   "source": [
    "cursor.execute(\"\"\"\n",
    "SELECT discovery_year, AVG(\"Mass (MJ)\") AS average_mass\n",
    "FROM exoplanets\n",
    "GROUP BY \"Disc. Year\"\n",
    "ORDER BY \"Disc. Year\";\n",
    "\"\"\")"
   ]
  },
  {
   "cell_type": "code",
   "execution_count": 11,
   "metadata": {},
   "outputs": [],
   "source": [
    "# query = \"CREATE TABLE reference_planets (name TEXT, mass REAL);\"\n",
    "\n",
    "# cursor.execute(query)"
   ]
  },
  {
   "cell_type": "code",
   "execution_count": null,
   "metadata": {},
   "outputs": [],
   "source": [
    "#cursor.execute(\"DELETE  from reference_planets where 1==1;\")"
   ]
  },
  {
   "cell_type": "code",
   "execution_count": 30,
   "metadata": {},
   "outputs": [],
   "source": [
    "# insert1 = \"\"\"\n",
    "# INSERT INTO reference_planets (name, mass) VALUES ('Jupiter', 1.898e27);\n",
    "# \"\"\"\n",
    "# insert2 = \"\"\"\n",
    "# INSERT INTO reference_planets (name, mass) VALUES ('Earth', 5.972e24);\n",
    "# \"\"\"\n",
    "# cursor.execute(insert1);cursor.execute(insert2)\n",
    "# conn.commit()\n",
    "# conn.close()"
   ]
  },
  {
   "cell_type": "code",
   "execution_count": 6,
   "metadata": {},
   "outputs": [
    {
     "name": "stdout",
     "output_type": "stream",
     "text": [
      "('Jupiter', 1.898e+27)\n",
      "('Earth', 5.972e+24)\n"
     ]
    }
   ],
   "source": [
    "cursor.execute(\"SELECT * FROM reference_planets;\")\n",
    "for row in cursor:\n",
    "    print(row)"
   ]
  },
  {
   "cell_type": "code",
   "execution_count": 5,
   "metadata": {},
   "outputs": [],
   "source": [
    "def test_query(query,verbose=False):\n",
    "    cursor.execute(query)\n",
    "    if verbose:\n",
    "        for row in cursor:\n",
    "            print(row)"
   ]
  },
  {
   "cell_type": "markdown",
   "metadata": {},
   "source": [
    "## Testing query results in batch"
   ]
  },
  {
   "cell_type": "code",
   "execution_count": 7,
   "metadata": {},
   "outputs": [],
   "source": [
    "generated_sql_df = pd.read_csv('Exoplanets-OG20 - Sheet1.csv')\n",
    "generated_sql_df_extra = pd.read_csv('Extra Exoplanets-OG20.csv')\n",
    "#pd.concat([])\n"
   ]
  },
  {
   "cell_type": "code",
   "execution_count": 9,
   "metadata": {},
   "outputs": [
    {
     "data": {
      "text/plain": [
       "(60, 10)"
      ]
     },
     "execution_count": 9,
     "metadata": {},
     "output_type": "execute_result"
    }
   ],
   "source": [
    "len(generated_sql_df),len(generated_sql_df_extra)"
   ]
  },
  {
   "cell_type": "code",
   "execution_count": 10,
   "metadata": {},
   "outputs": [
    {
     "data": {
      "text/html": [
       "<div>\n",
       "<style scoped>\n",
       "    .dataframe tbody tr th:only-of-type {\n",
       "        vertical-align: middle;\n",
       "    }\n",
       "\n",
       "    .dataframe tbody tr th {\n",
       "        vertical-align: top;\n",
       "    }\n",
       "\n",
       "    .dataframe thead th {\n",
       "        text-align: right;\n",
       "    }\n",
       "</style>\n",
       "<table border=\"1\" class=\"dataframe\">\n",
       "  <thead>\n",
       "    <tr style=\"text-align: right;\">\n",
       "      <th></th>\n",
       "      <th>context</th>\n",
       "      <th>question</th>\n",
       "      <th>answer</th>\n",
       "    </tr>\n",
       "  </thead>\n",
       "  <tbody>\n",
       "    <tr>\n",
       "      <th>0</th>\n",
       "      <td>CREATE TABLE exoplanets (\\n    name TEXT,\\n    distance REAL,\\n    stellar_magnitude REAL,\\n    planet_type TEXT,\\n    discovery_year INTEGER,\\n    mass_multiplier REAL,\\n    mass_wrt TEXT,\\n    radius_multiplier REAL,\\n    radius_wrt TEXT,\\n    orbital_radius REAL,\\n    orbital_period REAL,\\n    eccentricity REAL,\\n    detection_method TEXT\\n); CREATE TABLE reference_planets (name TEXT, mass REAL);  'mass_wrt' in exoplanets table has a one-to-one match to 'name' in reference_planets table, and  'name' refers to either Earth or Jupyter, with Jupyter having 317.8 the mass of Earth.</td>\n",
       "      <td>Rank exoplanets based on their mass within each discovery year and return the top 3 planets with the highest mass.</td>\n",
       "      <td>WITH RankedExoplanets AS (\\n    SELECT \\n        e.name,\\n        e.mass_multiplier * r.mass AS mass,\\n        e.discovery_year,\\n        RANK() OVER (PARTITION BY e.discovery_year ORDER BY e.mass_multiplier * r.mass DESC) AS mass_rank\\n    FROM exoplanets e\\n    JOIN reference_planets r ON e.mass_wrt = r.name\\n)\\n\\nSELECT * \\nFROM RankedExoplanets\\nWHERE mass_rank &lt;= 3;</td>\n",
       "    </tr>\n",
       "    <tr>\n",
       "      <th>1</th>\n",
       "      <td>CREATE TABLE exoplanets (\\n    name TEXT,\\n    distance REAL,\\n    stellar_magnitude REAL,\\n    planet_type TEXT,\\n    discovery_year INTEGER,\\n    mass_multiplier REAL,\\n    mass_wrt TEXT,\\n    radius_multiplier REAL,\\n    radius_wrt TEXT,\\n    orbital_radius REAL,\\n    orbital_period REAL,\\n    eccentricity REAL,\\n    detection_method TEXT\\n); CREATE TABLE reference_planets (name TEXT, mass REAL);  'mass_wrt' in exoplanets table has a one-to-one match to 'name' in reference_planets table, and  'name' refers to either Earth or Jupyter, with Jupyter having 317.8 the mass of Earth.</td>\n",
       "      <td>Calculate a moving average of the number of exoplanets discovered over a 5-year period.</td>\n",
       "      <td>WITH DiscoveryCounts AS (\\n    SELECT \\n        discovery_year,\\n        COUNT(*) AS num_discoveries\\n    FROM exoplanets\\n    GROUP BY discovery_year\\n)\\n\\nSELECT \\n    discovery_year,\\n    num_discoveries,\\n    AVG(num_discoveries) OVER (ORDER BY discovery_year ROWS BETWEEN 4 PRECEDING AND CURRENT ROW) AS moving_avg\\nFROM DiscoveryCounts\\nORDER BY discovery_year;</td>\n",
       "    </tr>\n",
       "    <tr>\n",
       "      <th>2</th>\n",
       "      <td>CREATE TABLE exoplanets (\\n    name TEXT,\\n    distance REAL,\\n    stellar_magnitude REAL,\\n    planet_type TEXT,\\n    discovery_year INTEGER,\\n    mass_multiplier REAL,\\n    mass_wrt TEXT,\\n    radius_multiplier REAL,\\n    radius_wrt TEXT,\\n    orbital_radius REAL,\\n    orbital_period REAL,\\n    eccentricity REAL,\\n    detection_method TEXT\\n); CREATE TABLE reference_planets (name TEXT, mass REAL);  'mass_wrt' in exoplanets table has a one-to-one match to 'name' in reference_planets table, and  'name' refers to either Earth or Jupyter, with Jupyter having 317.8 the mass of Earth.</td>\n",
       "      <td>Compare each exoplanet’s mass with other exoplanets discovered in the same year, showing exoplanets that are heavier than others discovered the same year</td>\n",
       "      <td>SELECT \\n    e1.name AS exoplanet_name,\\n    e1.mass_multiplier * r1.mass AS exoplanet_mass,\\n    e2.name AS compared_exoplanet,\\n    e2.mass_multiplier * r2.mass AS compared_mass\\nFROM exoplanets e1\\nJOIN reference_planets r1 ON e1.mass_wrt = r1.name\\nJOIN exoplanets e2 ON e1.discovery_year = e2.discovery_year AND e1.name != e2.name\\nJOIN reference_planets r2 ON e2.mass_wrt = r2.name\\nWHERE e1.mass_multiplier * r1.mass &gt; e2.mass_multiplier * r2.mass;</td>\n",
       "    </tr>\n",
       "    <tr>\n",
       "      <th>3</th>\n",
       "      <td>CREATE TABLE exoplanets (\\n    name TEXT,\\n    distance REAL,\\n    stellar_magnitude REAL,\\n    planet_type TEXT,\\n    discovery_year INTEGER,\\n    mass_multiplier REAL,\\n    mass_wrt TEXT,\\n    radius_multiplier REAL,\\n    radius_wrt TEXT,\\n    orbital_radius REAL,\\n    orbital_period REAL,\\n    eccentricity REAL,\\n    detection_method TEXT\\n); CREATE TABLE reference_planets (name TEXT, mass REAL);  'mass_wrt' in exoplanets table has a one-to-one match to 'name' in reference_planets table, and  'name' refers to either Earth or Jupyter, with Jupyter having 317.8 the mass of Earth.</td>\n",
       "      <td>Get a count of unique exoplanets discovered using each method, along with the first discovery year, order by the number of unique exoplanets</td>\n",
       "      <td>WITH DistinctMethods AS (\\n    SELECT \\n        detection_method,\\n        COUNT(DISTINCT e.name) AS unique_exoplanets,\\n        MIN(discovery_year) AS first_discovery_year\\n    FROM exoplanets e\\n    GROUP BY detection_method\\n)\\nSELECT *\\nFROM DistinctMethods\\nORDER BY unique_exoplanets DESC;</td>\n",
       "    </tr>\n",
       "    <tr>\n",
       "      <th>4</th>\n",
       "      <td>CREATE TABLE exoplanets (\\n    name TEXT,\\n    distance REAL,\\n    stellar_magnitude REAL,\\n    planet_type TEXT,\\n    discovery_year INTEGER,\\n    mass_multiplier REAL,\\n    mass_wrt TEXT,\\n    radius_multiplier REAL,\\n    radius_wrt TEXT,\\n    orbital_radius REAL,\\n    orbital_period REAL,\\n    eccentricity REAL,\\n    detection_method TEXT\\n); CREATE TABLE reference_planets (name TEXT, mass REAL);  'mass_wrt' in exoplanets table has a one-to-one match to 'name' in reference_planets table, and  'name' refers to either Earth or Jupyter, with Jupyter having 317.8 the mass of Earth.</td>\n",
       "      <td>Determine the cumulative number of exoplanets discovered over the years.</td>\n",
       "      <td>WITH CumulativeDiscoveries AS (\\n    SELECT \\n        discovery_year,\\n        COUNT(*) AS num_discoveries\\n    FROM exoplanets\\n    GROUP BY discovery_year\\n)\\n\\nSELECT \\n    discovery_year,\\n    num_discoveries,\\n    SUM(num_discoveries) OVER (ORDER BY discovery_year) AS cumulative_count\\nFROM CumulativeDiscoveries\\nORDER BY discovery_year;</td>\n",
       "    </tr>\n",
       "  </tbody>\n",
       "</table>\n",
       "</div>"
      ],
      "text/plain": [
       "                                                                                                                                                                                                                                                                                                                                                                                                                                                                                                                                                                                                       context  \\\n",
       "0  CREATE TABLE exoplanets (\\n    name TEXT,\\n    distance REAL,\\n    stellar_magnitude REAL,\\n    planet_type TEXT,\\n    discovery_year INTEGER,\\n    mass_multiplier REAL,\\n    mass_wrt TEXT,\\n    radius_multiplier REAL,\\n    radius_wrt TEXT,\\n    orbital_radius REAL,\\n    orbital_period REAL,\\n    eccentricity REAL,\\n    detection_method TEXT\\n); CREATE TABLE reference_planets (name TEXT, mass REAL);  'mass_wrt' in exoplanets table has a one-to-one match to 'name' in reference_planets table, and  'name' refers to either Earth or Jupyter, with Jupyter having 317.8 the mass of Earth.   \n",
       "1  CREATE TABLE exoplanets (\\n    name TEXT,\\n    distance REAL,\\n    stellar_magnitude REAL,\\n    planet_type TEXT,\\n    discovery_year INTEGER,\\n    mass_multiplier REAL,\\n    mass_wrt TEXT,\\n    radius_multiplier REAL,\\n    radius_wrt TEXT,\\n    orbital_radius REAL,\\n    orbital_period REAL,\\n    eccentricity REAL,\\n    detection_method TEXT\\n); CREATE TABLE reference_planets (name TEXT, mass REAL);  'mass_wrt' in exoplanets table has a one-to-one match to 'name' in reference_planets table, and  'name' refers to either Earth or Jupyter, with Jupyter having 317.8 the mass of Earth.   \n",
       "2  CREATE TABLE exoplanets (\\n    name TEXT,\\n    distance REAL,\\n    stellar_magnitude REAL,\\n    planet_type TEXT,\\n    discovery_year INTEGER,\\n    mass_multiplier REAL,\\n    mass_wrt TEXT,\\n    radius_multiplier REAL,\\n    radius_wrt TEXT,\\n    orbital_radius REAL,\\n    orbital_period REAL,\\n    eccentricity REAL,\\n    detection_method TEXT\\n); CREATE TABLE reference_planets (name TEXT, mass REAL);  'mass_wrt' in exoplanets table has a one-to-one match to 'name' in reference_planets table, and  'name' refers to either Earth or Jupyter, with Jupyter having 317.8 the mass of Earth.   \n",
       "3  CREATE TABLE exoplanets (\\n    name TEXT,\\n    distance REAL,\\n    stellar_magnitude REAL,\\n    planet_type TEXT,\\n    discovery_year INTEGER,\\n    mass_multiplier REAL,\\n    mass_wrt TEXT,\\n    radius_multiplier REAL,\\n    radius_wrt TEXT,\\n    orbital_radius REAL,\\n    orbital_period REAL,\\n    eccentricity REAL,\\n    detection_method TEXT\\n); CREATE TABLE reference_planets (name TEXT, mass REAL);  'mass_wrt' in exoplanets table has a one-to-one match to 'name' in reference_planets table, and  'name' refers to either Earth or Jupyter, with Jupyter having 317.8 the mass of Earth.   \n",
       "4  CREATE TABLE exoplanets (\\n    name TEXT,\\n    distance REAL,\\n    stellar_magnitude REAL,\\n    planet_type TEXT,\\n    discovery_year INTEGER,\\n    mass_multiplier REAL,\\n    mass_wrt TEXT,\\n    radius_multiplier REAL,\\n    radius_wrt TEXT,\\n    orbital_radius REAL,\\n    orbital_period REAL,\\n    eccentricity REAL,\\n    detection_method TEXT\\n); CREATE TABLE reference_planets (name TEXT, mass REAL);  'mass_wrt' in exoplanets table has a one-to-one match to 'name' in reference_planets table, and  'name' refers to either Earth or Jupyter, with Jupyter having 317.8 the mass of Earth.   \n",
       "\n",
       "                                                                                                                                                    question  \\\n",
       "0                                         Rank exoplanets based on their mass within each discovery year and return the top 3 planets with the highest mass.   \n",
       "1                                                                    Calculate a moving average of the number of exoplanets discovered over a 5-year period.   \n",
       "2  Compare each exoplanet’s mass with other exoplanets discovered in the same year, showing exoplanets that are heavier than others discovered the same year   \n",
       "3               Get a count of unique exoplanets discovered using each method, along with the first discovery year, order by the number of unique exoplanets   \n",
       "4                                                                                   Determine the cumulative number of exoplanets discovered over the years.   \n",
       "\n",
       "                                                                                                                                                                                                                                                                                                                                                                                                                                                                      answer  \n",
       "0                                                                                     WITH RankedExoplanets AS (\\n    SELECT \\n        e.name,\\n        e.mass_multiplier * r.mass AS mass,\\n        e.discovery_year,\\n        RANK() OVER (PARTITION BY e.discovery_year ORDER BY e.mass_multiplier * r.mass DESC) AS mass_rank\\n    FROM exoplanets e\\n    JOIN reference_planets r ON e.mass_wrt = r.name\\n)\\n\\nSELECT * \\nFROM RankedExoplanets\\nWHERE mass_rank <= 3;   \n",
       "1                                                                                            WITH DiscoveryCounts AS (\\n    SELECT \\n        discovery_year,\\n        COUNT(*) AS num_discoveries\\n    FROM exoplanets\\n    GROUP BY discovery_year\\n)\\n\\nSELECT \\n    discovery_year,\\n    num_discoveries,\\n    AVG(num_discoveries) OVER (ORDER BY discovery_year ROWS BETWEEN 4 PRECEDING AND CURRENT ROW) AS moving_avg\\nFROM DiscoveryCounts\\nORDER BY discovery_year;  \n",
       "2  SELECT \\n    e1.name AS exoplanet_name,\\n    e1.mass_multiplier * r1.mass AS exoplanet_mass,\\n    e2.name AS compared_exoplanet,\\n    e2.mass_multiplier * r2.mass AS compared_mass\\nFROM exoplanets e1\\nJOIN reference_planets r1 ON e1.mass_wrt = r1.name\\nJOIN exoplanets e2 ON e1.discovery_year = e2.discovery_year AND e1.name != e2.name\\nJOIN reference_planets r2 ON e2.mass_wrt = r2.name\\nWHERE e1.mass_multiplier * r1.mass > e2.mass_multiplier * r2.mass;    \n",
       "3                                                                                                                                                                  WITH DistinctMethods AS (\\n    SELECT \\n        detection_method,\\n        COUNT(DISTINCT e.name) AS unique_exoplanets,\\n        MIN(discovery_year) AS first_discovery_year\\n    FROM exoplanets e\\n    GROUP BY detection_method\\n)\\nSELECT *\\nFROM DistinctMethods\\nORDER BY unique_exoplanets DESC;    \n",
       "4                                                                                                                   WITH CumulativeDiscoveries AS (\\n    SELECT \\n        discovery_year,\\n        COUNT(*) AS num_discoveries\\n    FROM exoplanets\\n    GROUP BY discovery_year\\n)\\n\\nSELECT \\n    discovery_year,\\n    num_discoveries,\\n    SUM(num_discoveries) OVER (ORDER BY discovery_year) AS cumulative_count\\nFROM CumulativeDiscoveries\\nORDER BY discovery_year;  "
      ]
     },
     "execution_count": 10,
     "metadata": {},
     "output_type": "execute_result"
    }
   ],
   "source": [
    "generated_sql_df.head()"
   ]
  },
  {
   "cell_type": "code",
   "execution_count": 11,
   "metadata": {},
   "outputs": [
    {
     "data": {
      "text/plain": [
       "60"
      ]
     },
     "execution_count": 11,
     "metadata": {},
     "output_type": "execute_result"
    }
   ],
   "source": [
    "sql_queries=list(generated_sql_df['answer'])\n",
    "len(sql_queries)"
   ]
  },
  {
   "cell_type": "code",
   "execution_count": 66,
   "metadata": {},
   "outputs": [],
   "source": [
    "error_queries = []\n",
    "\n",
    "# Process each query\n",
    "for idx, query in enumerate(sql_queries):\n",
    "    try:\n",
    "        test_query(query)\n",
    "    except Exception as e:\n",
    "        print(f\"Error occurred: {e}\")\n",
    "        error_queries.append({'query': query, 'idx': idx, 'exception': type(e).__name__})\n",
    "        \n"
   ]
  },
  {
   "cell_type": "code",
   "execution_count": 12,
   "metadata": {},
   "outputs": [],
   "source": [
    "def test_rows(query):\n",
    "    cursor.execute(query)\n",
    "    rows = cursor.fetchall()\n",
    "    if not rows:\n",
    "        raise ValueError(f\"The following query returned no rows: {query}\")\n",
    "    "
   ]
  },
  {
   "cell_type": "code",
   "execution_count": 13,
   "metadata": {},
   "outputs": [],
   "source": [
    "for idx, query in enumerate(sql_queries):\n",
    "    try:\n",
    "        test_rows(query)\n",
    "    except Exception as e:\n",
    "        print(f\"Look at idx: {idx+1}\")\n",
    "        print(e)"
   ]
  },
  {
   "cell_type": "code",
   "execution_count": 14,
   "metadata": {},
   "outputs": [],
   "source": [
    "# def run_query(query, cursor):\n",
    "#     cursor.execute(query)\n",
    "#     rows = cursor.fetchall()\n",
    "#     columns = [desc[0] for desc in cursor.description]\n",
    "#     return pd.DataFrame(rows, columns=columns)\n",
    "\n",
    "def run_query(query, cursor):\n",
    "    cursor.execute(query)\n",
    "    rows = cursor.fetchall()\n",
    "    columns = [desc[0] for desc in cursor.description]\n",
    "    result_dict = [dict(zip(columns, row)) for row in rows]\n",
    "    return json.dumps(result_dict)"
   ]
  },
  {
   "cell_type": "code",
   "execution_count": 15,
   "metadata": {},
   "outputs": [
    {
     "data": {
      "text/plain": [
       "'[{\"name\": \"PSR B1257+12 c\", \"mass\": 2.56796e+25, \"discovery_year\": 1992, \"mass_rank\": 1}, {\"name\": \"PSR B1257+12 d\", \"mass\": 2.32908e+25, \"discovery_year\": 1992, \"mass_rank\": 2}, {\"name\": \"PSR B1257+12 b\", \"mass\": 1.1944000000000001e+23, \"discovery_year\": 1994, \"mass_rank\": 1}, {\"name\": \"51 Pegasi b\", \"mass\": 8.730800000000001e+26, \"discovery_year\": 1995, \"mass_rank\": 1}, {\"name\": \"70 Virginis b\", \"mass\": 1.421602e+28, \"discovery_year\": 1996, \"mass_rank\": 1}, {\"name\": \"Tau Bootis b\", \"mass\": 1.12931e+28, \"discovery_year\": 1996, \"mass_rank\": 2}, {\"name\": \"47 Ursae Majoris b\", \"mass\": 4.8019399999999994e+27, \"discovery_year\": 1996, \"mass_rank\": 3}, {\"name\": \"Rho Coronae Borealis b\", \"mass\": 1.9832202e+27, \"discovery_year\": 1997, \"mass_rank\": 1}, {\"name\": \"HD 168443 b\", \"mass\": 1.4468643799999999e+28, \"discovery_year\": 1998, \"mass_rank\": 1}, {\"name\": \"HD 195019 b\", \"mass\": 7.55404e+27, \"discovery_year\": 1998, \"mass_rank\": 2}, {\"name\": \"GJ 876 b\", \"mass\": 4.3190887999999995e+27, \"discovery_year\": 1998, \"mass_rank\": 3}, {\"name\": \"Upsilon Andromedae c\", \"mass\": 2.653404e+28, \"discovery_year\": 1999, \"mass_rank\": 1}, {\"name\": \"Upsilon Andromedae d\", \"mass\": 1.94545e+28, \"discovery_year\": 1999, \"mass_rank\": 2}, {\"name\": \"HD 222582 b\", \"mass\": 1.588626e+28, \"discovery_year\": 1999, \"mass_rank\": 3}, {\"name\": \"HD 168443 c\", \"mass\": 3.423880018e+28, \"discovery_year\": 2000, \"mass_rank\": 1}, {\"name\": \"HD 38529 c\", \"mass\": 1.982908928e+28, \"discovery_year\": 2000, \"mass_rank\": 2}, {\"name\": \"HD 160691 b\", \"mass\": 8.161399999999999e+27, \"discovery_year\": 2000, \"mass_rank\": 3}, {\"name\": \"HD 39091 b\", \"mass\": 2.323011548e+28, \"discovery_year\": 2001, \"mass_rank\": 1}, {\"name\": \"HD 178911 B b\", \"mass\": 1.524094e+28, \"discovery_year\": 2001, \"mass_rank\": 2}, {\"name\": \"HD 28185 b\", \"mass\": 1.106877538e+28, \"discovery_year\": 2001, \"mass_rank\": 3}, {\"name\": \"Iota Draconis b\", \"mass\": 2.243436e+28, \"discovery_year\": 2002, \"mass_rank\": 1}, {\"name\": \"HD 106252 b\", \"mass\": 1.898e+28, \"discovery_year\": 2002, \"mass_rank\": 2}, {\"name\": \"HD 162020 b\", \"mass\": 1.8676319999999999e+28, \"discovery_year\": 2002, \"mass_rank\": 3}, {\"name\": \"HD 41004 B b\", \"mass\": 3.486626e+28, \"discovery_year\": 2003, \"mass_rank\": 1}, {\"name\": \"HD 23596 b\", \"mass\": 2.19459097e+28, \"discovery_year\": 2003, \"mass_rank\": 2}, {\"name\": \"Gamma Cephei b\", \"mass\": 1.78412e+28, \"discovery_year\": 2003, \"mass_rank\": 3}, {\"name\": \"GQ Lupi b\", \"mass\": 3.796e+28, \"discovery_year\": 2004, \"mass_rank\": 1}, {\"name\": \"HD 202206 c\", \"mass\": 3.3974199999999997e+28, \"discovery_year\": 2004, \"mass_rank\": 2}, {\"name\": \"DH Tauri b\", \"mass\": 2.0878e+28, \"discovery_year\": 2004, \"mass_rank\": 3}, {\"name\": \"AB Pictoris b\", \"mass\": 2.5623e+28, \"discovery_year\": 2005, \"mass_rank\": 1}, {\"name\": \"HD 13189 b\", \"mass\": 2.07831e+28, \"discovery_year\": 2005, \"mass_rank\": 2}, {\"name\": \"HD 66428 b\", \"mass\": 2.0462926379999998e+28, \"discovery_year\": 2005, \"mass_rank\": 3}, {\"name\": \"HN Pegasi b\", \"mass\": 4.1753532599999995e+28, \"discovery_year\": 2006, \"mass_rank\": 1}, {\"name\": \"Ophiuchi 11 b\", \"mass\": 2.6572e+28, \"discovery_year\": 2006, \"mass_rank\": 2}, {\"name\": \"CHXR 73 b\", \"mass\": 2.3855962e+28, \"discovery_year\": 2006, \"mass_rank\": 3}, {\"name\": \"11 Comae Berenices b\", \"mass\": 3.6821199999999994e+28, \"discovery_year\": 2007, \"mass_rank\": 1}, {\"name\": \"CT Chamaleontis b\", \"mass\": 3.2265999999999997e+28, \"discovery_year\": 2007, \"mass_rank\": 2}, {\"name\": \"HD 156846 b\", \"mass\": 2.025166e+28, \"discovery_year\": 2007, \"mass_rank\": 3}, {\"name\": \"CoRoT-3 b\", \"mass\": 4.111068e+28, \"discovery_year\": 2008, \"mass_rank\": 1}, {\"name\": \"HD 139357 b\", \"mass\": 3.771491126e+28, \"discovery_year\": 2008, \"mass_rank\": 2}, {\"name\": \"FU Tauri b\", \"mass\": 3.0368e+28, \"discovery_year\": 2008, \"mass_rank\": 3}, {\"name\": \"BD+20 2457 b\", \"mass\": 1.0550982e+29, \"discovery_year\": 2009, \"mass_rank\": 1}, {\"name\": \"11 Ursae Minoris b\", \"mass\": 2.797652e+28, \"discovery_year\": 2009, \"mass_rank\": 2}, {\"name\": \"HAT-P-13 c\", \"mass\": 2.7103439999999998e+28, \"discovery_year\": 2009, \"mass_rank\": 3}, {\"name\": \"HIP 78530 b\", \"mass\": 4.3654e+28, \"discovery_year\": 2010, \"mass_rank\": 1}, {\"name\": \"HD 180314 b\", \"mass\": 3.8206739999999995e+28, \"discovery_year\": 2010, \"mass_rank\": 2}, {\"name\": \"GSC 06214-00210 b\", \"mass\": 3.0368e+28, \"discovery_year\": 2010, \"mass_rank\": 3}, {\"name\": \"HD 96127 b\", \"mass\": 3.978208e+28, \"discovery_year\": 2011, \"mass_rank\": 1}, {\"name\": \"Kepler-39 b\", \"mass\": 3.8149800000000003e+28, \"discovery_year\": 2011, \"mass_rank\": 2}, {\"name\": \"HD 240237 b\", \"mass\": 3.015922e+28, \"discovery_year\": 2011, \"mass_rank\": 3}, {\"name\": \"KELT-1 b\", \"mass\": 5.168254e+28, \"discovery_year\": 2012, \"mass_rank\": 1}, {\"name\": \"Nu Ophiuchi c\", \"mass\": 4.6808475999999995e+28, \"discovery_year\": 2012, \"mass_rank\": 2}, {\"name\": \"Nu Ophiuchi b\", \"mass\": 4.2146988e+28, \"discovery_year\": 2012, \"mass_rank\": 3}, {\"name\": \"PH2 b\", \"mass\": 1.5184e+29, \"discovery_year\": 2013, \"mass_rank\": 1}, {\"name\": \"DENIS-P J082303.1-491201 b\", \"mass\": 5.4093e+28, \"discovery_year\": 2013, \"mass_rank\": 2}, {\"name\": \"2MASS J01225093-2439505 b\", \"mass\": 4.6501e+28, \"discovery_year\": 2013, \"mass_rank\": 3}, {\"name\": \"HD 100546 b\", \"mass\": 1.427296e+30, \"discovery_year\": 2014, \"mass_rank\": 1}, {\"name\": \"HIP 97233 b\", \"mass\": 3.821473058e+28, \"discovery_year\": 2014, \"mass_rank\": 2}, {\"name\": \"HD 14067 b\", \"mass\": 2.98694903e+28, \"discovery_year\": 2014, \"mass_rank\": 3}, {\"name\": \"2MASS J02192210-3925225 b\", \"mass\": 2.63822e+28, \"discovery_year\": 2015, \"mass_rank\": 1}, {\"name\": \"HD 24064 b\", \"mass\": 2.446522e+28, \"discovery_year\": 2015, \"mass_rank\": 2}, {\"name\": \"VHS J125601.92-125723.9 b\", \"mass\": 2.1257599999999996e+28, \"discovery_year\": 2015, \"mass_rank\": 3}, {\"name\": \"K2-52 b\", \"mass\": 2.73312e+29, \"discovery_year\": 2016, \"mass_rank\": 1}, {\"name\": \"Kepler-718 b\", \"mass\": 2.4863799999999998e+29, \"discovery_year\": 2016, \"mass_rank\": 2}, {\"name\": \"Kepler-488 b\", \"mass\": 2.35352e+29, \"discovery_year\": 2016, \"mass_rank\": 3}, {\"name\": \"MXB 1658-298 b\", \"mass\": 4.49826e+28, \"discovery_year\": 2017, \"mass_rank\": 1}, {\"name\": \"Kepler-448 c\", \"mass\": 4.1756e+28, \"discovery_year\": 2017, \"mass_rank\": 2}, {\"name\": \"WASP-53 c\", \"mass\": 3.1032300000000003e+28, \"discovery_year\": 2017, \"mass_rank\": 3}, {\"name\": \"HD 217850 b\", \"mass\": 4.09968e+28, \"discovery_year\": 2018, \"mass_rank\": 1}, {\"name\": \"KMT-2016-BLG-0212L b\", \"mass\": 3.4164e+28, \"discovery_year\": 2018, \"mass_rank\": 2}, {\"name\": \"CoRoT-20 c\", \"mass\": 3.2265999999999997e+28, \"discovery_year\": 2018, \"mass_rank\": 3}, {\"name\": \"HD 125390 b\", \"mass\": 5.473435318e+28, \"discovery_year\": 2019, \"mass_rank\": 1}, {\"name\": \"HIP 79098 AB b\", \"mass\": 3.8909e+28, \"discovery_year\": 2019, \"mass_rank\": 2}, {\"name\": \"HD 221420 b\", \"mass\": 3.8000807e+28, \"discovery_year\": 2019, \"mass_rank\": 3}, {\"name\": \"HD 81817 b\", \"mass\": 5.036538494e+28, \"discovery_year\": 2020, \"mass_rank\": 1}, {\"name\": \"TYC 8998-760-1 b\", \"mass\": 2.6572e+28, \"discovery_year\": 2020, \"mass_rank\": 2}, {\"name\": \"WD 1856+534 b\", \"mass\": 2.6192400000000003e+28, \"discovery_year\": 2020, \"mass_rank\": 3}, {\"name\": \"HD 206893 b\", \"mass\": 5.3144e+28, \"discovery_year\": 2021, \"mass_rank\": 1}, {\"name\": \"BD-00 4475 b\", \"mass\": 4.75449e+28, \"discovery_year\": 2021, \"mass_rank\": 2}, {\"name\": \"HIP 75056 A b\", \"mass\": 4.7449999999999995e+28, \"discovery_year\": 2021, \"mass_rank\": 3}, {\"name\": \"HIP 19976 c\", \"mass\": 5.674238023999999e+28, \"discovery_year\": 2022, \"mass_rank\": 1}, {\"name\": \"HD 188641 b\", \"mass\": 5.531434402e+28, \"discovery_year\": 2022, \"mass_rank\": 2}, {\"name\": \"HD 153557 d\", \"mass\": 5.18378913e+28, \"discovery_year\": 2022, \"mass_rank\": 3}, {\"name\": \"TOI-4562 b\", \"mass\": 4.3653999999999995e+27, \"discovery_year\": 2023, \"mass_rank\": 1}, {\"name\": \"TOI-1694 c\", \"mass\": 1.9929e+27, \"discovery_year\": 2023, \"mass_rank\": 2}, {\"name\": \"TOI-1669 b\", \"mass\": 1.0875539999999999e+27, \"discovery_year\": 2023, \"mass_rank\": 3}]'"
      ]
     },
     "execution_count": 15,
     "metadata": {},
     "output_type": "execute_result"
    }
   ],
   "source": [
    "run_query(sql_queries[0],cursor)"
   ]
  },
  {
   "cell_type": "code",
   "execution_count": null,
   "metadata": {},
   "outputs": [],
   "source": [
    "sql_queries[0]"
   ]
  },
  {
   "cell_type": "code",
   "execution_count": 16,
   "metadata": {},
   "outputs": [],
   "source": [
    "generated_sql_df['results'] = generated_sql_df['answer'].map(lambda query: run_query(query,cursor))\n",
    "generated_sql_df_extra['results'] = generated_sql_df_extra['answer'].map(lambda query: run_query(query,cursor))"
   ]
  },
  {
   "cell_type": "code",
   "execution_count": 17,
   "metadata": {},
   "outputs": [
    {
     "data": {
      "text/html": [
       "<div>\n",
       "<style scoped>\n",
       "    .dataframe tbody tr th:only-of-type {\n",
       "        vertical-align: middle;\n",
       "    }\n",
       "\n",
       "    .dataframe tbody tr th {\n",
       "        vertical-align: top;\n",
       "    }\n",
       "\n",
       "    .dataframe thead th {\n",
       "        text-align: right;\n",
       "    }\n",
       "</style>\n",
       "<table border=\"1\" class=\"dataframe\">\n",
       "  <thead>\n",
       "    <tr style=\"text-align: right;\">\n",
       "      <th></th>\n",
       "      <th>context</th>\n",
       "      <th>question</th>\n",
       "      <th>answer</th>\n",
       "      <th>results</th>\n",
       "    </tr>\n",
       "  </thead>\n",
       "  <tbody>\n",
       "    <tr>\n",
       "      <th>0</th>\n",
       "      <td>CREATE TABLE exoplanets (\\n    name TEXT,\\n    distance REAL,\\n    stellar_magnitude REAL,\\n    planet_type TEXT,\\n    discovery_year INTEGER,\\n    mass_multiplier REAL,\\n    mass_wrt TEXT,\\n    radius_multiplier REAL,\\n    radius_wrt TEXT,\\n    orbital_radius REAL,\\n    orbital_period REAL,\\n    eccentricity REAL,\\n    detection_method TEXT\\n); CREATE TABLE reference_planets (name TEXT, mass REAL);  'mass_wrt' in exoplanets table has a one-to-one match to 'name' in reference_planets table, and  'name' refers to either Earth or Jupyter, with Jupyter having 317.8 the mass of Earth.</td>\n",
       "      <td>Rank exoplanets based on their mass within each discovery year and return the top 3 planets with the highest mass.</td>\n",
       "      <td>WITH RankedExoplanets AS (\\n    SELECT \\n        e.name,\\n        e.mass_multiplier * r.mass AS mass,\\n        e.discovery_year,\\n        RANK() OVER (PARTITION BY e.discovery_year ORDER BY e.mass_multiplier * r.mass DESC) AS mass_rank\\n    FROM exoplanets e\\n    JOIN reference_planets r ON e.mass_wrt = r.name\\n)\\n\\nSELECT * \\nFROM RankedExoplanets\\nWHERE mass_rank &lt;= 3;</td>\n",
       "      <td>[{\"name\": \"PSR B1257+12 c\", \"mass\": 2.56796e+25, \"discovery_year\": 1992, \"mass_rank\": 1}, {\"name\": \"PSR B1257+12 d\", \"mass\": 2.32908e+25, \"discovery_year\": 1992, \"mass_rank\": 2}, {\"name\": \"PSR B1257+12 b\", \"mass\": 1.1944000000000001e+23, \"discovery_year\": 1994, \"mass_rank\": 1}, {\"name\": \"51 Pegasi b\", \"mass\": 8.730800000000001e+26, \"discovery_year\": 1995, \"mass_rank\": 1}, {\"name\": \"70 Virginis b\", \"mass\": 1.421602e+28, \"discovery_year\": 1996, \"mass_rank\": 1}, {\"name\": \"Tau Bootis b\", \"mass\": 1.12931e+28, \"discovery_year\": 1996, \"mass_rank\": 2}, {\"name\": \"47 Ursae Majoris b\", \"mass\": 4.8019399999999994e+27, \"discovery_year\": 1996, \"mass_rank\": 3}, {\"name\": \"Rho Coronae Borealis b\", \"mass\": 1.9832202e+27, \"discovery_year\": 1997, \"mass_rank\": 1}, {\"name\": \"HD 168443 b\", \"mass\": 1.4468643799999999e+28, \"discovery_year\": 1998, \"mass_rank\": 1}, {\"name\": \"HD 195019 b\", \"mass\": 7.55404e+27, \"discovery_year\": 1998, \"mass_rank\": 2}, {\"name\": \"GJ 876 b\", \"mass\": 4.3190887999999995e+27, \"disco...</td>\n",
       "    </tr>\n",
       "    <tr>\n",
       "      <th>1</th>\n",
       "      <td>CREATE TABLE exoplanets (\\n    name TEXT,\\n    distance REAL,\\n    stellar_magnitude REAL,\\n    planet_type TEXT,\\n    discovery_year INTEGER,\\n    mass_multiplier REAL,\\n    mass_wrt TEXT,\\n    radius_multiplier REAL,\\n    radius_wrt TEXT,\\n    orbital_radius REAL,\\n    orbital_period REAL,\\n    eccentricity REAL,\\n    detection_method TEXT\\n); CREATE TABLE reference_planets (name TEXT, mass REAL);  'mass_wrt' in exoplanets table has a one-to-one match to 'name' in reference_planets table, and  'name' refers to either Earth or Jupyter, with Jupyter having 317.8 the mass of Earth.</td>\n",
       "      <td>Calculate a moving average of the number of exoplanets discovered over a 5-year period.</td>\n",
       "      <td>WITH DiscoveryCounts AS (\\n    SELECT \\n        discovery_year,\\n        COUNT(*) AS num_discoveries\\n    FROM exoplanets\\n    GROUP BY discovery_year\\n)\\n\\nSELECT \\n    discovery_year,\\n    num_discoveries,\\n    AVG(num_discoveries) OVER (ORDER BY discovery_year ROWS BETWEEN 4 PRECEDING AND CURRENT ROW) AS moving_avg\\nFROM DiscoveryCounts\\nORDER BY discovery_year;</td>\n",
       "      <td>[{\"discovery_year\": 1992, \"num_discoveries\": 2, \"moving_avg\": 2.0}, {\"discovery_year\": 1994, \"num_discoveries\": 1, \"moving_avg\": 1.5}, {\"discovery_year\": 1995, \"num_discoveries\": 1, \"moving_avg\": 1.3333333333333333}, {\"discovery_year\": 1996, \"num_discoveries\": 6, \"moving_avg\": 2.5}, {\"discovery_year\": 1997, \"num_discoveries\": 1, \"moving_avg\": 2.2}, {\"discovery_year\": 1998, \"num_discoveries\": 6, \"moving_avg\": 3.0}, {\"discovery_year\": 1999, \"num_discoveries\": 13, \"moving_avg\": 5.4}, {\"discovery_year\": 2000, \"num_discoveries\": 16, \"moving_avg\": 8.4}, {\"discovery_year\": 2001, \"num_discoveries\": 12, \"moving_avg\": 9.6}, {\"discovery_year\": 2002, \"num_discoveries\": 29, \"moving_avg\": 15.2}, {\"discovery_year\": 2003, \"num_discoveries\": 22, \"moving_avg\": 18.4}, {\"discovery_year\": 2004, \"num_discoveries\": 27, \"moving_avg\": 21.2}, {\"discovery_year\": 2005, \"num_discoveries\": 36, \"moving_avg\": 25.2}, {\"discovery_year\": 2006, \"num_discoveries\": 31, \"moving_avg\": 29.0}, {\"discovery_year\": 2007, \"num...</td>\n",
       "    </tr>\n",
       "    <tr>\n",
       "      <th>2</th>\n",
       "      <td>CREATE TABLE exoplanets (\\n    name TEXT,\\n    distance REAL,\\n    stellar_magnitude REAL,\\n    planet_type TEXT,\\n    discovery_year INTEGER,\\n    mass_multiplier REAL,\\n    mass_wrt TEXT,\\n    radius_multiplier REAL,\\n    radius_wrt TEXT,\\n    orbital_radius REAL,\\n    orbital_period REAL,\\n    eccentricity REAL,\\n    detection_method TEXT\\n); CREATE TABLE reference_planets (name TEXT, mass REAL);  'mass_wrt' in exoplanets table has a one-to-one match to 'name' in reference_planets table, and  'name' refers to either Earth or Jupyter, with Jupyter having 317.8 the mass of Earth.</td>\n",
       "      <td>Compare each exoplanet’s mass with other exoplanets discovered in the same year, showing exoplanets that are heavier than others discovered the same year</td>\n",
       "      <td>SELECT \\n    e1.name AS exoplanet_name,\\n    e1.mass_multiplier * r1.mass AS exoplanet_mass,\\n    e2.name AS compared_exoplanet,\\n    e2.mass_multiplier * r2.mass AS compared_mass\\nFROM exoplanets e1\\nJOIN reference_planets r1 ON e1.mass_wrt = r1.name\\nJOIN exoplanets e2 ON e1.discovery_year = e2.discovery_year AND e1.name != e2.name\\nJOIN reference_planets r2 ON e2.mass_wrt = r2.name\\nWHERE e1.mass_multiplier * r1.mass &gt; e2.mass_multiplier * r2.mass;</td>\n",
       "      <td>[{\"exoplanet_name\": \"11 Comae Berenices b\", \"exoplanet_mass\": 3.6821199999999994e+28, \"compared_exoplanet\": \"55 Cancri f\", \"compared_mass\": 2.6761799999999996e+26}, {\"exoplanet_name\": \"11 Comae Berenices b\", \"exoplanet_mass\": 3.6821199999999994e+28, \"compared_exoplanet\": \"BD-13 2130 b\", \"compared_mass\": 1.8562439999999998e+28}, {\"exoplanet_name\": \"11 Comae Berenices b\", \"exoplanet_mass\": 3.6821199999999994e+28, \"compared_exoplanet\": \"CT Chamaleontis b\", \"compared_mass\": 3.2265999999999997e+28}, {\"exoplanet_name\": \"11 Comae Berenices b\", \"exoplanet_mass\": 3.6821199999999994e+28, \"compared_exoplanet\": \"GJ 317 b\", \"compared_mass\": 4.745e+27}, {\"exoplanet_name\": \"11 Comae Berenices b\", \"exoplanet_mass\": 3.6821199999999994e+28, \"compared_exoplanet\": \"GJ 581 c\", \"compared_mass\": 3.2846e+25}, {\"exoplanet_name\": \"11 Comae Berenices b\", \"exoplanet_mass\": 3.6821199999999994e+28, \"compared_exoplanet\": \"GJ 674 b\", \"compared_mass\": 6.622948e+25}, {\"exoplanet_name\": \"11 Comae Berenices b\", \"exop...</td>\n",
       "    </tr>\n",
       "    <tr>\n",
       "      <th>3</th>\n",
       "      <td>CREATE TABLE exoplanets (\\n    name TEXT,\\n    distance REAL,\\n    stellar_magnitude REAL,\\n    planet_type TEXT,\\n    discovery_year INTEGER,\\n    mass_multiplier REAL,\\n    mass_wrt TEXT,\\n    radius_multiplier REAL,\\n    radius_wrt TEXT,\\n    orbital_radius REAL,\\n    orbital_period REAL,\\n    eccentricity REAL,\\n    detection_method TEXT\\n); CREATE TABLE reference_planets (name TEXT, mass REAL);  'mass_wrt' in exoplanets table has a one-to-one match to 'name' in reference_planets table, and  'name' refers to either Earth or Jupyter, with Jupyter having 317.8 the mass of Earth.</td>\n",
       "      <td>Get a count of unique exoplanets discovered using each method, along with the first discovery year, order by the number of unique exoplanets</td>\n",
       "      <td>WITH DistinctMethods AS (\\n    SELECT \\n        detection_method,\\n        COUNT(DISTINCT e.name) AS unique_exoplanets,\\n        MIN(discovery_year) AS first_discovery_year\\n    FROM exoplanets e\\n    GROUP BY detection_method\\n)\\nSELECT *\\nFROM DistinctMethods\\nORDER BY unique_exoplanets DESC;</td>\n",
       "      <td>[{\"detection_method\": \"Transit\", \"unique_exoplanets\": 3945, \"first_discovery_year\": 2002}, {\"detection_method\": \"Radial Velocity\", \"unique_exoplanets\": 1027, \"first_discovery_year\": 1995}, {\"detection_method\": \"Gravitational Microlensing\", \"unique_exoplanets\": 154, \"first_discovery_year\": 2004}, {\"detection_method\": \"Direct Imaging\", \"unique_exoplanets\": 62, \"first_discovery_year\": 2004}, {\"detection_method\": \"Transit Timing Variations\", \"unique_exoplanets\": 24, \"first_discovery_year\": 2011}, {\"detection_method\": \"Eclipse Timing Variations\", \"unique_exoplanets\": 17, \"first_discovery_year\": 2009}, {\"detection_method\": \"Orbital Brightness Modulation\", \"unique_exoplanets\": 9, \"first_discovery_year\": 2011}, {\"detection_method\": \"Pulsar Timing\", \"unique_exoplanets\": 7, \"first_discovery_year\": 1992}, {\"detection_method\": \"Astrometry\", \"unique_exoplanets\": 2, \"first_discovery_year\": 2013}, {\"detection_method\": \"Pulsation Timing Variations\", \"unique_exoplanets\": 2, \"first_discovery_year\": ...</td>\n",
       "    </tr>\n",
       "    <tr>\n",
       "      <th>4</th>\n",
       "      <td>CREATE TABLE exoplanets (\\n    name TEXT,\\n    distance REAL,\\n    stellar_magnitude REAL,\\n    planet_type TEXT,\\n    discovery_year INTEGER,\\n    mass_multiplier REAL,\\n    mass_wrt TEXT,\\n    radius_multiplier REAL,\\n    radius_wrt TEXT,\\n    orbital_radius REAL,\\n    orbital_period REAL,\\n    eccentricity REAL,\\n    detection_method TEXT\\n); CREATE TABLE reference_planets (name TEXT, mass REAL);  'mass_wrt' in exoplanets table has a one-to-one match to 'name' in reference_planets table, and  'name' refers to either Earth or Jupyter, with Jupyter having 317.8 the mass of Earth.</td>\n",
       "      <td>Determine the cumulative number of exoplanets discovered over the years.</td>\n",
       "      <td>WITH CumulativeDiscoveries AS (\\n    SELECT \\n        discovery_year,\\n        COUNT(*) AS num_discoveries\\n    FROM exoplanets\\n    GROUP BY discovery_year\\n)\\n\\nSELECT \\n    discovery_year,\\n    num_discoveries,\\n    SUM(num_discoveries) OVER (ORDER BY discovery_year) AS cumulative_count\\nFROM CumulativeDiscoveries\\nORDER BY discovery_year;</td>\n",
       "      <td>[{\"discovery_year\": 1992, \"num_discoveries\": 2, \"cumulative_count\": 2}, {\"discovery_year\": 1994, \"num_discoveries\": 1, \"cumulative_count\": 3}, {\"discovery_year\": 1995, \"num_discoveries\": 1, \"cumulative_count\": 4}, {\"discovery_year\": 1996, \"num_discoveries\": 6, \"cumulative_count\": 10}, {\"discovery_year\": 1997, \"num_discoveries\": 1, \"cumulative_count\": 11}, {\"discovery_year\": 1998, \"num_discoveries\": 6, \"cumulative_count\": 17}, {\"discovery_year\": 1999, \"num_discoveries\": 13, \"cumulative_count\": 30}, {\"discovery_year\": 2000, \"num_discoveries\": 16, \"cumulative_count\": 46}, {\"discovery_year\": 2001, \"num_discoveries\": 12, \"cumulative_count\": 58}, {\"discovery_year\": 2002, \"num_discoveries\": 29, \"cumulative_count\": 87}, {\"discovery_year\": 2003, \"num_discoveries\": 22, \"cumulative_count\": 109}, {\"discovery_year\": 2004, \"num_discoveries\": 27, \"cumulative_count\": 136}, {\"discovery_year\": 2005, \"num_discoveries\": 36, \"cumulative_count\": 172}, {\"discovery_year\": 2006, \"num_discoveries\": 31, \"cum...</td>\n",
       "    </tr>\n",
       "  </tbody>\n",
       "</table>\n",
       "</div>"
      ],
      "text/plain": [
       "                                                                                                                                                                                                                                                                                                                                                                                                                                                                                                                                                                                                       context  \\\n",
       "0  CREATE TABLE exoplanets (\\n    name TEXT,\\n    distance REAL,\\n    stellar_magnitude REAL,\\n    planet_type TEXT,\\n    discovery_year INTEGER,\\n    mass_multiplier REAL,\\n    mass_wrt TEXT,\\n    radius_multiplier REAL,\\n    radius_wrt TEXT,\\n    orbital_radius REAL,\\n    orbital_period REAL,\\n    eccentricity REAL,\\n    detection_method TEXT\\n); CREATE TABLE reference_planets (name TEXT, mass REAL);  'mass_wrt' in exoplanets table has a one-to-one match to 'name' in reference_planets table, and  'name' refers to either Earth or Jupyter, with Jupyter having 317.8 the mass of Earth.   \n",
       "1  CREATE TABLE exoplanets (\\n    name TEXT,\\n    distance REAL,\\n    stellar_magnitude REAL,\\n    planet_type TEXT,\\n    discovery_year INTEGER,\\n    mass_multiplier REAL,\\n    mass_wrt TEXT,\\n    radius_multiplier REAL,\\n    radius_wrt TEXT,\\n    orbital_radius REAL,\\n    orbital_period REAL,\\n    eccentricity REAL,\\n    detection_method TEXT\\n); CREATE TABLE reference_planets (name TEXT, mass REAL);  'mass_wrt' in exoplanets table has a one-to-one match to 'name' in reference_planets table, and  'name' refers to either Earth or Jupyter, with Jupyter having 317.8 the mass of Earth.   \n",
       "2  CREATE TABLE exoplanets (\\n    name TEXT,\\n    distance REAL,\\n    stellar_magnitude REAL,\\n    planet_type TEXT,\\n    discovery_year INTEGER,\\n    mass_multiplier REAL,\\n    mass_wrt TEXT,\\n    radius_multiplier REAL,\\n    radius_wrt TEXT,\\n    orbital_radius REAL,\\n    orbital_period REAL,\\n    eccentricity REAL,\\n    detection_method TEXT\\n); CREATE TABLE reference_planets (name TEXT, mass REAL);  'mass_wrt' in exoplanets table has a one-to-one match to 'name' in reference_planets table, and  'name' refers to either Earth or Jupyter, with Jupyter having 317.8 the mass of Earth.   \n",
       "3  CREATE TABLE exoplanets (\\n    name TEXT,\\n    distance REAL,\\n    stellar_magnitude REAL,\\n    planet_type TEXT,\\n    discovery_year INTEGER,\\n    mass_multiplier REAL,\\n    mass_wrt TEXT,\\n    radius_multiplier REAL,\\n    radius_wrt TEXT,\\n    orbital_radius REAL,\\n    orbital_period REAL,\\n    eccentricity REAL,\\n    detection_method TEXT\\n); CREATE TABLE reference_planets (name TEXT, mass REAL);  'mass_wrt' in exoplanets table has a one-to-one match to 'name' in reference_planets table, and  'name' refers to either Earth or Jupyter, with Jupyter having 317.8 the mass of Earth.   \n",
       "4  CREATE TABLE exoplanets (\\n    name TEXT,\\n    distance REAL,\\n    stellar_magnitude REAL,\\n    planet_type TEXT,\\n    discovery_year INTEGER,\\n    mass_multiplier REAL,\\n    mass_wrt TEXT,\\n    radius_multiplier REAL,\\n    radius_wrt TEXT,\\n    orbital_radius REAL,\\n    orbital_period REAL,\\n    eccentricity REAL,\\n    detection_method TEXT\\n); CREATE TABLE reference_planets (name TEXT, mass REAL);  'mass_wrt' in exoplanets table has a one-to-one match to 'name' in reference_planets table, and  'name' refers to either Earth or Jupyter, with Jupyter having 317.8 the mass of Earth.   \n",
       "\n",
       "                                                                                                                                                    question  \\\n",
       "0                                         Rank exoplanets based on their mass within each discovery year and return the top 3 planets with the highest mass.   \n",
       "1                                                                    Calculate a moving average of the number of exoplanets discovered over a 5-year period.   \n",
       "2  Compare each exoplanet’s mass with other exoplanets discovered in the same year, showing exoplanets that are heavier than others discovered the same year   \n",
       "3               Get a count of unique exoplanets discovered using each method, along with the first discovery year, order by the number of unique exoplanets   \n",
       "4                                                                                   Determine the cumulative number of exoplanets discovered over the years.   \n",
       "\n",
       "                                                                                                                                                                                                                                                                                                                                                                                                                                                                      answer  \\\n",
       "0                                                                                     WITH RankedExoplanets AS (\\n    SELECT \\n        e.name,\\n        e.mass_multiplier * r.mass AS mass,\\n        e.discovery_year,\\n        RANK() OVER (PARTITION BY e.discovery_year ORDER BY e.mass_multiplier * r.mass DESC) AS mass_rank\\n    FROM exoplanets e\\n    JOIN reference_planets r ON e.mass_wrt = r.name\\n)\\n\\nSELECT * \\nFROM RankedExoplanets\\nWHERE mass_rank <= 3;    \n",
       "1                                                                                            WITH DiscoveryCounts AS (\\n    SELECT \\n        discovery_year,\\n        COUNT(*) AS num_discoveries\\n    FROM exoplanets\\n    GROUP BY discovery_year\\n)\\n\\nSELECT \\n    discovery_year,\\n    num_discoveries,\\n    AVG(num_discoveries) OVER (ORDER BY discovery_year ROWS BETWEEN 4 PRECEDING AND CURRENT ROW) AS moving_avg\\nFROM DiscoveryCounts\\nORDER BY discovery_year;   \n",
       "2  SELECT \\n    e1.name AS exoplanet_name,\\n    e1.mass_multiplier * r1.mass AS exoplanet_mass,\\n    e2.name AS compared_exoplanet,\\n    e2.mass_multiplier * r2.mass AS compared_mass\\nFROM exoplanets e1\\nJOIN reference_planets r1 ON e1.mass_wrt = r1.name\\nJOIN exoplanets e2 ON e1.discovery_year = e2.discovery_year AND e1.name != e2.name\\nJOIN reference_planets r2 ON e2.mass_wrt = r2.name\\nWHERE e1.mass_multiplier * r1.mass > e2.mass_multiplier * r2.mass;     \n",
       "3                                                                                                                                                                  WITH DistinctMethods AS (\\n    SELECT \\n        detection_method,\\n        COUNT(DISTINCT e.name) AS unique_exoplanets,\\n        MIN(discovery_year) AS first_discovery_year\\n    FROM exoplanets e\\n    GROUP BY detection_method\\n)\\nSELECT *\\nFROM DistinctMethods\\nORDER BY unique_exoplanets DESC;     \n",
       "4                                                                                                                   WITH CumulativeDiscoveries AS (\\n    SELECT \\n        discovery_year,\\n        COUNT(*) AS num_discoveries\\n    FROM exoplanets\\n    GROUP BY discovery_year\\n)\\n\\nSELECT \\n    discovery_year,\\n    num_discoveries,\\n    SUM(num_discoveries) OVER (ORDER BY discovery_year) AS cumulative_count\\nFROM CumulativeDiscoveries\\nORDER BY discovery_year;   \n",
       "\n",
       "                                                                                                                                                                                                                                                                                                                                                                                                                                                                                                                                                                                                                                                                                                                                                                                                                                                                                                                                                                                                                                   results  \n",
       "0  [{\"name\": \"PSR B1257+12 c\", \"mass\": 2.56796e+25, \"discovery_year\": 1992, \"mass_rank\": 1}, {\"name\": \"PSR B1257+12 d\", \"mass\": 2.32908e+25, \"discovery_year\": 1992, \"mass_rank\": 2}, {\"name\": \"PSR B1257+12 b\", \"mass\": 1.1944000000000001e+23, \"discovery_year\": 1994, \"mass_rank\": 1}, {\"name\": \"51 Pegasi b\", \"mass\": 8.730800000000001e+26, \"discovery_year\": 1995, \"mass_rank\": 1}, {\"name\": \"70 Virginis b\", \"mass\": 1.421602e+28, \"discovery_year\": 1996, \"mass_rank\": 1}, {\"name\": \"Tau Bootis b\", \"mass\": 1.12931e+28, \"discovery_year\": 1996, \"mass_rank\": 2}, {\"name\": \"47 Ursae Majoris b\", \"mass\": 4.8019399999999994e+27, \"discovery_year\": 1996, \"mass_rank\": 3}, {\"name\": \"Rho Coronae Borealis b\", \"mass\": 1.9832202e+27, \"discovery_year\": 1997, \"mass_rank\": 1}, {\"name\": \"HD 168443 b\", \"mass\": 1.4468643799999999e+28, \"discovery_year\": 1998, \"mass_rank\": 1}, {\"name\": \"HD 195019 b\", \"mass\": 7.55404e+27, \"discovery_year\": 1998, \"mass_rank\": 2}, {\"name\": \"GJ 876 b\", \"mass\": 4.3190887999999995e+27, \"disco...  \n",
       "1  [{\"discovery_year\": 1992, \"num_discoveries\": 2, \"moving_avg\": 2.0}, {\"discovery_year\": 1994, \"num_discoveries\": 1, \"moving_avg\": 1.5}, {\"discovery_year\": 1995, \"num_discoveries\": 1, \"moving_avg\": 1.3333333333333333}, {\"discovery_year\": 1996, \"num_discoveries\": 6, \"moving_avg\": 2.5}, {\"discovery_year\": 1997, \"num_discoveries\": 1, \"moving_avg\": 2.2}, {\"discovery_year\": 1998, \"num_discoveries\": 6, \"moving_avg\": 3.0}, {\"discovery_year\": 1999, \"num_discoveries\": 13, \"moving_avg\": 5.4}, {\"discovery_year\": 2000, \"num_discoveries\": 16, \"moving_avg\": 8.4}, {\"discovery_year\": 2001, \"num_discoveries\": 12, \"moving_avg\": 9.6}, {\"discovery_year\": 2002, \"num_discoveries\": 29, \"moving_avg\": 15.2}, {\"discovery_year\": 2003, \"num_discoveries\": 22, \"moving_avg\": 18.4}, {\"discovery_year\": 2004, \"num_discoveries\": 27, \"moving_avg\": 21.2}, {\"discovery_year\": 2005, \"num_discoveries\": 36, \"moving_avg\": 25.2}, {\"discovery_year\": 2006, \"num_discoveries\": 31, \"moving_avg\": 29.0}, {\"discovery_year\": 2007, \"num...  \n",
       "2  [{\"exoplanet_name\": \"11 Comae Berenices b\", \"exoplanet_mass\": 3.6821199999999994e+28, \"compared_exoplanet\": \"55 Cancri f\", \"compared_mass\": 2.6761799999999996e+26}, {\"exoplanet_name\": \"11 Comae Berenices b\", \"exoplanet_mass\": 3.6821199999999994e+28, \"compared_exoplanet\": \"BD-13 2130 b\", \"compared_mass\": 1.8562439999999998e+28}, {\"exoplanet_name\": \"11 Comae Berenices b\", \"exoplanet_mass\": 3.6821199999999994e+28, \"compared_exoplanet\": \"CT Chamaleontis b\", \"compared_mass\": 3.2265999999999997e+28}, {\"exoplanet_name\": \"11 Comae Berenices b\", \"exoplanet_mass\": 3.6821199999999994e+28, \"compared_exoplanet\": \"GJ 317 b\", \"compared_mass\": 4.745e+27}, {\"exoplanet_name\": \"11 Comae Berenices b\", \"exoplanet_mass\": 3.6821199999999994e+28, \"compared_exoplanet\": \"GJ 581 c\", \"compared_mass\": 3.2846e+25}, {\"exoplanet_name\": \"11 Comae Berenices b\", \"exoplanet_mass\": 3.6821199999999994e+28, \"compared_exoplanet\": \"GJ 674 b\", \"compared_mass\": 6.622948e+25}, {\"exoplanet_name\": \"11 Comae Berenices b\", \"exop...  \n",
       "3  [{\"detection_method\": \"Transit\", \"unique_exoplanets\": 3945, \"first_discovery_year\": 2002}, {\"detection_method\": \"Radial Velocity\", \"unique_exoplanets\": 1027, \"first_discovery_year\": 1995}, {\"detection_method\": \"Gravitational Microlensing\", \"unique_exoplanets\": 154, \"first_discovery_year\": 2004}, {\"detection_method\": \"Direct Imaging\", \"unique_exoplanets\": 62, \"first_discovery_year\": 2004}, {\"detection_method\": \"Transit Timing Variations\", \"unique_exoplanets\": 24, \"first_discovery_year\": 2011}, {\"detection_method\": \"Eclipse Timing Variations\", \"unique_exoplanets\": 17, \"first_discovery_year\": 2009}, {\"detection_method\": \"Orbital Brightness Modulation\", \"unique_exoplanets\": 9, \"first_discovery_year\": 2011}, {\"detection_method\": \"Pulsar Timing\", \"unique_exoplanets\": 7, \"first_discovery_year\": 1992}, {\"detection_method\": \"Astrometry\", \"unique_exoplanets\": 2, \"first_discovery_year\": 2013}, {\"detection_method\": \"Pulsation Timing Variations\", \"unique_exoplanets\": 2, \"first_discovery_year\": ...  \n",
       "4  [{\"discovery_year\": 1992, \"num_discoveries\": 2, \"cumulative_count\": 2}, {\"discovery_year\": 1994, \"num_discoveries\": 1, \"cumulative_count\": 3}, {\"discovery_year\": 1995, \"num_discoveries\": 1, \"cumulative_count\": 4}, {\"discovery_year\": 1996, \"num_discoveries\": 6, \"cumulative_count\": 10}, {\"discovery_year\": 1997, \"num_discoveries\": 1, \"cumulative_count\": 11}, {\"discovery_year\": 1998, \"num_discoveries\": 6, \"cumulative_count\": 17}, {\"discovery_year\": 1999, \"num_discoveries\": 13, \"cumulative_count\": 30}, {\"discovery_year\": 2000, \"num_discoveries\": 16, \"cumulative_count\": 46}, {\"discovery_year\": 2001, \"num_discoveries\": 12, \"cumulative_count\": 58}, {\"discovery_year\": 2002, \"num_discoveries\": 29, \"cumulative_count\": 87}, {\"discovery_year\": 2003, \"num_discoveries\": 22, \"cumulative_count\": 109}, {\"discovery_year\": 2004, \"num_discoveries\": 27, \"cumulative_count\": 136}, {\"discovery_year\": 2005, \"num_discoveries\": 36, \"cumulative_count\": 172}, {\"discovery_year\": 2006, \"num_discoveries\": 31, \"cum...  "
      ]
     },
     "execution_count": 17,
     "metadata": {},
     "output_type": "execute_result"
    }
   ],
   "source": [
    "generated_sql_df.head()"
   ]
  },
  {
   "cell_type": "code",
   "execution_count": 18,
   "metadata": {},
   "outputs": [],
   "source": [
    "from sklearn.model_selection import train_test_split\n",
    "shuffled_df = generated_sql_df.sample(frac=1,random_state=42).reset_index(drop=True)#.rename(columns={'answer':'SQL'})"
   ]
  },
  {
   "cell_type": "code",
   "execution_count": 19,
   "metadata": {},
   "outputs": [],
   "source": [
    " # roll the dice via random seed but use judgement to get representative set \n",
    "train_df,valid_df = train_test_split(shuffled_df,test_size=10,random_state=177)"
   ]
  },
  {
   "cell_type": "code",
   "execution_count": 20,
   "metadata": {},
   "outputs": [],
   "source": [
    "train_df=pd.concat([train_df,generated_sql_df_extra])#.reset_index(drop=True,inplace=True)\n",
    "train_df.reset_index(drop=True, inplace=True)\n",
    "#train_df['results'] = train_df['answer'].map(lambda query: run_query(query,cursor))"
   ]
  },
  {
   "cell_type": "code",
   "execution_count": 21,
   "metadata": {},
   "outputs": [
    {
     "data": {
      "text/html": [
       "<div>\n",
       "<style scoped>\n",
       "    .dataframe tbody tr th:only-of-type {\n",
       "        vertical-align: middle;\n",
       "    }\n",
       "\n",
       "    .dataframe tbody tr th {\n",
       "        vertical-align: top;\n",
       "    }\n",
       "\n",
       "    .dataframe thead th {\n",
       "        text-align: right;\n",
       "    }\n",
       "</style>\n",
       "<table border=\"1\" class=\"dataframe\">\n",
       "  <thead>\n",
       "    <tr style=\"text-align: right;\">\n",
       "      <th></th>\n",
       "      <th>context</th>\n",
       "      <th>question</th>\n",
       "      <th>answer</th>\n",
       "      <th>results</th>\n",
       "    </tr>\n",
       "  </thead>\n",
       "  <tbody>\n",
       "    <tr>\n",
       "      <th>55</th>\n",
       "      <td>CREATE TABLE exoplanets (\\n    name TEXT,\\n    distance REAL,\\n    stellar_magnitude REAL,\\n    planet_type TEXT,\\n    discovery_year INTEGER,\\n    mass_multiplier REAL,\\n    mass_wrt TEXT,\\n    radius_multiplier REAL,\\n    radius_wrt TEXT,\\n    orbital_radius REAL,\\n    orbital_period REAL,\\n    eccentricity REAL,\\n    detection_method TEXT\\n); CREATE TABLE reference_planets (name TEXT, mass REAL);  'mass_wrt' in exoplanets table has a one-to-one match to 'name' in reference_planets table, and  'name' refers to either Earth or Jupyter, with Jupyter having 317.8 the mass of Earth.</td>\n",
       "      <td>Identify the exoplanets with the lowest radius multipliers, showing their names and calculated radius for each discovery year.</td>\n",
       "      <td>WITH MinRadiusExoplanets AS (\\n    SELECT discovery_year, MIN(radius_multiplier) AS min_radius\\n    FROM exoplanets\\n    GROUP BY discovery_year\\n)\\nSELECT e.discovery_year, e.name, e.radius_multiplier\\nFROM exoplanets e\\nJOIN MinRadiusExoplanets m ON e.discovery_year = m.discovery_year\\nWHERE e.radius_multiplier = m.min_radius;</td>\n",
       "      <td>[{\"discovery_year\": 1995, \"name\": \"51 Pegasi b\", \"radius_multiplier\": 1.27}, {\"discovery_year\": 1996, \"name\": \"70 Virginis b\", \"radius_multiplier\": 1.13}, {\"discovery_year\": 2007, \"name\": \"GJ 674 b\", \"radius_multiplier\": 0.297}, {\"discovery_year\": 2005, \"name\": \"GJ 876 d\", \"radius_multiplier\": 0.224}, {\"discovery_year\": 2019, \"name\": \"Gl 49 b\", \"radius_multiplier\": 0.2}, {\"discovery_year\": 2009, \"name\": \"HD 125595 b\", \"radius_multiplier\": 0.214}, {\"discovery_year\": 2010, \"name\": \"HD 1461 b\", \"radius_multiplier\": 0.216}, {\"discovery_year\": 2004, \"name\": \"HD 160691 d\", \"radius_multiplier\": 0.283}, {\"discovery_year\": 1998, \"name\": \"HD 168443 b\", \"radius_multiplier\": 1.13}, {\"discovery_year\": 2017, \"name\": \"HD 176986 b\", \"radius_multiplier\": 0.202}, {\"discovery_year\": 2008, \"name\": \"HD 181433 b\", \"radius_multiplier\": 0.214}, {\"discovery_year\": 2009, \"name\": \"HD 215497 b\", \"radius_multiplier\": 0.214}, {\"discovery_year\": 2003, \"name\": \"HD 3651 b\", \"radius_multiplier\": 0.899}, {\"discovery...</td>\n",
       "    </tr>\n",
       "    <tr>\n",
       "      <th>56</th>\n",
       "      <td>CREATE TABLE exoplanets (\\n    name TEXT,\\n    distance REAL,\\n    stellar_magnitude REAL,\\n    planet_type TEXT,\\n    discovery_year INTEGER,\\n    mass_multiplier REAL,\\n    mass_wrt TEXT,\\n    radius_multiplier REAL,\\n    radius_wrt TEXT,\\n    orbital_radius REAL,\\n    orbital_period REAL,\\n    eccentricity REAL,\\n    detection_method TEXT\\n); CREATE TABLE reference_planets (name TEXT, mass REAL);  'mass_wrt' in exoplanets table has a one-to-one match to 'name' in reference_planets table, and  'name' refers to either Earth or Jupyter, with Jupyter having 317.8 the mass of Earth.</td>\n",
       "      <td>List exoplanets discovered in 2010 with an eccentricity less than 0.3.</td>\n",
       "      <td>WITH LowEccentricityExoplanets AS (\\n    SELECT name, discovery_year, eccentricity\\n    FROM exoplanets\\n    WHERE discovery_year = 2010 AND eccentricity &lt; 0.3\\n)\\nSELECT *\\nFROM LowEccentricityExoplanets;</td>\n",
       "      <td>[{\"name\": \"24 Sextantis b\", \"discovery_year\": 2010, \"eccentricity\": 0.09}, {\"name\": \"24 Sextantis c\", \"discovery_year\": 2010, \"eccentricity\": 0.29}, {\"name\": \"2MASS J04414489+2301513 b\", \"discovery_year\": 2010, \"eccentricity\": 0.0}, {\"name\": \"Alpha Arietis b\", \"discovery_year\": 2010, \"eccentricity\": 0.25}, {\"name\": \"CoRoT-11 b\", \"discovery_year\": 2010, \"eccentricity\": 0.0}, {\"name\": \"CoRoT-12 b\", \"discovery_year\": 2010, \"eccentricity\": 0.07}, {\"name\": \"CoRoT-13 b\", \"discovery_year\": 2010, \"eccentricity\": 0.0}, {\"name\": \"CoRoT-14 b\", \"discovery_year\": 2010, \"eccentricity\": 0.0}, {\"name\": \"CoRoT-8 b\", \"discovery_year\": 2010, \"eccentricity\": 0.0}, {\"name\": \"GJ 3634 b\", \"discovery_year\": 2010, \"eccentricity\": 0.08}, {\"name\": \"GJ 876 e\", \"discovery_year\": 2010, \"eccentricity\": 0.06}, {\"name\": \"GSC 06214-00210 b\", \"discovery_year\": 2010, \"eccentricity\": 0.0}, {\"name\": \"HAT-P-14 b\", \"discovery_year\": 2010, \"eccentricity\": 0.11}, {\"name\": \"HAT-P-15 b\", \"discovery_year\": 2010, \"eccentricity...</td>\n",
       "    </tr>\n",
       "    <tr>\n",
       "      <th>57</th>\n",
       "      <td>CREATE TABLE exoplanets (\\n    name TEXT,\\n    distance REAL,\\n    stellar_magnitude REAL,\\n    planet_type TEXT,\\n    discovery_year INTEGER,\\n    mass_multiplier REAL,\\n    mass_wrt TEXT,\\n    radius_multiplier REAL,\\n    radius_wrt TEXT,\\n    orbital_radius REAL,\\n    orbital_period REAL,\\n    eccentricity REAL,\\n    detection_method TEXT\\n); CREATE TABLE reference_planets (name TEXT, mass REAL);  'mass_wrt' in exoplanets table has a one-to-one match to 'name' in reference_planets table, and  'name' refers to either Earth or Jupyter, with Jupyter having 317.8 the mass of Earth.</td>\n",
       "      <td>Count the number of exoplanets discovered each year and return the years with the highest counts.</td>\n",
       "      <td>WITH ExoplanetCounts AS (\\n    SELECT discovery_year, COUNT(*) AS count\\n    FROM exoplanets\\n    GROUP BY discovery_year\\n)\\nSELECT *\\nFROM ExoplanetCounts\\nORDER BY count DESC\\nLIMIT 5;</td>\n",
       "      <td>[{\"discovery_year\": 2016, \"count\": 1517}, {\"discovery_year\": 2014, \"count\": 875}, {\"discovery_year\": 2021, \"count\": 525}, {\"discovery_year\": 2022, \"count\": 338}, {\"discovery_year\": 2018, \"count\": 326}]</td>\n",
       "    </tr>\n",
       "    <tr>\n",
       "      <th>58</th>\n",
       "      <td>CREATE TABLE exoplanets (\\n    name TEXT,\\n    distance REAL,\\n    stellar_magnitude REAL,\\n    planet_type TEXT,\\n    discovery_year INTEGER,\\n    mass_multiplier REAL,\\n    mass_wrt TEXT,\\n    radius_multiplier REAL,\\n    radius_wrt TEXT,\\n    orbital_radius REAL,\\n    orbital_period REAL,\\n    eccentricity REAL,\\n    detection_method TEXT\\n); CREATE TABLE reference_planets (name TEXT, mass REAL);  'mass_wrt' in exoplanets table has a one-to-one match to 'name' in reference_planets table, and  'name' refers to either Earth or Jupyter, with Jupyter having 317.8 the mass of Earth.</td>\n",
       "      <td>Identify the exoplanets with eccentricity greater than 0.5, showing their names and discovery years.</td>\n",
       "      <td>WITH HighEccentricityExoplanets AS (\\n    SELECT name, discovery_year, eccentricity\\n    FROM exoplanets\\n    WHERE eccentricity &gt; 0.5\\n)\\nSELECT name, discovery_year\\nFROM HighEccentricityExoplanets;</td>\n",
       "      <td>[{\"name\": \"16 Cygni B b\", \"discovery_year\": 1996}, {\"name\": \"BD-17 63 b\", \"discovery_year\": 2008}, {\"name\": \"BD+48 740 b\", \"discovery_year\": 2018}, {\"name\": \"BD+63 1405 b\", \"discovery_year\": 2021}, {\"name\": \"CoRoT-10 b\", \"discovery_year\": 2010}, {\"name\": \"CoRoT-20 b\", \"discovery_year\": 2011}, {\"name\": \"CoRoT-20 c\", \"discovery_year\": 2018}, {\"name\": \"GJ 1061 d\", \"discovery_year\": 2020}, {\"name\": \"GJ 2056 b\", \"discovery_year\": 2020}, {\"name\": \"GJ 3021 b\", \"discovery_year\": 2000}, {\"name\": \"GJ 3222 b\", \"discovery_year\": 2022}, {\"name\": \"HAT-P-11 c\", \"discovery_year\": 2018}, {\"name\": \"HAT-P-13 c\", \"discovery_year\": 2009}, {\"name\": \"HAT-P-2 b\", \"discovery_year\": 2007}, {\"name\": \"HATS-10 b\", \"discovery_year\": 2015}, {\"name\": \"HATS-27 b\", \"discovery_year\": 2016}, {\"name\": \"HATS-46 b\", \"discovery_year\": 2018}, {\"name\": \"HATS-50 b\", \"discovery_year\": 2017}, {\"name\": \"HATS-69 b\", \"discovery_year\": 2018}, {\"name\": \"HD 106515 A b\", \"discovery_year\": 2012}, {\"name\": \"HD 108147 b\", \"discovery_ye...</td>\n",
       "    </tr>\n",
       "    <tr>\n",
       "      <th>59</th>\n",
       "      <td>CREATE TABLE exoplanets (\\n    name TEXT,\\n    distance REAL,\\n    stellar_magnitude REAL,\\n    planet_type TEXT,\\n    discovery_year INTEGER,\\n    mass_multiplier REAL,\\n    mass_wrt TEXT,\\n    radius_multiplier REAL,\\n    radius_wrt TEXT,\\n    orbital_radius REAL,\\n    orbital_period REAL,\\n    eccentricity REAL,\\n    detection_method TEXT\\n); CREATE TABLE reference_planets (name TEXT, mass REAL);  'mass_wrt' in exoplanets table has a one-to-one match to 'name' in reference_planets table, and  'name' refers to either Earth or Jupyter, with Jupyter having 317.8 the mass of Earth.</td>\n",
       "      <td>Find the average orbital radius of exoplanets discovered in 2005.</td>\n",
       "      <td>WITH AvgOrbitalRadius AS (\\n    SELECT AVG(orbital_radius) AS avg_radius\\n    FROM exoplanets\\n    WHERE discovery_year = 2005\\n)\\nSELECT avg_radius\\nFROM AvgOrbitalRadius;</td>\n",
       "      <td>[{\"avg_radius\": 8.463404805555555}]</td>\n",
       "    </tr>\n",
       "  </tbody>\n",
       "</table>\n",
       "</div>"
      ],
      "text/plain": [
       "                                                                                                                                                                                                                                                                                                                                                                                                                                                                                                                                                                                                        context  \\\n",
       "55  CREATE TABLE exoplanets (\\n    name TEXT,\\n    distance REAL,\\n    stellar_magnitude REAL,\\n    planet_type TEXT,\\n    discovery_year INTEGER,\\n    mass_multiplier REAL,\\n    mass_wrt TEXT,\\n    radius_multiplier REAL,\\n    radius_wrt TEXT,\\n    orbital_radius REAL,\\n    orbital_period REAL,\\n    eccentricity REAL,\\n    detection_method TEXT\\n); CREATE TABLE reference_planets (name TEXT, mass REAL);  'mass_wrt' in exoplanets table has a one-to-one match to 'name' in reference_planets table, and  'name' refers to either Earth or Jupyter, with Jupyter having 317.8 the mass of Earth.   \n",
       "56  CREATE TABLE exoplanets (\\n    name TEXT,\\n    distance REAL,\\n    stellar_magnitude REAL,\\n    planet_type TEXT,\\n    discovery_year INTEGER,\\n    mass_multiplier REAL,\\n    mass_wrt TEXT,\\n    radius_multiplier REAL,\\n    radius_wrt TEXT,\\n    orbital_radius REAL,\\n    orbital_period REAL,\\n    eccentricity REAL,\\n    detection_method TEXT\\n); CREATE TABLE reference_planets (name TEXT, mass REAL);  'mass_wrt' in exoplanets table has a one-to-one match to 'name' in reference_planets table, and  'name' refers to either Earth or Jupyter, with Jupyter having 317.8 the mass of Earth.   \n",
       "57  CREATE TABLE exoplanets (\\n    name TEXT,\\n    distance REAL,\\n    stellar_magnitude REAL,\\n    planet_type TEXT,\\n    discovery_year INTEGER,\\n    mass_multiplier REAL,\\n    mass_wrt TEXT,\\n    radius_multiplier REAL,\\n    radius_wrt TEXT,\\n    orbital_radius REAL,\\n    orbital_period REAL,\\n    eccentricity REAL,\\n    detection_method TEXT\\n); CREATE TABLE reference_planets (name TEXT, mass REAL);  'mass_wrt' in exoplanets table has a one-to-one match to 'name' in reference_planets table, and  'name' refers to either Earth or Jupyter, with Jupyter having 317.8 the mass of Earth.   \n",
       "58  CREATE TABLE exoplanets (\\n    name TEXT,\\n    distance REAL,\\n    stellar_magnitude REAL,\\n    planet_type TEXT,\\n    discovery_year INTEGER,\\n    mass_multiplier REAL,\\n    mass_wrt TEXT,\\n    radius_multiplier REAL,\\n    radius_wrt TEXT,\\n    orbital_radius REAL,\\n    orbital_period REAL,\\n    eccentricity REAL,\\n    detection_method TEXT\\n); CREATE TABLE reference_planets (name TEXT, mass REAL);  'mass_wrt' in exoplanets table has a one-to-one match to 'name' in reference_planets table, and  'name' refers to either Earth or Jupyter, with Jupyter having 317.8 the mass of Earth.   \n",
       "59  CREATE TABLE exoplanets (\\n    name TEXT,\\n    distance REAL,\\n    stellar_magnitude REAL,\\n    planet_type TEXT,\\n    discovery_year INTEGER,\\n    mass_multiplier REAL,\\n    mass_wrt TEXT,\\n    radius_multiplier REAL,\\n    radius_wrt TEXT,\\n    orbital_radius REAL,\\n    orbital_period REAL,\\n    eccentricity REAL,\\n    detection_method TEXT\\n); CREATE TABLE reference_planets (name TEXT, mass REAL);  'mass_wrt' in exoplanets table has a one-to-one match to 'name' in reference_planets table, and  'name' refers to either Earth or Jupyter, with Jupyter having 317.8 the mass of Earth.   \n",
       "\n",
       "                                                                                                                          question  \\\n",
       "55  Identify the exoplanets with the lowest radius multipliers, showing their names and calculated radius for each discovery year.   \n",
       "56                                                          List exoplanets discovered in 2010 with an eccentricity less than 0.3.   \n",
       "57                               Count the number of exoplanets discovered each year and return the years with the highest counts.   \n",
       "58                            Identify the exoplanets with eccentricity greater than 0.5, showing their names and discovery years.   \n",
       "59                                                               Find the average orbital radius of exoplanets discovered in 2005.   \n",
       "\n",
       "                                                                                                                                                                                                                                                                                                                                        answer  \\\n",
       "55  WITH MinRadiusExoplanets AS (\\n    SELECT discovery_year, MIN(radius_multiplier) AS min_radius\\n    FROM exoplanets\\n    GROUP BY discovery_year\\n)\\nSELECT e.discovery_year, e.name, e.radius_multiplier\\nFROM exoplanets e\\nJOIN MinRadiusExoplanets m ON e.discovery_year = m.discovery_year\\nWHERE e.radius_multiplier = m.min_radius;   \n",
       "56                                                                                                                               WITH LowEccentricityExoplanets AS (\\n    SELECT name, discovery_year, eccentricity\\n    FROM exoplanets\\n    WHERE discovery_year = 2010 AND eccentricity < 0.3\\n)\\nSELECT *\\nFROM LowEccentricityExoplanets;   \n",
       "57                                                                                                                                                 WITH ExoplanetCounts AS (\\n    SELECT discovery_year, COUNT(*) AS count\\n    FROM exoplanets\\n    GROUP BY discovery_year\\n)\\nSELECT *\\nFROM ExoplanetCounts\\nORDER BY count DESC\\nLIMIT 5;   \n",
       "58                                                                                                                                    WITH HighEccentricityExoplanets AS (\\n    SELECT name, discovery_year, eccentricity\\n    FROM exoplanets\\n    WHERE eccentricity > 0.5\\n)\\nSELECT name, discovery_year\\nFROM HighEccentricityExoplanets;   \n",
       "59                                                                                                                                                                WITH AvgOrbitalRadius AS (\\n    SELECT AVG(orbital_radius) AS avg_radius\\n    FROM exoplanets\\n    WHERE discovery_year = 2005\\n)\\nSELECT avg_radius\\nFROM AvgOrbitalRadius;   \n",
       "\n",
       "                                                                                                                                                                                                                                                                                                                                                                                                                                                                                                                                                                                                                                                                                                                                                                                                                                                                                                                                                                                                                                    results  \n",
       "55  [{\"discovery_year\": 1995, \"name\": \"51 Pegasi b\", \"radius_multiplier\": 1.27}, {\"discovery_year\": 1996, \"name\": \"70 Virginis b\", \"radius_multiplier\": 1.13}, {\"discovery_year\": 2007, \"name\": \"GJ 674 b\", \"radius_multiplier\": 0.297}, {\"discovery_year\": 2005, \"name\": \"GJ 876 d\", \"radius_multiplier\": 0.224}, {\"discovery_year\": 2019, \"name\": \"Gl 49 b\", \"radius_multiplier\": 0.2}, {\"discovery_year\": 2009, \"name\": \"HD 125595 b\", \"radius_multiplier\": 0.214}, {\"discovery_year\": 2010, \"name\": \"HD 1461 b\", \"radius_multiplier\": 0.216}, {\"discovery_year\": 2004, \"name\": \"HD 160691 d\", \"radius_multiplier\": 0.283}, {\"discovery_year\": 1998, \"name\": \"HD 168443 b\", \"radius_multiplier\": 1.13}, {\"discovery_year\": 2017, \"name\": \"HD 176986 b\", \"radius_multiplier\": 0.202}, {\"discovery_year\": 2008, \"name\": \"HD 181433 b\", \"radius_multiplier\": 0.214}, {\"discovery_year\": 2009, \"name\": \"HD 215497 b\", \"radius_multiplier\": 0.214}, {\"discovery_year\": 2003, \"name\": \"HD 3651 b\", \"radius_multiplier\": 0.899}, {\"discovery...  \n",
       "56  [{\"name\": \"24 Sextantis b\", \"discovery_year\": 2010, \"eccentricity\": 0.09}, {\"name\": \"24 Sextantis c\", \"discovery_year\": 2010, \"eccentricity\": 0.29}, {\"name\": \"2MASS J04414489+2301513 b\", \"discovery_year\": 2010, \"eccentricity\": 0.0}, {\"name\": \"Alpha Arietis b\", \"discovery_year\": 2010, \"eccentricity\": 0.25}, {\"name\": \"CoRoT-11 b\", \"discovery_year\": 2010, \"eccentricity\": 0.0}, {\"name\": \"CoRoT-12 b\", \"discovery_year\": 2010, \"eccentricity\": 0.07}, {\"name\": \"CoRoT-13 b\", \"discovery_year\": 2010, \"eccentricity\": 0.0}, {\"name\": \"CoRoT-14 b\", \"discovery_year\": 2010, \"eccentricity\": 0.0}, {\"name\": \"CoRoT-8 b\", \"discovery_year\": 2010, \"eccentricity\": 0.0}, {\"name\": \"GJ 3634 b\", \"discovery_year\": 2010, \"eccentricity\": 0.08}, {\"name\": \"GJ 876 e\", \"discovery_year\": 2010, \"eccentricity\": 0.06}, {\"name\": \"GSC 06214-00210 b\", \"discovery_year\": 2010, \"eccentricity\": 0.0}, {\"name\": \"HAT-P-14 b\", \"discovery_year\": 2010, \"eccentricity\": 0.11}, {\"name\": \"HAT-P-15 b\", \"discovery_year\": 2010, \"eccentricity...  \n",
       "57                                                                                                                                                                                                                                                                                                                                                                                                                                                                                                                                                                                                                                                                                                                                                                                                                                [{\"discovery_year\": 2016, \"count\": 1517}, {\"discovery_year\": 2014, \"count\": 875}, {\"discovery_year\": 2021, \"count\": 525}, {\"discovery_year\": 2022, \"count\": 338}, {\"discovery_year\": 2018, \"count\": 326}]  \n",
       "58  [{\"name\": \"16 Cygni B b\", \"discovery_year\": 1996}, {\"name\": \"BD-17 63 b\", \"discovery_year\": 2008}, {\"name\": \"BD+48 740 b\", \"discovery_year\": 2018}, {\"name\": \"BD+63 1405 b\", \"discovery_year\": 2021}, {\"name\": \"CoRoT-10 b\", \"discovery_year\": 2010}, {\"name\": \"CoRoT-20 b\", \"discovery_year\": 2011}, {\"name\": \"CoRoT-20 c\", \"discovery_year\": 2018}, {\"name\": \"GJ 1061 d\", \"discovery_year\": 2020}, {\"name\": \"GJ 2056 b\", \"discovery_year\": 2020}, {\"name\": \"GJ 3021 b\", \"discovery_year\": 2000}, {\"name\": \"GJ 3222 b\", \"discovery_year\": 2022}, {\"name\": \"HAT-P-11 c\", \"discovery_year\": 2018}, {\"name\": \"HAT-P-13 c\", \"discovery_year\": 2009}, {\"name\": \"HAT-P-2 b\", \"discovery_year\": 2007}, {\"name\": \"HATS-10 b\", \"discovery_year\": 2015}, {\"name\": \"HATS-27 b\", \"discovery_year\": 2016}, {\"name\": \"HATS-46 b\", \"discovery_year\": 2018}, {\"name\": \"HATS-50 b\", \"discovery_year\": 2017}, {\"name\": \"HATS-69 b\", \"discovery_year\": 2018}, {\"name\": \"HD 106515 A b\", \"discovery_year\": 2012}, {\"name\": \"HD 108147 b\", \"discovery_ye...  \n",
       "59                                                                                                                                                                                                                                                                                                                                                                                                                                                                                                                                                                                                                                                                                                                                                                                                                                                                                                                                                                                                      [{\"avg_radius\": 8.463404805555555}]  "
      ]
     },
     "execution_count": 21,
     "metadata": {},
     "output_type": "execute_result"
    }
   ],
   "source": [
    "train_df.tail()"
   ]
  },
  {
   "cell_type": "code",
   "execution_count": 22,
   "metadata": {},
   "outputs": [],
   "source": [
    "#valid_df['results'] = valid_df['answer'].map(lambda query: run_query(query,cursor))"
   ]
  },
  {
   "cell_type": "code",
   "execution_count": 24,
   "metadata": {},
   "outputs": [
    {
     "data": {
      "text/html": [
       "<div>\n",
       "<style scoped>\n",
       "    .dataframe tbody tr th:only-of-type {\n",
       "        vertical-align: middle;\n",
       "    }\n",
       "\n",
       "    .dataframe tbody tr th {\n",
       "        vertical-align: top;\n",
       "    }\n",
       "\n",
       "    .dataframe thead th {\n",
       "        text-align: right;\n",
       "    }\n",
       "</style>\n",
       "<table border=\"1\" class=\"dataframe\">\n",
       "  <thead>\n",
       "    <tr style=\"text-align: right;\">\n",
       "      <th></th>\n",
       "      <th>context</th>\n",
       "      <th>question</th>\n",
       "      <th>answer</th>\n",
       "      <th>results</th>\n",
       "    </tr>\n",
       "  </thead>\n",
       "  <tbody>\n",
       "    <tr>\n",
       "      <th>30</th>\n",
       "      <td>CREATE TABLE exoplanets (\\n    name TEXT,\\n    distance REAL,\\n    stellar_magnitude REAL,\\n    planet_type TEXT,\\n    discovery_year INTEGER,\\n    mass_multiplier REAL,\\n    mass_wrt TEXT,\\n    radius_multiplier REAL,\\n    radius_wrt TEXT,\\n    orbital_radius REAL,\\n    orbital_period REAL,\\n    eccentricity REAL,\\n    detection_method TEXT\\n); CREATE TABLE reference_planets (name TEXT, mass REAL);  'mass_wrt' in exoplanets table has a one-to-one match to 'name' in reference_planets table, and  'name' refers to either Earth or Jupyter, with Jupyter having 317.8 the mass of Earth.</td>\n",
       "      <td>Determine the number of exoplanets discovered each year, and show the year with the highest number of discoveries.</td>\n",
       "      <td>SELECT discovery_year, COUNT(*) AS count\\nFROM exoplanets\\nGROUP BY discovery_year\\nORDER BY count DESC\\nLIMIT 1;</td>\n",
       "      <td>[{\"discovery_year\": 2016, \"count\": 1517}]</td>\n",
       "    </tr>\n",
       "    <tr>\n",
       "      <th>10</th>\n",
       "      <td>CREATE TABLE exoplanets (\\n    name TEXT,\\n    distance REAL,\\n    stellar_magnitude REAL,\\n    planet_type TEXT,\\n    discovery_year INTEGER,\\n    mass_multiplier REAL,\\n    mass_wrt TEXT,\\n    radius_multiplier REAL,\\n    radius_wrt TEXT,\\n    orbital_radius REAL,\\n    orbital_period REAL,\\n    eccentricity REAL,\\n    detection_method TEXT\\n); CREATE TABLE reference_planets (name TEXT, mass REAL);  'mass_wrt' in exoplanets table has a one-to-one match to 'name' in reference_planets table, and  'name' refers to either Earth or Jupyter, with Jupyter having 317.8 the mass of Earth.</td>\n",
       "      <td>Display the detection method that has produced the most massive exoplanets (based on total mass).</td>\n",
       "      <td>SELECT detection_method,\\n       SUM(mass_multiplier * (SELECT mass FROM reference_planets WHERE name = mass_wrt)) AS total_mass\\nFROM exoplanets\\nGROUP BY detection_method\\nORDER BY total_mass DESC\\nLIMIT 1;</td>\n",
       "      <td>[{\"detection_method\": \"Radial Velocity\", \"total_mass\": 6.38296985206948e+30}]</td>\n",
       "    </tr>\n",
       "    <tr>\n",
       "      <th>42</th>\n",
       "      <td>CREATE TABLE exoplanets (\\n    name TEXT,\\n    distance REAL,\\n    stellar_magnitude REAL,\\n    planet_type TEXT,\\n    discovery_year INTEGER,\\n    mass_multiplier REAL,\\n    mass_wrt TEXT,\\n    radius_multiplier REAL,\\n    radius_wrt TEXT,\\n    orbital_radius REAL,\\n    orbital_period REAL,\\n    eccentricity REAL,\\n    detection_method TEXT\\n); CREATE TABLE reference_planets (name TEXT, mass REAL);  'mass_wrt' in exoplanets table has a one-to-one match to 'name' in reference_planets table, and  'name' refers to either Earth or Jupyter, with Jupyter having 317.8 the mass of Earth.</td>\n",
       "      <td>Calculate the total mass of all exoplanets discovered each year and return the top 5 years with the highest total mass.</td>\n",
       "      <td>SELECT discovery_year, \\nSUM(mass_multiplier * (SELECT mass FROM reference_planets WHERE name = mass_wrt)) AS total_mass\\nFROM exoplanets\\nWHERE mass_multiplier IS NOT NULL\\nGROUP BY discovery_year\\nORDER BY total_mass DESC\\nLIMIT 5;</td>\n",
       "      <td>[{\"discovery_year\": 2016, \"total_mass\": 2.3398372025261199e+30}, {\"discovery_year\": 2014, \"total_mass\": 1.92648023608052e+30}, {\"discovery_year\": 2022, \"total_mass\": 1.8723379260193998e+30}, {\"discovery_year\": 2021, \"total_mass\": 8.9332245596716e+29}, {\"discovery_year\": 2011, \"total_mass\": 6.552292609403601e+29}]</td>\n",
       "    </tr>\n",
       "    <tr>\n",
       "      <th>47</th>\n",
       "      <td>CREATE TABLE exoplanets (\\n    name TEXT,\\n    distance REAL,\\n    stellar_magnitude REAL,\\n    planet_type TEXT,\\n    discovery_year INTEGER,\\n    mass_multiplier REAL,\\n    mass_wrt TEXT,\\n    radius_multiplier REAL,\\n    radius_wrt TEXT,\\n    orbital_radius REAL,\\n    orbital_period REAL,\\n    eccentricity REAL,\\n    detection_method TEXT\\n); CREATE TABLE reference_planets (name TEXT, mass REAL);  'mass_wrt' in exoplanets table has a one-to-one match to 'name' in reference_planets table, and  'name' refers to either Earth or Jupyter, with Jupyter having 317.8 the mass of Earth.</td>\n",
       "      <td>Rank exoplanets based on their orbital period and return the top 3 longest-period exoplanets discovered each year.</td>\n",
       "      <td>SELECT discovery_year, name, orbital_period FROM exoplanets WHERE (discovery_year, name, orbital_period) IN (   SELECT discovery_year, name, orbital_period    FROM exoplanets    ORDER BY discovery_year, orbital_period DESC) GROUP BY discovery_year LIMIT 3;</td>\n",
       "      <td>[{\"discovery_year\": 1992, \"name\": \"PSR B1257+12 c\", \"orbital_period\": 0.18206708}, {\"discovery_year\": 1994, \"name\": \"PSR B1257+12 b\", \"orbital_period\": 0.06926762}, {\"discovery_year\": 1995, \"name\": \"51 Pegasi b\", \"orbital_period\": 0.011498973}]</td>\n",
       "    </tr>\n",
       "    <tr>\n",
       "      <th>24</th>\n",
       "      <td>CREATE TABLE exoplanets (\\n    name TEXT,\\n    distance REAL,\\n    stellar_magnitude REAL,\\n    planet_type TEXT,\\n    discovery_year INTEGER,\\n    mass_multiplier REAL,\\n    mass_wrt TEXT,\\n    radius_multiplier REAL,\\n    radius_wrt TEXT,\\n    orbital_radius REAL,\\n    orbital_period REAL,\\n    eccentricity REAL,\\n    detection_method TEXT\\n); CREATE TABLE reference_planets (name TEXT, mass REAL);  'mass_wrt' in exoplanets table has a one-to-one match to 'name' in reference_planets table, and  'name' refers to either Earth or Jupyter, with Jupyter having 317.8 the mass of Earth.</td>\n",
       "      <td>List exoplanets with a discovery year before 2000 and an eccentricity less than 0.2.</td>\n",
       "      <td>SELECT name, discovery_year, eccentricity\\nFROM exoplanets\\nWHERE discovery_year &lt; 2000 AND eccentricity &lt; 0.2;</td>\n",
       "      <td>[{\"name\": \"47 Ursae Majoris b\", \"discovery_year\": 1996, \"eccentricity\": 0.03}, {\"name\": \"51 Pegasi b\", \"discovery_year\": 1995, \"eccentricity\": 0.01}, {\"name\": \"55 Cancri b\", \"discovery_year\": 1996, \"eccentricity\": 0.0}, {\"name\": \"GJ 86 b\", \"discovery_year\": 1999, \"eccentricity\": 0.04}, {\"name\": \"GJ 876 b\", \"discovery_year\": 1998, \"eccentricity\": 0.03}, {\"name\": \"HD 10697 b\", \"discovery_year\": 1999, \"eccentricity\": 0.1}, {\"name\": \"HD 130322 b\", \"discovery_year\": 1999, \"eccentricity\": 0.03}, {\"name\": \"HD 177830 b\", \"discovery_year\": 1999, \"eccentricity\": 0.1}, {\"name\": \"HD 187123 b\", \"discovery_year\": 1998, \"eccentricity\": 0.01}, {\"name\": \"HD 192263 b\", \"discovery_year\": 1999, \"eccentricity\": 0.05}, {\"name\": \"HD 195019 b\", \"discovery_year\": 1998, \"eccentricity\": 0.01}, {\"name\": \"HD 209458 b\", \"discovery_year\": 1999, \"eccentricity\": 0.0}, {\"name\": \"HD 217107 b\", \"discovery_year\": 1998, \"eccentricity\": 0.13}, {\"name\": \"HD 75289 b\", \"discovery_year\": 1999, \"eccentricity\": 0.03}, {\"name\"...</td>\n",
       "    </tr>\n",
       "    <tr>\n",
       "      <th>7</th>\n",
       "      <td>CREATE TABLE exoplanets (\\n    name TEXT,\\n    distance REAL,\\n    stellar_magnitude REAL,\\n    planet_type TEXT,\\n    discovery_year INTEGER,\\n    mass_multiplier REAL,\\n    mass_wrt TEXT,\\n    radius_multiplier REAL,\\n    radius_wrt TEXT,\\n    orbital_radius REAL,\\n    orbital_period REAL,\\n    eccentricity REAL,\\n    detection_method TEXT\\n); CREATE TABLE reference_planets (name TEXT, mass REAL);  'mass_wrt' in exoplanets table has a one-to-one match to 'name' in reference_planets table, and  'name' refers to either Earth or Jupyter, with Jupyter having 317.8 the mass of Earth.</td>\n",
       "      <td>Identify the planet types that have not been discovered since 2020, meaning they have no entries from that year onward.</td>\n",
       "      <td>SELECT DISTINCT \\n    planet_type\\nFROM \\n    exoplanets\\nWHERE \\n    planet_type NOT IN (\\n        SELECT DISTINCT \\n            planet_type\\n        FROM \\n            exoplanets\\n        WHERE \\n            discovery_year &gt;= 2020\\n    );</td>\n",
       "      <td>[{\"planet_type\": \"Unknown\"}]</td>\n",
       "    </tr>\n",
       "    <tr>\n",
       "      <th>11</th>\n",
       "      <td>CREATE TABLE exoplanets (\\n    name TEXT,\\n    distance REAL,\\n    stellar_magnitude REAL,\\n    planet_type TEXT,\\n    discovery_year INTEGER,\\n    mass_multiplier REAL,\\n    mass_wrt TEXT,\\n    radius_multiplier REAL,\\n    radius_wrt TEXT,\\n    orbital_radius REAL,\\n    orbital_period REAL,\\n    eccentricity REAL,\\n    detection_method TEXT\\n); CREATE TABLE reference_planets (name TEXT, mass REAL);  'mass_wrt' in exoplanets table has a one-to-one match to 'name' in reference_planets table, and  'name' refers to either Earth or Jupyter, with Jupyter having 317.8 the mass of Earth.</td>\n",
       "      <td>What are the names and masses of the exoplanets that have the minimum mass for each discovery year?</td>\n",
       "      <td>WITH MinMassExoplanets AS (\\n    SELECT \\n        discovery_year,\\n        MIN(mass_multiplier * r.mass) AS min_mass\\n    FROM exoplanets e\\n    JOIN reference_planets r ON e.mass_wrt = r.name\\n    GROUP BY discovery_year\\n)\\nSELECT \\n    e.discovery_year,\\n    e.name,\\n    e.mass_multiplier * r.mass AS exoplanet_mass\\nFROM exoplanets e\\nJOIN reference_planets r ON e.mass_wrt = r.name\\nJOIN MinMassExoplanets m ON e.discovery_year = m.discovery_year\\nWHERE e.mass_multiplier * r.mass = m.min_mass;</td>\n",
       "      <td>[{\"discovery_year\": 2001, \"name\": \"47 Ursae Majoris c\", \"exoplanet_mass\": 1.02492e+27}, {\"discovery_year\": 1995, \"name\": \"51 Pegasi b\", \"exoplanet_mass\": 8.730800000000001e+26}, {\"discovery_year\": 2004, \"name\": \"55 Cancri e\", \"exoplanet_mass\": 4.771628000000001e+25}, {\"discovery_year\": 2019, \"name\": \"EPIC 201497682 b\", \"exoplanet_mass\": 1.5527200000000002e+24}, {\"discovery_year\": 2007, \"name\": \"GJ 581 c\", \"exoplanet_mass\": 3.2846e+25}, {\"discovery_year\": 2009, \"name\": \"GJ 581 e\", \"exoplanet_mass\": 1.01524e+25}, {\"discovery_year\": 1998, \"name\": \"HD 187123 b\", \"exoplanet_mass\": 9.926540000000001e+26}, {\"discovery_year\": 2003, \"name\": \"HD 3651 b\", \"exoplanet_mass\": 4.32744e+26}, {\"discovery_year\": 2000, \"name\": \"HD 46375 b\", \"exoplanet_mass\": 4.28948e+26}, {\"discovery_year\": 2002, \"name\": \"HD 49674 b\", \"exoplanet_mass\": 1.89808076e+26}, {\"discovery_year\": 2006, \"name\": \"HD 69830 b\", \"exoplanet_mass\": 6.09144e+25}, {\"discovery_year\": 1999, \"name\": \"HD 75289 b\", \"exoplanet_mass\": 9.3001...</td>\n",
       "    </tr>\n",
       "    <tr>\n",
       "      <th>35</th>\n",
       "      <td>CREATE TABLE exoplanets (\\n    name TEXT,\\n    distance REAL,\\n    stellar_magnitude REAL,\\n    planet_type TEXT,\\n    discovery_year INTEGER,\\n    mass_multiplier REAL,\\n    mass_wrt TEXT,\\n    radius_multiplier REAL,\\n    radius_wrt TEXT,\\n    orbital_radius REAL,\\n    orbital_period REAL,\\n    eccentricity REAL,\\n    detection_method TEXT\\n); CREATE TABLE reference_planets (name TEXT, mass REAL);  'mass_wrt' in exoplanets table has a one-to-one match to 'name' in reference_planets table, and  'name' refers to either Earth or Jupyter, with Jupyter having 317.8 the mass of Earth.</td>\n",
       "      <td>Find exoplanets discovered in the last two years and list them along with their discovery year and detection method.</td>\n",
       "      <td>SELECT name, discovery_year, detection_method\\nFROM exoplanets\\nWHERE discovery_year &gt;= strftime('%Y', 'now') - 2\\nORDER BY discovery_year DESC;</td>\n",
       "      <td>[{\"name\": \"GJ 1151 c\", \"discovery_year\": 2023, \"detection_method\": \"Radial Velocity\"}, {\"name\": \"TOI-1669 b\", \"discovery_year\": 2023, \"detection_method\": \"Radial Velocity\"}, {\"name\": \"TOI-1694 b\", \"discovery_year\": 2023, \"detection_method\": \"Transit\"}, {\"name\": \"TOI-1694 c\", \"discovery_year\": 2023, \"detection_method\": \"Radial Velocity\"}, {\"name\": \"TOI-4342 b\", \"discovery_year\": 2023, \"detection_method\": \"Transit\"}, {\"name\": \"TOI-4342 c\", \"discovery_year\": 2023, \"detection_method\": \"Transit\"}, {\"name\": \"TOI-4562 b\", \"discovery_year\": 2023, \"detection_method\": \"Transit\"}, {\"name\": \"TOI-4582 b\", \"discovery_year\": 2023, \"detection_method\": \"Transit\"}, {\"name\": \"TOI-700 e\", \"discovery_year\": 2023, \"detection_method\": \"Transit\"}, {\"name\": \"AB Aurigae b\", \"discovery_year\": 2022, \"detection_method\": \"Direct Imaging\"}, {\"name\": \"CoRoT-35 b\", \"discovery_year\": 2022, \"detection_method\": \"Transit\"}, {\"name\": \"CoRoT-36 b\", \"discovery_year\": 2022, \"detection_method\": \"Transit\"}, {\"name\": \"CoRoT-...</td>\n",
       "    </tr>\n",
       "    <tr>\n",
       "      <th>56</th>\n",
       "      <td>CREATE TABLE exoplanets (\\n    name TEXT,\\n    distance REAL,\\n    stellar_magnitude REAL,\\n    planet_type TEXT,\\n    discovery_year INTEGER,\\n    mass_multiplier REAL,\\n    mass_wrt TEXT,\\n    radius_multiplier REAL,\\n    radius_wrt TEXT,\\n    orbital_radius REAL,\\n    orbital_period REAL,\\n    eccentricity REAL,\\n    detection_method TEXT\\n); CREATE TABLE reference_planets (name TEXT, mass REAL);  'mass_wrt' in exoplanets table has a one-to-one match to 'name' in reference_planets table, and  'name' refers to either Earth or Jupyter, with Jupyter having 317.8 the mass of Earth.</td>\n",
       "      <td>Calculate the average orbital radius for each type of exoplanet. Order by average orbital radius descending.</td>\n",
       "      <td>SELECT \\n    e.planet_type,\\n    AVG(e.orbital_radius) AS avg_orbital_radius\\nFROM exoplanets e\\nGROUP BY e.planet_type\\nORDER BY avg_orbital_radius DESC;</td>\n",
       "      <td>[{\"planet_type\": \"Gas Giant\", \"avg_orbital_radius\": 21.5154491121673}, {\"planet_type\": \"Unknown\", \"avg_orbital_radius\": 16.65}, {\"planet_type\": \"Neptune-like\", \"avg_orbital_radius\": 0.2249016860670194}, {\"planet_type\": \"Super Earth\", \"avg_orbital_radius\": 0.10995212107023411}, {\"planet_type\": \"Terrestrial\", \"avg_orbital_radius\": 0.06238086486486486}]</td>\n",
       "    </tr>\n",
       "    <tr>\n",
       "      <th>3</th>\n",
       "      <td>CREATE TABLE exoplanets (\\n    name TEXT,\\n    distance REAL,\\n    stellar_magnitude REAL,\\n    planet_type TEXT,\\n    discovery_year INTEGER,\\n    mass_multiplier REAL,\\n    mass_wrt TEXT,\\n    radius_multiplier REAL,\\n    radius_wrt TEXT,\\n    orbital_radius REAL,\\n    orbital_period REAL,\\n    eccentricity REAL,\\n    detection_method TEXT\\n); CREATE TABLE reference_planets (name TEXT, mass REAL);  'mass_wrt' in exoplanets table has a one-to-one match to 'name' in reference_planets table, and  'name' refers to either Earth or Jupyter, with Jupyter having 317.8 the mass of Earth.</td>\n",
       "      <td>Find the exoplanets with the highest mass-to-radius ratio, showing their name and calculated ratio (return top 5).</td>\n",
       "      <td>SELECT name, \\n       (mass_multiplier * (SELECT mass FROM reference_planets WHERE name = mass_wrt)) / radius_multiplier AS mass_radius_ratio\\nFROM exoplanets\\nORDER BY mass_radius_ratio DESC\\nLIMIT 5;</td>\n",
       "      <td>[{\"name\": \"HD 100546 b\", \"mass_radius_ratio\": 2.068544927536232e+29}, {\"name\": \"K2-52 b\", \"mass_radius_ratio\": 1.7018181818181818e+29}, {\"name\": \"Kepler-718 b\", \"mass_radius_ratio\": 1.683398781313473e+29}, {\"name\": \"PH2 b\", \"mass_radius_ratio\": 1.6815060908084162e+29}, {\"name\": \"Kepler-488 b\", \"mass_radius_ratio\": 1.670347764371895e+29}]</td>\n",
       "    </tr>\n",
       "  </tbody>\n",
       "</table>\n",
       "</div>"
      ],
      "text/plain": [
       "                                                                                                                                                                                                                                                                                                                                                                                                                                                                                                                                                                                                        context  \\\n",
       "30  CREATE TABLE exoplanets (\\n    name TEXT,\\n    distance REAL,\\n    stellar_magnitude REAL,\\n    planet_type TEXT,\\n    discovery_year INTEGER,\\n    mass_multiplier REAL,\\n    mass_wrt TEXT,\\n    radius_multiplier REAL,\\n    radius_wrt TEXT,\\n    orbital_radius REAL,\\n    orbital_period REAL,\\n    eccentricity REAL,\\n    detection_method TEXT\\n); CREATE TABLE reference_planets (name TEXT, mass REAL);  'mass_wrt' in exoplanets table has a one-to-one match to 'name' in reference_planets table, and  'name' refers to either Earth or Jupyter, with Jupyter having 317.8 the mass of Earth.   \n",
       "10  CREATE TABLE exoplanets (\\n    name TEXT,\\n    distance REAL,\\n    stellar_magnitude REAL,\\n    planet_type TEXT,\\n    discovery_year INTEGER,\\n    mass_multiplier REAL,\\n    mass_wrt TEXT,\\n    radius_multiplier REAL,\\n    radius_wrt TEXT,\\n    orbital_radius REAL,\\n    orbital_period REAL,\\n    eccentricity REAL,\\n    detection_method TEXT\\n); CREATE TABLE reference_planets (name TEXT, mass REAL);  'mass_wrt' in exoplanets table has a one-to-one match to 'name' in reference_planets table, and  'name' refers to either Earth or Jupyter, with Jupyter having 317.8 the mass of Earth.   \n",
       "42  CREATE TABLE exoplanets (\\n    name TEXT,\\n    distance REAL,\\n    stellar_magnitude REAL,\\n    planet_type TEXT,\\n    discovery_year INTEGER,\\n    mass_multiplier REAL,\\n    mass_wrt TEXT,\\n    radius_multiplier REAL,\\n    radius_wrt TEXT,\\n    orbital_radius REAL,\\n    orbital_period REAL,\\n    eccentricity REAL,\\n    detection_method TEXT\\n); CREATE TABLE reference_planets (name TEXT, mass REAL);  'mass_wrt' in exoplanets table has a one-to-one match to 'name' in reference_planets table, and  'name' refers to either Earth or Jupyter, with Jupyter having 317.8 the mass of Earth.   \n",
       "47  CREATE TABLE exoplanets (\\n    name TEXT,\\n    distance REAL,\\n    stellar_magnitude REAL,\\n    planet_type TEXT,\\n    discovery_year INTEGER,\\n    mass_multiplier REAL,\\n    mass_wrt TEXT,\\n    radius_multiplier REAL,\\n    radius_wrt TEXT,\\n    orbital_radius REAL,\\n    orbital_period REAL,\\n    eccentricity REAL,\\n    detection_method TEXT\\n); CREATE TABLE reference_planets (name TEXT, mass REAL);  'mass_wrt' in exoplanets table has a one-to-one match to 'name' in reference_planets table, and  'name' refers to either Earth or Jupyter, with Jupyter having 317.8 the mass of Earth.   \n",
       "24  CREATE TABLE exoplanets (\\n    name TEXT,\\n    distance REAL,\\n    stellar_magnitude REAL,\\n    planet_type TEXT,\\n    discovery_year INTEGER,\\n    mass_multiplier REAL,\\n    mass_wrt TEXT,\\n    radius_multiplier REAL,\\n    radius_wrt TEXT,\\n    orbital_radius REAL,\\n    orbital_period REAL,\\n    eccentricity REAL,\\n    detection_method TEXT\\n); CREATE TABLE reference_planets (name TEXT, mass REAL);  'mass_wrt' in exoplanets table has a one-to-one match to 'name' in reference_planets table, and  'name' refers to either Earth or Jupyter, with Jupyter having 317.8 the mass of Earth.   \n",
       "7   CREATE TABLE exoplanets (\\n    name TEXT,\\n    distance REAL,\\n    stellar_magnitude REAL,\\n    planet_type TEXT,\\n    discovery_year INTEGER,\\n    mass_multiplier REAL,\\n    mass_wrt TEXT,\\n    radius_multiplier REAL,\\n    radius_wrt TEXT,\\n    orbital_radius REAL,\\n    orbital_period REAL,\\n    eccentricity REAL,\\n    detection_method TEXT\\n); CREATE TABLE reference_planets (name TEXT, mass REAL);  'mass_wrt' in exoplanets table has a one-to-one match to 'name' in reference_planets table, and  'name' refers to either Earth or Jupyter, with Jupyter having 317.8 the mass of Earth.   \n",
       "11  CREATE TABLE exoplanets (\\n    name TEXT,\\n    distance REAL,\\n    stellar_magnitude REAL,\\n    planet_type TEXT,\\n    discovery_year INTEGER,\\n    mass_multiplier REAL,\\n    mass_wrt TEXT,\\n    radius_multiplier REAL,\\n    radius_wrt TEXT,\\n    orbital_radius REAL,\\n    orbital_period REAL,\\n    eccentricity REAL,\\n    detection_method TEXT\\n); CREATE TABLE reference_planets (name TEXT, mass REAL);  'mass_wrt' in exoplanets table has a one-to-one match to 'name' in reference_planets table, and  'name' refers to either Earth or Jupyter, with Jupyter having 317.8 the mass of Earth.   \n",
       "35  CREATE TABLE exoplanets (\\n    name TEXT,\\n    distance REAL,\\n    stellar_magnitude REAL,\\n    planet_type TEXT,\\n    discovery_year INTEGER,\\n    mass_multiplier REAL,\\n    mass_wrt TEXT,\\n    radius_multiplier REAL,\\n    radius_wrt TEXT,\\n    orbital_radius REAL,\\n    orbital_period REAL,\\n    eccentricity REAL,\\n    detection_method TEXT\\n); CREATE TABLE reference_planets (name TEXT, mass REAL);  'mass_wrt' in exoplanets table has a one-to-one match to 'name' in reference_planets table, and  'name' refers to either Earth or Jupyter, with Jupyter having 317.8 the mass of Earth.   \n",
       "56  CREATE TABLE exoplanets (\\n    name TEXT,\\n    distance REAL,\\n    stellar_magnitude REAL,\\n    planet_type TEXT,\\n    discovery_year INTEGER,\\n    mass_multiplier REAL,\\n    mass_wrt TEXT,\\n    radius_multiplier REAL,\\n    radius_wrt TEXT,\\n    orbital_radius REAL,\\n    orbital_period REAL,\\n    eccentricity REAL,\\n    detection_method TEXT\\n); CREATE TABLE reference_planets (name TEXT, mass REAL);  'mass_wrt' in exoplanets table has a one-to-one match to 'name' in reference_planets table, and  'name' refers to either Earth or Jupyter, with Jupyter having 317.8 the mass of Earth.   \n",
       "3   CREATE TABLE exoplanets (\\n    name TEXT,\\n    distance REAL,\\n    stellar_magnitude REAL,\\n    planet_type TEXT,\\n    discovery_year INTEGER,\\n    mass_multiplier REAL,\\n    mass_wrt TEXT,\\n    radius_multiplier REAL,\\n    radius_wrt TEXT,\\n    orbital_radius REAL,\\n    orbital_period REAL,\\n    eccentricity REAL,\\n    detection_method TEXT\\n); CREATE TABLE reference_planets (name TEXT, mass REAL);  'mass_wrt' in exoplanets table has a one-to-one match to 'name' in reference_planets table, and  'name' refers to either Earth or Jupyter, with Jupyter having 317.8 the mass of Earth.   \n",
       "\n",
       "                                                                                                                   question  \\\n",
       "30       Determine the number of exoplanets discovered each year, and show the year with the highest number of discoveries.   \n",
       "10                        Display the detection method that has produced the most massive exoplanets (based on total mass).   \n",
       "42  Calculate the total mass of all exoplanets discovered each year and return the top 5 years with the highest total mass.   \n",
       "47       Rank exoplanets based on their orbital period and return the top 3 longest-period exoplanets discovered each year.   \n",
       "24                                     List exoplanets with a discovery year before 2000 and an eccentricity less than 0.2.   \n",
       "7   Identify the planet types that have not been discovered since 2020, meaning they have no entries from that year onward.   \n",
       "11                      What are the names and masses of the exoplanets that have the minimum mass for each discovery year?   \n",
       "35     Find exoplanets discovered in the last two years and list them along with their discovery year and detection method.   \n",
       "56             Calculate the average orbital radius for each type of exoplanet. Order by average orbital radius descending.   \n",
       "3        Find the exoplanets with the highest mass-to-radius ratio, showing their name and calculated ratio (return top 5).   \n",
       "\n",
       "                                                                                                                                                                                                                                                                                                                                                                                                                                                                                                                  answer  \\\n",
       "30                                                                                                                                                                                                                                                                                                                                                                                                     SELECT discovery_year, COUNT(*) AS count\\nFROM exoplanets\\nGROUP BY discovery_year\\nORDER BY count DESC\\nLIMIT 1;   \n",
       "10                                                                                                                                                                                                                                                                                                      SELECT detection_method,\\n       SUM(mass_multiplier * (SELECT mass FROM reference_planets WHERE name = mass_wrt)) AS total_mass\\nFROM exoplanets\\nGROUP BY detection_method\\nORDER BY total_mass DESC\\nLIMIT 1;   \n",
       "42                                                                                                                                                                                                                                                                             SELECT discovery_year, \\nSUM(mass_multiplier * (SELECT mass FROM reference_planets WHERE name = mass_wrt)) AS total_mass\\nFROM exoplanets\\nWHERE mass_multiplier IS NOT NULL\\nGROUP BY discovery_year\\nORDER BY total_mass DESC\\nLIMIT 5;   \n",
       "47                                                                                                                                                                                                                                                      SELECT discovery_year, name, orbital_period FROM exoplanets WHERE (discovery_year, name, orbital_period) IN (   SELECT discovery_year, name, orbital_period    FROM exoplanets    ORDER BY discovery_year, orbital_period DESC) GROUP BY discovery_year LIMIT 3;   \n",
       "24                                                                                                                                                                                                                                                                                                                                                                                                       SELECT name, discovery_year, eccentricity\\nFROM exoplanets\\nWHERE discovery_year < 2000 AND eccentricity < 0.2;   \n",
       "7                                                                                                                                                                                                                                                                       SELECT DISTINCT \\n    planet_type\\nFROM \\n    exoplanets\\nWHERE \\n    planet_type NOT IN (\\n        SELECT DISTINCT \\n            planet_type\\n        FROM \\n            exoplanets\\n        WHERE \\n            discovery_year >= 2020\\n    );   \n",
       "11  WITH MinMassExoplanets AS (\\n    SELECT \\n        discovery_year,\\n        MIN(mass_multiplier * r.mass) AS min_mass\\n    FROM exoplanets e\\n    JOIN reference_planets r ON e.mass_wrt = r.name\\n    GROUP BY discovery_year\\n)\\nSELECT \\n    e.discovery_year,\\n    e.name,\\n    e.mass_multiplier * r.mass AS exoplanet_mass\\nFROM exoplanets e\\nJOIN reference_planets r ON e.mass_wrt = r.name\\nJOIN MinMassExoplanets m ON e.discovery_year = m.discovery_year\\nWHERE e.mass_multiplier * r.mass = m.min_mass;   \n",
       "35                                                                                                                                                                                                                                                                                                                                                                      SELECT name, discovery_year, detection_method\\nFROM exoplanets\\nWHERE discovery_year >= strftime('%Y', 'now') - 2\\nORDER BY discovery_year DESC;   \n",
       "56                                                                                                                                                                                                                                                                                                                                                          SELECT \\n    e.planet_type,\\n    AVG(e.orbital_radius) AS avg_orbital_radius\\nFROM exoplanets e\\nGROUP BY e.planet_type\\nORDER BY avg_orbital_radius DESC;     \n",
       "3                                                                                                                                                                                                                                                                                                              SELECT name, \\n       (mass_multiplier * (SELECT mass FROM reference_planets WHERE name = mass_wrt)) / radius_multiplier AS mass_radius_ratio\\nFROM exoplanets\\nORDER BY mass_radius_ratio DESC\\nLIMIT 5;   \n",
       "\n",
       "                                                                                                                                                                                                                                                                                                                                                                                                                                                                                                                                                                                                                                                                                                                                                                                                                                                                                                                                                                                                                                    results  \n",
       "30                                                                                                                                                                                                                                                                                                                                                                                                                                                                                                                                                                                                                                                                                                                                                                                                                                                                                                                                                                                                [{\"discovery_year\": 2016, \"count\": 1517}]  \n",
       "10                                                                                                                                                                                                                                                                                                                                                                                                                                                                                                                                                                                                                                                                                                                                                                                                                                                                                                                                                            [{\"detection_method\": \"Radial Velocity\", \"total_mass\": 6.38296985206948e+30}]  \n",
       "42                                                                                                                                                                                                                                                                                                                                                                                                                                                                                                                                                                                                                                                                                                               [{\"discovery_year\": 2016, \"total_mass\": 2.3398372025261199e+30}, {\"discovery_year\": 2014, \"total_mass\": 1.92648023608052e+30}, {\"discovery_year\": 2022, \"total_mass\": 1.8723379260193998e+30}, {\"discovery_year\": 2021, \"total_mass\": 8.9332245596716e+29}, {\"discovery_year\": 2011, \"total_mass\": 6.552292609403601e+29}]  \n",
       "47                                                                                                                                                                                                                                                                                                                                                                                                                                                                                                                                                                                                                                                                                                                                                                                     [{\"discovery_year\": 1992, \"name\": \"PSR B1257+12 c\", \"orbital_period\": 0.18206708}, {\"discovery_year\": 1994, \"name\": \"PSR B1257+12 b\", \"orbital_period\": 0.06926762}, {\"discovery_year\": 1995, \"name\": \"51 Pegasi b\", \"orbital_period\": 0.011498973}]  \n",
       "24  [{\"name\": \"47 Ursae Majoris b\", \"discovery_year\": 1996, \"eccentricity\": 0.03}, {\"name\": \"51 Pegasi b\", \"discovery_year\": 1995, \"eccentricity\": 0.01}, {\"name\": \"55 Cancri b\", \"discovery_year\": 1996, \"eccentricity\": 0.0}, {\"name\": \"GJ 86 b\", \"discovery_year\": 1999, \"eccentricity\": 0.04}, {\"name\": \"GJ 876 b\", \"discovery_year\": 1998, \"eccentricity\": 0.03}, {\"name\": \"HD 10697 b\", \"discovery_year\": 1999, \"eccentricity\": 0.1}, {\"name\": \"HD 130322 b\", \"discovery_year\": 1999, \"eccentricity\": 0.03}, {\"name\": \"HD 177830 b\", \"discovery_year\": 1999, \"eccentricity\": 0.1}, {\"name\": \"HD 187123 b\", \"discovery_year\": 1998, \"eccentricity\": 0.01}, {\"name\": \"HD 192263 b\", \"discovery_year\": 1999, \"eccentricity\": 0.05}, {\"name\": \"HD 195019 b\", \"discovery_year\": 1998, \"eccentricity\": 0.01}, {\"name\": \"HD 209458 b\", \"discovery_year\": 1999, \"eccentricity\": 0.0}, {\"name\": \"HD 217107 b\", \"discovery_year\": 1998, \"eccentricity\": 0.13}, {\"name\": \"HD 75289 b\", \"discovery_year\": 1999, \"eccentricity\": 0.03}, {\"name\"...  \n",
       "7                                                                                                                                                                                                                                                                                                                                                                                                                                                                                                                                                                                                                                                                                                                                                                                                                                                                                                                                                                                                              [{\"planet_type\": \"Unknown\"}]  \n",
       "11  [{\"discovery_year\": 2001, \"name\": \"47 Ursae Majoris c\", \"exoplanet_mass\": 1.02492e+27}, {\"discovery_year\": 1995, \"name\": \"51 Pegasi b\", \"exoplanet_mass\": 8.730800000000001e+26}, {\"discovery_year\": 2004, \"name\": \"55 Cancri e\", \"exoplanet_mass\": 4.771628000000001e+25}, {\"discovery_year\": 2019, \"name\": \"EPIC 201497682 b\", \"exoplanet_mass\": 1.5527200000000002e+24}, {\"discovery_year\": 2007, \"name\": \"GJ 581 c\", \"exoplanet_mass\": 3.2846e+25}, {\"discovery_year\": 2009, \"name\": \"GJ 581 e\", \"exoplanet_mass\": 1.01524e+25}, {\"discovery_year\": 1998, \"name\": \"HD 187123 b\", \"exoplanet_mass\": 9.926540000000001e+26}, {\"discovery_year\": 2003, \"name\": \"HD 3651 b\", \"exoplanet_mass\": 4.32744e+26}, {\"discovery_year\": 2000, \"name\": \"HD 46375 b\", \"exoplanet_mass\": 4.28948e+26}, {\"discovery_year\": 2002, \"name\": \"HD 49674 b\", \"exoplanet_mass\": 1.89808076e+26}, {\"discovery_year\": 2006, \"name\": \"HD 69830 b\", \"exoplanet_mass\": 6.09144e+25}, {\"discovery_year\": 1999, \"name\": \"HD 75289 b\", \"exoplanet_mass\": 9.3001...  \n",
       "35  [{\"name\": \"GJ 1151 c\", \"discovery_year\": 2023, \"detection_method\": \"Radial Velocity\"}, {\"name\": \"TOI-1669 b\", \"discovery_year\": 2023, \"detection_method\": \"Radial Velocity\"}, {\"name\": \"TOI-1694 b\", \"discovery_year\": 2023, \"detection_method\": \"Transit\"}, {\"name\": \"TOI-1694 c\", \"discovery_year\": 2023, \"detection_method\": \"Radial Velocity\"}, {\"name\": \"TOI-4342 b\", \"discovery_year\": 2023, \"detection_method\": \"Transit\"}, {\"name\": \"TOI-4342 c\", \"discovery_year\": 2023, \"detection_method\": \"Transit\"}, {\"name\": \"TOI-4562 b\", \"discovery_year\": 2023, \"detection_method\": \"Transit\"}, {\"name\": \"TOI-4582 b\", \"discovery_year\": 2023, \"detection_method\": \"Transit\"}, {\"name\": \"TOI-700 e\", \"discovery_year\": 2023, \"detection_method\": \"Transit\"}, {\"name\": \"AB Aurigae b\", \"discovery_year\": 2022, \"detection_method\": \"Direct Imaging\"}, {\"name\": \"CoRoT-35 b\", \"discovery_year\": 2022, \"detection_method\": \"Transit\"}, {\"name\": \"CoRoT-36 b\", \"discovery_year\": 2022, \"detection_method\": \"Transit\"}, {\"name\": \"CoRoT-...  \n",
       "56                                                                                                                                                                                                                                                                                                                                                                                                                                                                                                                                                                                                                                                                         [{\"planet_type\": \"Gas Giant\", \"avg_orbital_radius\": 21.5154491121673}, {\"planet_type\": \"Unknown\", \"avg_orbital_radius\": 16.65}, {\"planet_type\": \"Neptune-like\", \"avg_orbital_radius\": 0.2249016860670194}, {\"planet_type\": \"Super Earth\", \"avg_orbital_radius\": 0.10995212107023411}, {\"planet_type\": \"Terrestrial\", \"avg_orbital_radius\": 0.06238086486486486}]  \n",
       "3                                                                                                                                                                                                                                                                                                                                                                                                                                                                                                                                                                                                                                                                                       [{\"name\": \"HD 100546 b\", \"mass_radius_ratio\": 2.068544927536232e+29}, {\"name\": \"K2-52 b\", \"mass_radius_ratio\": 1.7018181818181818e+29}, {\"name\": \"Kepler-718 b\", \"mass_radius_ratio\": 1.683398781313473e+29}, {\"name\": \"PH2 b\", \"mass_radius_ratio\": 1.6815060908084162e+29}, {\"name\": \"Kepler-488 b\", \"mass_radius_ratio\": 1.670347764371895e+29}]  "
      ]
     },
     "execution_count": 24,
     "metadata": {},
     "output_type": "execute_result"
    }
   ],
   "source": [
    "valid_df.head(10)"
   ]
  },
  {
   "cell_type": "code",
   "execution_count": 111,
   "metadata": {},
   "outputs": [],
   "source": [
    "#valid_df.rename(columns={'answer':'SQL'},inplace=True)\n",
    "#train_df.rename(columns={'answer':'SQL'},inplace=True)\n",
    "#train_df.to_json('./databases/train.json',orient='records',lines=True)\n",
    "#valid_df.to_json('./databases/validation.json',orient='records',lines=True)"
   ]
  },
  {
   "cell_type": "code",
   "execution_count": 25,
   "metadata": {},
   "outputs": [],
   "source": [
    "# Convert the DataFrame to a list of dictionaries\n",
    "train_data = train_df.to_dict(orient='records')\n",
    "valid_data = valid_df.to_dict(orient='records')\n",
    "\n",
    "# Save the list of dictionaries to a JSON file\n",
    "with open('./databases/train2.json', 'w') as train_file:\n",
    "    json.dump(train_data, train_file, indent=4)\n",
    "\n",
    "with open('./databases/valid.json', 'w') as valid_file:\n",
    "    json.dump(valid_data, valid_file, indent=4)\n",
    "\n",
    "# # Verify the saved JSON files\n",
    "# with open('./databases/train.json', 'r') as train_file:\n",
    "#     train_loaded = json.load(train_file)\n",
    "#     print(\"Train Data Loaded:\")\n",
    "#     print(train_loaded[:2])  # Print the first 2 records for verification\n",
    "\n",
    "# with open('./databases/valid.json', 'r') as valid_file:\n",
    "#     valid_loaded = json.load(valid_file)\n",
    "#     print(\"Valid Data Loaded:\")\n",
    "#     print(valid_loaded[:2])  # Print the first 2 records for verification"
   ]
  },
  {
   "cell_type": "code",
   "execution_count": 27,
   "metadata": {},
   "outputs": [
    {
     "data": {
      "text/plain": [
       "(60, 10)"
      ]
     },
     "execution_count": 27,
     "metadata": {},
     "output_type": "execute_result"
    }
   ],
   "source": [
    "len(train_data), len(valid_data)"
   ]
  },
  {
   "cell_type": "markdown",
   "metadata": {},
   "source": [
    "### Format as HF datasets"
   ]
  },
  {
   "cell_type": "code",
   "execution_count": 28,
   "metadata": {},
   "outputs": [
    {
     "name": "stderr",
     "output_type": "stream",
     "text": [
      "/home/mainuser/anaconda3/envs/sqlft/lib/python3.11/site-packages/tqdm/auto.py:21: TqdmWarning: IProgress not found. Please update jupyter and ipywidgets. See https://ipywidgets.readthedocs.io/en/stable/user_install.html\n",
      "  from .autonotebook import tqdm as notebook_tqdm\n"
     ]
    }
   ],
   "source": [
    "from datasets import load_dataset, DatasetDict"
   ]
  },
  {
   "cell_type": "code",
   "execution_count": 29,
   "metadata": {},
   "outputs": [
    {
     "name": "stderr",
     "output_type": "stream",
     "text": [
      "Generating train split: 60 examples [00:02, 26.78 examples/s]\n",
      "Generating train split: 10 examples [00:00, 2299.76 examples/s]\n"
     ]
    }
   ],
   "source": [
    "train_dataset = load_dataset('json', data_files='./databases/train2.json', split='train')\n",
    "valid_dataset = load_dataset('json', data_files='./databases/valid.json', split='train')\n"
   ]
  },
  {
   "cell_type": "code",
   "execution_count": 30,
   "metadata": {},
   "outputs": [
    {
     "data": {
      "text/plain": [
       "60"
      ]
     },
     "execution_count": 30,
     "metadata": {},
     "output_type": "execute_result"
    }
   ],
   "source": [
    "len(train_dataset)"
   ]
  },
  {
   "cell_type": "code",
   "execution_count": 31,
   "metadata": {},
   "outputs": [],
   "source": [
    "dataset = DatasetDict({\n",
    "    'train': train_dataset,\n",
    "    'valid': valid_dataset\n",
    "}\n",
    ")"
   ]
  },
  {
   "cell_type": "code",
   "execution_count": 32,
   "metadata": {},
   "outputs": [
    {
     "data": {
      "text/plain": [
       "DatasetDict({\n",
       "    train: Dataset({\n",
       "        features: ['context', 'question', 'answer', 'results'],\n",
       "        num_rows: 60\n",
       "    })\n",
       "    valid: Dataset({\n",
       "        features: ['context', 'question', 'answer', 'results'],\n",
       "        num_rows: 10\n",
       "    })\n",
       "})"
      ]
     },
     "execution_count": 32,
     "metadata": {},
     "output_type": "execute_result"
    }
   ],
   "source": [
    "dataset"
   ]
  },
  {
   "cell_type": "code",
   "execution_count": 33,
   "metadata": {},
   "outputs": [
    {
     "name": "stderr",
     "output_type": "stream",
     "text": [
      "Creating parquet from Arrow format: 100%|██████████| 1/1 [00:00<00:00,  2.64ba/s]\n",
      "Uploading the dataset shards: 100%|██████████| 1/1 [00:09<00:00,  9.28s/it]\n",
      "Creating parquet from Arrow format: 100%|██████████| 1/1 [00:00<00:00, 1038.71ba/s]\n",
      "Uploading the dataset shards: 100%|██████████| 1/1 [00:00<00:00,  3.38it/s]\n"
     ]
    },
    {
     "data": {
      "text/plain": [
       "CommitInfo(commit_url='https://huggingface.co/datasets/dpv/exoplanets-sql2/commit/ce1d85ddb295dbf7be7e983b2dc3244727625ac9', commit_message='Upload dataset', commit_description='', oid='ce1d85ddb295dbf7be7e983b2dc3244727625ac9', pr_url=None, repo_url=RepoUrl('https://huggingface.co/datasets/dpv/exoplanets-sql2', endpoint='https://huggingface.co', repo_type='dataset', repo_id='dpv/exoplanets-sql2'), pr_revision=None, pr_num=None)"
      ]
     },
     "execution_count": 33,
     "metadata": {},
     "output_type": "execute_result"
    }
   ],
   "source": [
    "dataset.push_to_hub('dpv/exoplanets-sql2')"
   ]
  },
  {
   "cell_type": "code",
   "execution_count": 1,
   "metadata": {},
   "outputs": [
    {
     "name": "stderr",
     "output_type": "stream",
     "text": [
      "/home/mainuser/anaconda3/envs/sqlft/lib/python3.11/site-packages/tqdm/auto.py:21: TqdmWarning: IProgress not found. Please update jupyter and ipywidgets. See https://ipywidgets.readthedocs.io/en/stable/user_install.html\n",
      "  from .autonotebook import tqdm as notebook_tqdm\n"
     ]
    }
   ],
   "source": [
    "from huggingface_hub import HfApi, Repository\n",
    "api = HfApi()"
   ]
  },
  {
   "cell_type": "markdown",
   "metadata": {},
   "source": [
    "- Tried to update README.MD multiple times with the following:\n",
    "This is a small dataset based on https://www.kaggle.com/datasets/adityamishraml/nasaexoplanets/data.  sqlite table *exoplanets* was made from the data, along with a *reference_planets* table made by inserting  (name, mass) VALUES ('Jupiter', 1.898e27) and  (name, mass) VALUES ('Earth', 5.972e24).\n",
    "The *mass_wrt* column in *exoplanets* maps to *mass* table in *reference_planets*.  This table allows for more complex queries involving joins.  Queries have been checked for logical consistency, as well as by running against the database."
   ]
  },
  {
   "cell_type": "code",
   "execution_count": 4,
   "metadata": {},
   "outputs": [
    {
     "name": "stdout",
     "output_type": "stream",
     "text": [
      "Updated README.md\n"
     ]
    }
   ],
   "source": [
    "with open('./hf_readme.md', \"r\") as file:\n",
    "    readme_content = file.read()\n",
    "\n",
    "# Update the README.md file on the Hugging Face Hub\n",
    "api.upload_file(\n",
    "    path_or_fileobj='./hf_readme2.md',\n",
    "    path_in_repo=\"README.md\",\n",
    "    repo_id='dpv/exoplanets-sql2',\n",
    "    repo_type=\"dataset\"\n",
    ")\n",
    "\n",
    "print(\"Updated README.md\")"
   ]
  },
  {
   "cell_type": "markdown",
   "metadata": {},
   "source": [
    "## Experiments"
   ]
  },
  {
   "cell_type": "code",
   "execution_count": 52,
   "metadata": {},
   "outputs": [],
   "source": [
    "query1 = \"\"\"WITH DetectionTrends AS (\n",
    "    SELECT \n",
    "        discovery_year,\n",
    "        detection_method,\n",
    "        COUNT(*) AS method_count\n",
    "    FROM exoplanets\n",
    "    GROUP BY discovery_year, detection_method\n",
    "),\n",
    "RankedTrends AS (\n",
    "    SELECT \n",
    "        discovery_year,\n",
    "        detection_method,\n",
    "        method_count, RANK() OVER (PARTITION BY discovery_year ORDER BY method_count DESC) AS method_rank FROM DetectionTrends) SELECT  discovery_year, detection_method, method_count, method_rank FROM RankedTrends WHERE method_rank <= 2 ORDER BY discovery_year, method_rank;\"\"\"\n",
    "\n",
    "query2 = \"\"\"WITH DetectionTrends AS (\n",
    "    SELECT \n",
    "        discovery_year,\n",
    "        detection_method,\n",
    "        COUNT(*) AS method_count\n",
    "    FROM exoplanets\n",
    "    GROUP BY discovery_year, detection_method\n",
    "),\n",
    "RankedTrends AS (\n",
    "    SELECT \n",
    "        discovery_year,\n",
    "        detection_method,\n",
    "        method_count, RANK() OVER (PARTITION BY discovery_year ORDER BY method_count DESC) AS method_rank FROM DetectionTrends) SELECT  discovery_year, detection_method, method_count, method_rank FROM RankedTrends WHERE method_rank <= 2 ORDER BY discovery_year DESC, method_rank;\"\"\"\n",
    "\n",
    "query3 = \"\"\"WITH DetectionTrends AS (\n",
    "    SELECT \n",
    "        discovery_year,\n",
    "        detection_method,\n",
    "        COUNT(*) AS method_count\n",
    "    FROM exoplanets\n",
    "    GROUP BY discovery_year, detection_method\n",
    "),\n",
    "RankedTrends AS (\n",
    "    SELECT \n",
    "        discovery_year,\n",
    "        detection_method,\n",
    "        method_count, RANK() OVER (PARTITION BY discovery_year ORDER BY method_count DESC) AS method_rank FROM DetectionTrends) SELECT  discovery_year, detection_method, method_count, method_rank FROM RankedTrends WHERE method_rank <= 3 ORDER BY discovery_year DESC, method_rank;\"\"\""
   ]
  },
  {
   "cell_type": "code",
   "execution_count": 30,
   "metadata": {},
   "outputs": [
    {
     "data": {
      "text/plain": [
       "'[{\"discovery_year\": 1992, \"detection_method\": \"Pulsar Timing\", \"method_count\": 2, \"method_rank\": 1}, {\"discovery_year\": 1994, \"detection_method\": \"Pulsar Timing\", \"method_count\": 1, \"method_rank\": 1}, {\"discovery_year\": 1995, \"detection_method\": \"Radial Velocity\", \"method_count\": 1, \"method_rank\": 1}, {\"discovery_year\": 1996, \"detection_method\": \"Radial Velocity\", \"method_count\": 6, \"method_rank\": 1}, {\"discovery_year\": 1997, \"detection_method\": \"Radial Velocity\", \"method_count\": 1, \"method_rank\": 1}, {\"discovery_year\": 1998, \"detection_method\": \"Radial Velocity\", \"method_count\": 6, \"method_rank\": 1}, {\"discovery_year\": 1999, \"detection_method\": \"Radial Velocity\", \"method_count\": 13, \"method_rank\": 1}, {\"discovery_year\": 2000, \"detection_method\": \"Radial Velocity\", \"method_count\": 16, \"method_rank\": 1}, {\"discovery_year\": 2001, \"detection_method\": \"Radial Velocity\", \"method_count\": 12, \"method_rank\": 1}, {\"discovery_year\": 2002, \"detection_method\": \"Radial Velocity\", \"method_count\": 28, \"method_rank\": 1}, {\"discovery_year\": 2002, \"detection_method\": \"Transit\", \"method_count\": 1, \"method_rank\": 2}, {\"discovery_year\": 2003, \"detection_method\": \"Radial Velocity\", \"method_count\": 21, \"method_rank\": 1}, {\"discovery_year\": 2003, \"detection_method\": \"Pulsar Timing\", \"method_count\": 1, \"method_rank\": 2}, {\"discovery_year\": 2004, \"detection_method\": \"Radial Velocity\", \"method_count\": 18, \"method_rank\": 1}, {\"discovery_year\": 2004, \"detection_method\": \"Transit\", \"method_count\": 5, \"method_rank\": 2}, {\"discovery_year\": 2005, \"detection_method\": \"Radial Velocity\", \"method_count\": 33, \"method_rank\": 1}, {\"discovery_year\": 2005, \"detection_method\": \"Gravitational Microlensing\", \"method_count\": 2, \"method_rank\": 2}, {\"discovery_year\": 2006, \"detection_method\": \"Radial Velocity\", \"method_count\": 21, \"method_rank\": 1}, {\"discovery_year\": 2006, \"detection_method\": \"Transit\", \"method_count\": 5, \"method_rank\": 2}, {\"discovery_year\": 2007, \"detection_method\": \"Radial Velocity\", \"method_count\": 34, \"method_rank\": 1}, {\"discovery_year\": 2007, \"detection_method\": \"Transit\", \"method_count\": 16, \"method_rank\": 2}, {\"discovery_year\": 2008, \"detection_method\": \"Radial Velocity\", \"method_count\": 37, \"method_rank\": 1}, {\"discovery_year\": 2008, \"detection_method\": \"Transit\", \"method_count\": 17, \"method_rank\": 2}, {\"discovery_year\": 2009, \"detection_method\": \"Radial Velocity\", \"method_count\": 73, \"method_rank\": 1}, {\"discovery_year\": 2009, \"detection_method\": \"Transit\", \"method_count\": 18, \"method_rank\": 2}, {\"discovery_year\": 2010, \"detection_method\": \"Transit\", \"method_count\": 46, \"method_rank\": 1}, {\"discovery_year\": 2010, \"detection_method\": \"Radial Velocity\", \"method_count\": 41, \"method_rank\": 2}, {\"discovery_year\": 2011, \"detection_method\": \"Transit\", \"method_count\": 79, \"method_rank\": 1}, {\"discovery_year\": 2011, \"detection_method\": \"Radial Velocity\", \"method_count\": 47, \"method_rank\": 2}, {\"discovery_year\": 2012, \"detection_method\": \"Transit\", \"method_count\": 93, \"method_rank\": 1}, {\"discovery_year\": 2012, \"detection_method\": \"Radial Velocity\", \"method_count\": 34, \"method_rank\": 2}, {\"discovery_year\": 2013, \"detection_method\": \"Transit\", \"method_count\": 80, \"method_rank\": 1}, {\"discovery_year\": 2013, \"detection_method\": \"Radial Velocity\", \"method_count\": 32, \"method_rank\": 2}, {\"discovery_year\": 2014, \"detection_method\": \"Transit\", \"method_count\": 802, \"method_rank\": 1}, {\"discovery_year\": 2014, \"detection_method\": \"Radial Velocity\", \"method_count\": 50, \"method_rank\": 2}, {\"discovery_year\": 2015, \"detection_method\": \"Transit\", \"method_count\": 100, \"method_rank\": 1}, {\"discovery_year\": 2015, \"detection_method\": \"Radial Velocity\", \"method_count\": 47, \"method_rank\": 2}, {\"discovery_year\": 2016, \"detection_method\": \"Transit\", \"method_count\": 1453, \"method_rank\": 1}, {\"discovery_year\": 2016, \"detection_method\": \"Radial Velocity\", \"method_count\": 50, \"method_rank\": 2}, {\"discovery_year\": 2017, \"detection_method\": \"Transit\", \"method_count\": 89, \"method_rank\": 1}, {\"discovery_year\": 2017, \"detection_method\": \"Radial Velocity\", \"method_count\": 49, \"method_rank\": 2}, {\"discovery_year\": 2018, \"detection_method\": \"Transit\", \"method_count\": 253, \"method_rank\": 1}, {\"discovery_year\": 2018, \"detection_method\": \"Radial Velocity\", \"method_count\": 49, \"method_rank\": 2}, {\"discovery_year\": 2019, \"detection_method\": \"Transit\", \"method_count\": 113, \"method_rank\": 1}, {\"discovery_year\": 2019, \"detection_method\": \"Radial Velocity\", \"method_count\": 66, \"method_rank\": 2}, {\"discovery_year\": 2020, \"detection_method\": \"Transit\", \"method_count\": 166, \"method_rank\": 1}, {\"discovery_year\": 2020, \"detection_method\": \"Radial Velocity\", \"method_count\": 45, \"method_rank\": 2}, {\"discovery_year\": 2021, \"detection_method\": \"Transit\", \"method_count\": 415, \"method_rank\": 1}, {\"discovery_year\": 2021, \"detection_method\": \"Radial Velocity\", \"method_count\": 78, \"method_rank\": 2}, {\"discovery_year\": 2022, \"detection_method\": \"Transit\", \"method_count\": 188, \"method_rank\": 1}, {\"discovery_year\": 2022, \"detection_method\": \"Radial Velocity\", \"method_count\": 116, \"method_rank\": 2}, {\"discovery_year\": 2023, \"detection_method\": \"Transit\", \"method_count\": 6, \"method_rank\": 1}, {\"discovery_year\": 2023, \"detection_method\": \"Radial Velocity\", \"method_count\": 3, \"method_rank\": 2}]'"
      ]
     },
     "execution_count": 30,
     "metadata": {},
     "output_type": "execute_result"
    }
   ],
   "source": [
    "res1=run_query(query1,cursor)\n",
    "res1"
   ]
  },
  {
   "cell_type": "code",
   "execution_count": 32,
   "metadata": {},
   "outputs": [
    {
     "data": {
      "text/plain": [
       "'[{\"discovery_year\": 2023, \"detection_method\": \"Transit\", \"method_count\": 6, \"method_rank\": 1}, {\"discovery_year\": 2023, \"detection_method\": \"Radial Velocity\", \"method_count\": 3, \"method_rank\": 2}, {\"discovery_year\": 2022, \"detection_method\": \"Transit\", \"method_count\": 188, \"method_rank\": 1}, {\"discovery_year\": 2022, \"detection_method\": \"Radial Velocity\", \"method_count\": 116, \"method_rank\": 2}, {\"discovery_year\": 2021, \"detection_method\": \"Transit\", \"method_count\": 415, \"method_rank\": 1}, {\"discovery_year\": 2021, \"detection_method\": \"Radial Velocity\", \"method_count\": 78, \"method_rank\": 2}, {\"discovery_year\": 2020, \"detection_method\": \"Transit\", \"method_count\": 166, \"method_rank\": 1}, {\"discovery_year\": 2020, \"detection_method\": \"Radial Velocity\", \"method_count\": 45, \"method_rank\": 2}, {\"discovery_year\": 2019, \"detection_method\": \"Transit\", \"method_count\": 113, \"method_rank\": 1}, {\"discovery_year\": 2019, \"detection_method\": \"Radial Velocity\", \"method_count\": 66, \"method_rank\": 2}, {\"discovery_year\": 2018, \"detection_method\": \"Transit\", \"method_count\": 253, \"method_rank\": 1}, {\"discovery_year\": 2018, \"detection_method\": \"Radial Velocity\", \"method_count\": 49, \"method_rank\": 2}, {\"discovery_year\": 2017, \"detection_method\": \"Transit\", \"method_count\": 89, \"method_rank\": 1}, {\"discovery_year\": 2017, \"detection_method\": \"Radial Velocity\", \"method_count\": 49, \"method_rank\": 2}, {\"discovery_year\": 2016, \"detection_method\": \"Transit\", \"method_count\": 1453, \"method_rank\": 1}, {\"discovery_year\": 2016, \"detection_method\": \"Radial Velocity\", \"method_count\": 50, \"method_rank\": 2}, {\"discovery_year\": 2015, \"detection_method\": \"Transit\", \"method_count\": 100, \"method_rank\": 1}, {\"discovery_year\": 2015, \"detection_method\": \"Radial Velocity\", \"method_count\": 47, \"method_rank\": 2}, {\"discovery_year\": 2014, \"detection_method\": \"Transit\", \"method_count\": 802, \"method_rank\": 1}, {\"discovery_year\": 2014, \"detection_method\": \"Radial Velocity\", \"method_count\": 50, \"method_rank\": 2}, {\"discovery_year\": 2013, \"detection_method\": \"Transit\", \"method_count\": 80, \"method_rank\": 1}, {\"discovery_year\": 2013, \"detection_method\": \"Radial Velocity\", \"method_count\": 32, \"method_rank\": 2}, {\"discovery_year\": 2012, \"detection_method\": \"Transit\", \"method_count\": 93, \"method_rank\": 1}, {\"discovery_year\": 2012, \"detection_method\": \"Radial Velocity\", \"method_count\": 34, \"method_rank\": 2}, {\"discovery_year\": 2011, \"detection_method\": \"Transit\", \"method_count\": 79, \"method_rank\": 1}, {\"discovery_year\": 2011, \"detection_method\": \"Radial Velocity\", \"method_count\": 47, \"method_rank\": 2}, {\"discovery_year\": 2010, \"detection_method\": \"Transit\", \"method_count\": 46, \"method_rank\": 1}, {\"discovery_year\": 2010, \"detection_method\": \"Radial Velocity\", \"method_count\": 41, \"method_rank\": 2}, {\"discovery_year\": 2009, \"detection_method\": \"Radial Velocity\", \"method_count\": 73, \"method_rank\": 1}, {\"discovery_year\": 2009, \"detection_method\": \"Transit\", \"method_count\": 18, \"method_rank\": 2}, {\"discovery_year\": 2008, \"detection_method\": \"Radial Velocity\", \"method_count\": 37, \"method_rank\": 1}, {\"discovery_year\": 2008, \"detection_method\": \"Transit\", \"method_count\": 17, \"method_rank\": 2}, {\"discovery_year\": 2007, \"detection_method\": \"Radial Velocity\", \"method_count\": 34, \"method_rank\": 1}, {\"discovery_year\": 2007, \"detection_method\": \"Transit\", \"method_count\": 16, \"method_rank\": 2}, {\"discovery_year\": 2006, \"detection_method\": \"Radial Velocity\", \"method_count\": 21, \"method_rank\": 1}, {\"discovery_year\": 2006, \"detection_method\": \"Transit\", \"method_count\": 5, \"method_rank\": 2}, {\"discovery_year\": 2005, \"detection_method\": \"Radial Velocity\", \"method_count\": 33, \"method_rank\": 1}, {\"discovery_year\": 2005, \"detection_method\": \"Gravitational Microlensing\", \"method_count\": 2, \"method_rank\": 2}, {\"discovery_year\": 2004, \"detection_method\": \"Radial Velocity\", \"method_count\": 18, \"method_rank\": 1}, {\"discovery_year\": 2004, \"detection_method\": \"Transit\", \"method_count\": 5, \"method_rank\": 2}, {\"discovery_year\": 2003, \"detection_method\": \"Radial Velocity\", \"method_count\": 21, \"method_rank\": 1}, {\"discovery_year\": 2003, \"detection_method\": \"Pulsar Timing\", \"method_count\": 1, \"method_rank\": 2}, {\"discovery_year\": 2002, \"detection_method\": \"Radial Velocity\", \"method_count\": 28, \"method_rank\": 1}, {\"discovery_year\": 2002, \"detection_method\": \"Transit\", \"method_count\": 1, \"method_rank\": 2}, {\"discovery_year\": 2001, \"detection_method\": \"Radial Velocity\", \"method_count\": 12, \"method_rank\": 1}, {\"discovery_year\": 2000, \"detection_method\": \"Radial Velocity\", \"method_count\": 16, \"method_rank\": 1}, {\"discovery_year\": 1999, \"detection_method\": \"Radial Velocity\", \"method_count\": 13, \"method_rank\": 1}, {\"discovery_year\": 1998, \"detection_method\": \"Radial Velocity\", \"method_count\": 6, \"method_rank\": 1}, {\"discovery_year\": 1997, \"detection_method\": \"Radial Velocity\", \"method_count\": 1, \"method_rank\": 1}, {\"discovery_year\": 1996, \"detection_method\": \"Radial Velocity\", \"method_count\": 6, \"method_rank\": 1}, {\"discovery_year\": 1995, \"detection_method\": \"Radial Velocity\", \"method_count\": 1, \"method_rank\": 1}, {\"discovery_year\": 1994, \"detection_method\": \"Pulsar Timing\", \"method_count\": 1, \"method_rank\": 1}, {\"discovery_year\": 1992, \"detection_method\": \"Pulsar Timing\", \"method_count\": 2, \"method_rank\": 1}]'"
      ]
     },
     "execution_count": 32,
     "metadata": {},
     "output_type": "execute_result"
    }
   ],
   "source": [
    "res2=run_query(query2, cursor)\n",
    "res2"
   ]
  },
  {
   "cell_type": "code",
   "execution_count": 53,
   "metadata": {},
   "outputs": [
    {
     "data": {
      "text/plain": [
       "'[{\"discovery_year\": 2023, \"detection_method\": \"Transit\", \"method_count\": 6, \"method_rank\": 1}, {\"discovery_year\": 2023, \"detection_method\": \"Radial Velocity\", \"method_count\": 3, \"method_rank\": 2}, {\"discovery_year\": 2022, \"detection_method\": \"Transit\", \"method_count\": 188, \"method_rank\": 1}, {\"discovery_year\": 2022, \"detection_method\": \"Radial Velocity\", \"method_count\": 116, \"method_rank\": 2}, {\"discovery_year\": 2022, \"detection_method\": \"Gravitational Microlensing\", \"method_count\": 25, \"method_rank\": 3}, {\"discovery_year\": 2021, \"detection_method\": \"Transit\", \"method_count\": 415, \"method_rank\": 1}, {\"discovery_year\": 2021, \"detection_method\": \"Radial Velocity\", \"method_count\": 78, \"method_rank\": 2}, {\"discovery_year\": 2021, \"detection_method\": \"Gravitational Microlensing\", \"method_count\": 20, \"method_rank\": 3}, {\"discovery_year\": 2020, \"detection_method\": \"Transit\", \"method_count\": 166, \"method_rank\": 1}, {\"discovery_year\": 2020, \"detection_method\": \"Radial Velocity\", \"method_count\": 45, \"method_rank\": 2}, {\"discovery_year\": 2020, \"detection_method\": \"Gravitational Microlensing\", \"method_count\": 20, \"method_rank\": 3}, {\"discovery_year\": 2019, \"detection_method\": \"Transit\", \"method_count\": 113, \"method_rank\": 1}, {\"discovery_year\": 2019, \"detection_method\": \"Radial Velocity\", \"method_count\": 66, \"method_rank\": 2}, {\"discovery_year\": 2019, \"detection_method\": \"Gravitational Microlensing\", \"method_count\": 14, \"method_rank\": 3}, {\"discovery_year\": 2018, \"detection_method\": \"Transit\", \"method_count\": 253, \"method_rank\": 1}, {\"discovery_year\": 2018, \"detection_method\": \"Radial Velocity\", \"method_count\": 49, \"method_rank\": 2}, {\"discovery_year\": 2018, \"detection_method\": \"Gravitational Microlensing\", \"method_count\": 21, \"method_rank\": 3}, {\"discovery_year\": 2017, \"detection_method\": \"Transit\", \"method_count\": 89, \"method_rank\": 1}, {\"discovery_year\": 2017, \"detection_method\": \"Radial Velocity\", \"method_count\": 49, \"method_rank\": 2}, {\"discovery_year\": 2017, \"detection_method\": \"Gravitational Microlensing\", \"method_count\": 9, \"method_rank\": 3}, {\"discovery_year\": 2016, \"detection_method\": \"Transit\", \"method_count\": 1453, \"method_rank\": 1}, {\"discovery_year\": 2016, \"detection_method\": \"Radial Velocity\", \"method_count\": 50, \"method_rank\": 2}, {\"discovery_year\": 2016, \"detection_method\": \"Gravitational Microlensing\", \"method_count\": 10, \"method_rank\": 3}, {\"discovery_year\": 2015, \"detection_method\": \"Transit\", \"method_count\": 100, \"method_rank\": 1}, {\"discovery_year\": 2015, \"detection_method\": \"Radial Velocity\", \"method_count\": 47, \"method_rank\": 2}, {\"discovery_year\": 2015, \"detection_method\": \"Direct Imaging\", \"method_count\": 5, \"method_rank\": 3}, {\"discovery_year\": 2014, \"detection_method\": \"Transit\", \"method_count\": 802, \"method_rank\": 1}, {\"discovery_year\": 2014, \"detection_method\": \"Radial Velocity\", \"method_count\": 50, \"method_rank\": 2}, {\"discovery_year\": 2014, \"detection_method\": \"Transit Timing Variations\", \"method_count\": 12, \"method_rank\": 3}, {\"discovery_year\": 2013, \"detection_method\": \"Transit\", \"method_count\": 80, \"method_rank\": 1}, {\"discovery_year\": 2013, \"detection_method\": \"Radial Velocity\", \"method_count\": 32, \"method_rank\": 2}, {\"discovery_year\": 2013, \"detection_method\": \"Direct Imaging\", \"method_count\": 7, \"method_rank\": 3}, {\"discovery_year\": 2012, \"detection_method\": \"Transit\", \"method_count\": 93, \"method_rank\": 1}, {\"discovery_year\": 2012, \"detection_method\": \"Radial Velocity\", \"method_count\": 34, \"method_rank\": 2}, {\"discovery_year\": 2012, \"detection_method\": \"Gravitational Microlensing\", \"method_count\": 7, \"method_rank\": 3}, {\"discovery_year\": 2011, \"detection_method\": \"Transit\", \"method_count\": 79, \"method_rank\": 1}, {\"discovery_year\": 2011, \"detection_method\": \"Radial Velocity\", \"method_count\": 47, \"method_rank\": 2}, {\"discovery_year\": 2011, \"detection_method\": \"Eclipse Timing Variations\", \"method_count\": 5, \"method_rank\": 3}, {\"discovery_year\": 2010, \"detection_method\": \"Transit\", \"method_count\": 46, \"method_rank\": 1}, {\"discovery_year\": 2010, \"detection_method\": \"Radial Velocity\", \"method_count\": 41, \"method_rank\": 2}, {\"discovery_year\": 2010, \"detection_method\": \"Direct Imaging\", \"method_count\": 6, \"method_rank\": 3}, {\"discovery_year\": 2009, \"detection_method\": \"Radial Velocity\", \"method_count\": 73, \"method_rank\": 1}, {\"discovery_year\": 2009, \"detection_method\": \"Transit\", \"method_count\": 18, \"method_rank\": 2}, {\"discovery_year\": 2009, \"detection_method\": \"Gravitational Microlensing\", \"method_count\": 2, \"method_rank\": 3}, {\"discovery_year\": 2008, \"detection_method\": \"Radial Velocity\", \"method_count\": 37, \"method_rank\": 1}, {\"discovery_year\": 2008, \"detection_method\": \"Transit\", \"method_count\": 17, \"method_rank\": 2}, {\"discovery_year\": 2008, \"detection_method\": \"Direct Imaging\", \"method_count\": 7, \"method_rank\": 3}, {\"discovery_year\": 2007, \"detection_method\": \"Radial Velocity\", \"method_count\": 34, \"method_rank\": 1}, {\"discovery_year\": 2007, \"detection_method\": \"Transit\", \"method_count\": 16, \"method_rank\": 2}, {\"discovery_year\": 2007, \"detection_method\": \"Direct Imaging\", \"method_count\": 1, \"method_rank\": 3}, {\"discovery_year\": 2007, \"detection_method\": \"Pulsation Timing Variations\", \"method_count\": 1, \"method_rank\": 3}, {\"discovery_year\": 2006, \"detection_method\": \"Radial Velocity\", \"method_count\": 21, \"method_rank\": 1}, {\"discovery_year\": 2006, \"detection_method\": \"Transit\", \"method_count\": 5, \"method_rank\": 2}, {\"discovery_year\": 2006, \"detection_method\": \"Direct Imaging\", \"method_count\": 4, \"method_rank\": 3}, {\"discovery_year\": 2005, \"detection_method\": \"Radial Velocity\", \"method_count\": 33, \"method_rank\": 1}, {\"discovery_year\": 2005, \"detection_method\": \"Gravitational Microlensing\", \"method_count\": 2, \"method_rank\": 2}, {\"discovery_year\": 2005, \"detection_method\": \"Direct Imaging\", \"method_count\": 1, \"method_rank\": 3}, {\"discovery_year\": 2004, \"detection_method\": \"Radial Velocity\", \"method_count\": 18, \"method_rank\": 1}, {\"discovery_year\": 2004, \"detection_method\": \"Transit\", \"method_count\": 5, \"method_rank\": 2}, {\"discovery_year\": 2004, \"detection_method\": \"Direct Imaging\", \"method_count\": 3, \"method_rank\": 3}, {\"discovery_year\": 2003, \"detection_method\": \"Radial Velocity\", \"method_count\": 21, \"method_rank\": 1}, {\"discovery_year\": 2003, \"detection_method\": \"Pulsar Timing\", \"method_count\": 1, \"method_rank\": 2}, {\"discovery_year\": 2002, \"detection_method\": \"Radial Velocity\", \"method_count\": 28, \"method_rank\": 1}, {\"discovery_year\": 2002, \"detection_method\": \"Transit\", \"method_count\": 1, \"method_rank\": 2}, {\"discovery_year\": 2001, \"detection_method\": \"Radial Velocity\", \"method_count\": 12, \"method_rank\": 1}, {\"discovery_year\": 2000, \"detection_method\": \"Radial Velocity\", \"method_count\": 16, \"method_rank\": 1}, {\"discovery_year\": 1999, \"detection_method\": \"Radial Velocity\", \"method_count\": 13, \"method_rank\": 1}, {\"discovery_year\": 1998, \"detection_method\": \"Radial Velocity\", \"method_count\": 6, \"method_rank\": 1}, {\"discovery_year\": 1997, \"detection_method\": \"Radial Velocity\", \"method_count\": 1, \"method_rank\": 1}, {\"discovery_year\": 1996, \"detection_method\": \"Radial Velocity\", \"method_count\": 6, \"method_rank\": 1}, {\"discovery_year\": 1995, \"detection_method\": \"Radial Velocity\", \"method_count\": 1, \"method_rank\": 1}, {\"discovery_year\": 1994, \"detection_method\": \"Pulsar Timing\", \"method_count\": 1, \"method_rank\": 1}, {\"discovery_year\": 1992, \"detection_method\": \"Pulsar Timing\", \"method_count\": 2, \"method_rank\": 1}]'"
      ]
     },
     "execution_count": 53,
     "metadata": {},
     "output_type": "execute_result"
    }
   ],
   "source": [
    "res3=run_query(query3, cursor)\n",
    "res3"
   ]
  },
  {
   "cell_type": "code",
   "execution_count": 26,
   "metadata": {},
   "outputs": [
    {
     "data": {
      "text/plain": [
       "str"
      ]
     },
     "execution_count": 26,
     "metadata": {},
     "output_type": "execute_result"
    }
   ],
   "source": [
    "type(res1)"
   ]
  },
  {
   "cell_type": "code",
   "execution_count": 45,
   "metadata": {},
   "outputs": [],
   "source": [
    "# TODO: Check query equivalence\n",
    "def parse_results(results_json):\n",
    "    \"\"\"Parse the JSON results from the 'results' column.\"\"\"\n",
    "    return json.loads(results_json)\n",
    "\n",
    "def compare_results(query_results, expected_results):\n",
    "    \"\"\"Compare the query results with the expected results.\"\"\"\n",
    "    # Sort the results for comparison\n",
    "    query_results_sorted = sorted(query_results, key=lambda x: json.dumps(x, sort_keys=True))\n",
    "    expected_results_sorted = sorted(expected_results, key=lambda x: json.dumps(x, sort_keys=True))\n",
    "    return query_results_sorted == expected_results_sorted\n",
    "\n",
    "def check_query_equivalence(query, expected_results_json, cursor):\n",
    "    \"\"\"Check if the query results are equivalent to the expected results.\"\"\"\n",
    "    query_results = run_query(query, cursor)\n",
    "    return compare_results(query_results, expected_results_json)"
   ]
  },
  {
   "cell_type": "code",
   "execution_count": 46,
   "metadata": {},
   "outputs": [
    {
     "data": {
      "text/plain": [
       "True"
      ]
     },
     "execution_count": 46,
     "metadata": {},
     "output_type": "execute_result"
    }
   ],
   "source": [
    "compare_results(res1,res2)"
   ]
  },
  {
   "cell_type": "code",
   "execution_count": 47,
   "metadata": {},
   "outputs": [
    {
     "data": {
      "text/plain": [
       "False"
      ]
     },
     "execution_count": 47,
     "metadata": {},
     "output_type": "execute_result"
    }
   ],
   "source": [
    "compare_results(res1,res3)"
   ]
  },
  {
   "cell_type": "code",
   "execution_count": 48,
   "metadata": {},
   "outputs": [
    {
     "data": {
      "text/plain": [
       "True"
      ]
     },
     "execution_count": 48,
     "metadata": {},
     "output_type": "execute_result"
    }
   ],
   "source": [
    "check_query_equivalence(query1,res1,cursor)"
   ]
  },
  {
   "cell_type": "code",
   "execution_count": 49,
   "metadata": {},
   "outputs": [
    {
     "data": {
      "text/plain": [
       "False"
      ]
     },
     "execution_count": 49,
     "metadata": {},
     "output_type": "execute_result"
    }
   ],
   "source": [
    "check_query_equivalence(query1,res3,cursor)"
   ]
  },
  {
   "cell_type": "markdown",
   "metadata": {},
   "source": [
    "- Use OperationalError to mark queries that didn't execute; really work on having output only return SQL or parsing out the SQL. "
   ]
  },
  {
   "cell_type": "code",
   "execution_count": null,
   "metadata": {},
   "outputs": [],
   "source": [
    "import torch; torch.cuda.is_available()"
   ]
  },
  {
   "cell_type": "code",
   "execution_count": 6,
   "metadata": {},
   "outputs": [],
   "source": [
    "\n",
    "# from premsql.executors.from_sqlite import SQLiteExecutor\n",
    "# from premsql.datasets import Text2SQLDataset\n",
    "# from premsql.tuner.peft import Text2SQLPeftTuner\n",
    "# from premsql.datasets.error_dataset import ErrorDatasetGenerator"
   ]
  },
  {
   "cell_type": "markdown",
   "metadata": {},
   "source": [
    "## Generate from a ready model"
   ]
  },
  {
   "cell_type": "code",
   "execution_count": 55,
   "metadata": {},
   "outputs": [],
   "source": [
    "context = \"\"\"CREATE TABLE exoplanets (\n",
    "    name TEXT,\n",
    "    distance REAL,\n",
    "    stellar_magnitude REAL,\n",
    "    planet_type TEXT,\n",
    "    discovery_year INTEGER,\n",
    "    mass_multiplier REAL,\n",
    "    mass_wrt TEXT,\n",
    "    radius_multiplier REAL,\n",
    "    radius_wrt TEXT,\n",
    "    orbital_radius REAL,\n",
    "    orbital_period REAL,\n",
    "    eccentricity REAL,\n",
    "    detection_method TEXT\n",
    "); CREATE TABLE reference_planets (name TEXT, mass REAL);  'mass_wrt' in exoplanets table has a one-to-one match to 'name' in reference_planets table, and  'name' refers to either Earth or Jupyter, with Jupyter having 317.8 the mass of Earth.\"\"\"\n",
    "\n",
    "question = \"\"\"Rank exoplanets based on their mass within each discovery year and return the top 3 planets with the highest mass.\"\"\"\n",
    "answer = \"\"\"WITH RankedExoplanets AS (\n",
    "    SELECT \n",
    "        e.name,\n",
    "        e.mass_multiplier * r.mass AS mass,\n",
    "        e.discovery_year,\n",
    "        RANK() OVER (PARTITION BY e.discovery_year ORDER BY e.mass_multiplier * r.mass DESC) AS mass_rank\n",
    "    FROM exoplanets e\n",
    "    JOIN reference_planets r ON e.mass_wrt = r.name\n",
    ")\n",
    "\n",
    "SELECT * \n",
    "FROM RankedExoplanets\n",
    "WHERE mass_rank <= 3; \"\"\"\n",
    "full_question = f\"\"\"<|begin_of_text|><|start_header_id|>system<|end_header_id|>\n",
    "\n",
    "You are a helpful assistant who is a SQL expert. Your task is to write a SQL query based on the given context and question.<|eot_id|><|start_header_id|>user<|end_header_id|>\n",
    "\n",
    "Context: {context}\n",
    "Question: {question}<|eot_id|><|start_header_id|>assistant<|end_header_id|>SQL Query:\"\"\""
   ]
  },
  {
   "cell_type": "code",
   "execution_count": 2,
   "metadata": {},
   "outputs": [
    {
     "name": "stderr",
     "output_type": "stream",
     "text": [
      "/home/mainuser/anaconda3/envs/sqlft/lib/python3.11/site-packages/tqdm/auto.py:21: TqdmWarning: IProgress not found. Please update jupyter and ipywidgets. See https://ipywidgets.readthedocs.io/en/stable/user_install.html\n",
      "  from .autonotebook import tqdm as notebook_tqdm\n",
      "Unrecognized keys in `rope_scaling` for 'rope_type'='linear': {'type'}\n",
      "Loading checkpoint shards: 100%|██████████| 2/2 [00:00<00:00, 11.24it/s]\n"
     ]
    }
   ],
   "source": [
    "from transformers import AutoModelForCausalLM, AutoTokenizer\n",
    "MODEL_ID=\"premai-io/prem-1B-SQL\"\n",
    "model = AutoModelForCausalLM.from_pretrained(MODEL_ID).to(\"cuda:1\")\n",
    "tokenizer = AutoTokenizer.from_pretrained(MODEL_ID)\n"
   ]
  },
  {
   "cell_type": "code",
   "execution_count": 4,
   "metadata": {},
   "outputs": [
    {
     "data": {
      "text/plain": [
       "LlamaForCausalLM(\n",
       "  (model): LlamaModel(\n",
       "    (embed_tokens): Embedding(32256, 2048)\n",
       "    (layers): ModuleList(\n",
       "      (0-23): 24 x LlamaDecoderLayer(\n",
       "        (self_attn): LlamaSdpaAttention(\n",
       "          (q_proj): Linear(in_features=2048, out_features=2048, bias=False)\n",
       "          (k_proj): Linear(in_features=2048, out_features=2048, bias=False)\n",
       "          (v_proj): Linear(in_features=2048, out_features=2048, bias=False)\n",
       "          (o_proj): Linear(in_features=2048, out_features=2048, bias=False)\n",
       "          (rotary_emb): LlamaRotaryEmbedding()\n",
       "        )\n",
       "        (mlp): LlamaMLP(\n",
       "          (gate_proj): Linear(in_features=2048, out_features=5504, bias=False)\n",
       "          (up_proj): Linear(in_features=2048, out_features=5504, bias=False)\n",
       "          (down_proj): Linear(in_features=5504, out_features=2048, bias=False)\n",
       "          (act_fn): SiLU()\n",
       "        )\n",
       "        (input_layernorm): LlamaRMSNorm((2048,), eps=1e-06)\n",
       "        (post_attention_layernorm): LlamaRMSNorm((2048,), eps=1e-06)\n",
       "      )\n",
       "    )\n",
       "    (norm): LlamaRMSNorm((2048,), eps=1e-06)\n",
       "    (rotary_emb): LlamaRotaryEmbedding()\n",
       "  )\n",
       "  (lm_head): Linear(in_features=2048, out_features=32256, bias=False)\n",
       ")"
      ]
     },
     "execution_count": 4,
     "metadata": {},
     "output_type": "execute_result"
    }
   ],
   "source": [
    "model"
   ]
  },
  {
   "cell_type": "code",
   "execution_count": 5,
   "metadata": {},
   "outputs": [
    {
     "data": {
      "text/plain": [
       "LlamaTokenizerFast(name_or_path='premai-io/prem-1B-SQL', vocab_size=32000, model_max_length=16384, is_fast=True, padding_side='left', truncation_side='right', special_tokens={'bos_token': '<｜begin▁of▁sentence｜>', 'eos_token': '<|EOT|>', 'pad_token': '<｜end▁of▁sentence｜>'}, clean_up_tokenization_spaces=False),  added_tokens_decoder={\n",
       "\t32000: AddedToken(\"õ\", rstrip=False, lstrip=False, single_word=False, normalized=True, special=False),\n",
       "\t32001: AddedToken(\"÷\", rstrip=False, lstrip=False, single_word=False, normalized=True, special=False),\n",
       "\t32002: AddedToken(\"Á\", rstrip=False, lstrip=False, single_word=False, normalized=True, special=False),\n",
       "\t32003: AddedToken(\"ý\", rstrip=False, lstrip=False, single_word=False, normalized=True, special=False),\n",
       "\t32004: AddedToken(\"À\", rstrip=False, lstrip=False, single_word=False, normalized=True, special=False),\n",
       "\t32005: AddedToken(\"ÿ\", rstrip=False, lstrip=False, single_word=False, normalized=True, special=False),\n",
       "\t32006: AddedToken(\"ø\", rstrip=False, lstrip=False, single_word=False, normalized=True, special=False),\n",
       "\t32007: AddedToken(\"ú\", rstrip=False, lstrip=False, single_word=False, normalized=True, special=False),\n",
       "\t32008: AddedToken(\"þ\", rstrip=False, lstrip=False, single_word=False, normalized=True, special=False),\n",
       "\t32009: AddedToken(\"ü\", rstrip=False, lstrip=False, single_word=False, normalized=True, special=False),\n",
       "\t32010: AddedToken(\"ù\", rstrip=False, lstrip=False, single_word=False, normalized=True, special=False),\n",
       "\t32011: AddedToken(\"ö\", rstrip=False, lstrip=False, single_word=False, normalized=True, special=False),\n",
       "\t32012: AddedToken(\"û\", rstrip=False, lstrip=False, single_word=False, normalized=True, special=False),\n",
       "\t32013: AddedToken(\"<｜begin▁of▁sentence｜>\", rstrip=False, lstrip=False, single_word=False, normalized=True, special=True),\n",
       "\t32014: AddedToken(\"<｜end▁of▁sentence｜>\", rstrip=False, lstrip=False, single_word=False, normalized=True, special=True),\n",
       "\t32015: AddedToken(\"<｜fim▁hole｜>\", rstrip=False, lstrip=False, single_word=False, normalized=True, special=False),\n",
       "\t32016: AddedToken(\"<｜fim▁begin｜>\", rstrip=False, lstrip=False, single_word=False, normalized=True, special=False),\n",
       "\t32017: AddedToken(\"<｜fim▁end｜>\", rstrip=False, lstrip=False, single_word=False, normalized=True, special=False),\n",
       "\t32018: AddedToken(\"<pad>\", rstrip=False, lstrip=False, single_word=False, normalized=True, special=False),\n",
       "\t32019: AddedToken(\"<|User|>\", rstrip=False, lstrip=False, single_word=False, normalized=True, special=False),\n",
       "\t32020: AddedToken(\"<|Assistant|>\", rstrip=False, lstrip=False, single_word=False, normalized=True, special=False),\n",
       "\t32021: AddedToken(\"<|EOT|>\", rstrip=False, lstrip=False, single_word=False, normalized=True, special=True),\n",
       "}"
      ]
     },
     "execution_count": 5,
     "metadata": {},
     "output_type": "execute_result"
    }
   ],
   "source": [
    "tokenizer"
   ]
  },
  {
   "cell_type": "code",
   "execution_count": 10,
   "metadata": {},
   "outputs": [
    {
     "data": {
      "text/plain": [
       "LlamaTokenizerFast(name_or_path='premai-io/prem-1B-SQL', vocab_size=32000, model_max_length=16384, is_fast=True, padding_side='left', truncation_side='right', special_tokens={'bos_token': '<｜begin▁of▁sentence｜>', 'eos_token': '<|EOT|>', 'pad_token': '<｜end▁of▁sentence｜>'}, clean_up_tokenization_spaces=False),  added_tokens_decoder={\n",
       "\t32000: AddedToken(\"õ\", rstrip=False, lstrip=False, single_word=False, normalized=True, special=False),\n",
       "\t32001: AddedToken(\"÷\", rstrip=False, lstrip=False, single_word=False, normalized=True, special=False),\n",
       "\t32002: AddedToken(\"Á\", rstrip=False, lstrip=False, single_word=False, normalized=True, special=False),\n",
       "\t32003: AddedToken(\"ý\", rstrip=False, lstrip=False, single_word=False, normalized=True, special=False),\n",
       "\t32004: AddedToken(\"À\", rstrip=False, lstrip=False, single_word=False, normalized=True, special=False),\n",
       "\t32005: AddedToken(\"ÿ\", rstrip=False, lstrip=False, single_word=False, normalized=True, special=False),\n",
       "\t32006: AddedToken(\"ø\", rstrip=False, lstrip=False, single_word=False, normalized=True, special=False),\n",
       "\t32007: AddedToken(\"ú\", rstrip=False, lstrip=False, single_word=False, normalized=True, special=False),\n",
       "\t32008: AddedToken(\"þ\", rstrip=False, lstrip=False, single_word=False, normalized=True, special=False),\n",
       "\t32009: AddedToken(\"ü\", rstrip=False, lstrip=False, single_word=False, normalized=True, special=False),\n",
       "\t32010: AddedToken(\"ù\", rstrip=False, lstrip=False, single_word=False, normalized=True, special=False),\n",
       "\t32011: AddedToken(\"ö\", rstrip=False, lstrip=False, single_word=False, normalized=True, special=False),\n",
       "\t32012: AddedToken(\"û\", rstrip=False, lstrip=False, single_word=False, normalized=True, special=False),\n",
       "\t32013: AddedToken(\"<｜begin▁of▁sentence｜>\", rstrip=False, lstrip=False, single_word=False, normalized=True, special=True),\n",
       "\t32014: AddedToken(\"<｜end▁of▁sentence｜>\", rstrip=False, lstrip=False, single_word=False, normalized=True, special=True),\n",
       "\t32015: AddedToken(\"<｜fim▁hole｜>\", rstrip=False, lstrip=False, single_word=False, normalized=True, special=False),\n",
       "\t32016: AddedToken(\"<｜fim▁begin｜>\", rstrip=False, lstrip=False, single_word=False, normalized=True, special=False),\n",
       "\t32017: AddedToken(\"<｜fim▁end｜>\", rstrip=False, lstrip=False, single_word=False, normalized=True, special=False),\n",
       "\t32018: AddedToken(\"<pad>\", rstrip=False, lstrip=False, single_word=False, normalized=True, special=False),\n",
       "\t32019: AddedToken(\"<|User|>\", rstrip=False, lstrip=False, single_word=False, normalized=True, special=False),\n",
       "\t32020: AddedToken(\"<|Assistant|>\", rstrip=False, lstrip=False, single_word=False, normalized=True, special=False),\n",
       "\t32021: AddedToken(\"<|EOT|>\", rstrip=False, lstrip=False, single_word=False, normalized=True, special=True),\n",
       "}"
      ]
     },
     "execution_count": 10,
     "metadata": {},
     "output_type": "execute_result"
    }
   ],
   "source": [
    "tokenizer"
   ]
  },
  {
   "cell_type": "code",
   "execution_count": 17,
   "metadata": {},
   "outputs": [],
   "source": [
    "import torch\n",
    "\n",
    "def generate_sql(context, question, max_new_tokens = 256, debug=False):\n",
    "    full_question = f\"\"\"<|begin_of_text|><|start_header_id|>system<|end_header_id|>\n",
    "\n",
    "You are a helpful assistant who is a SQL expert. Your task is to write a SQL query based on the given context and question.<|eot_id|><|start_header_id|>user<|end_header_id|>\n",
    "\n",
    "Context: {context}\n",
    "Question: {question}<|eot_id|><|start_header_id|>assistant<|end_header_id|>SQL Query:\"\"\"\n",
    "    model_input = tokenizer(full_question, return_tensors=\"pt\").to(\"cuda:1\")\n",
    "    model.eval()\n",
    "    with torch.no_grad():\n",
    "        out = tokenizer.decode(model.generate(**model_input,max_new_tokens=max_new_tokens)[0],skip_special_tokens=True)\n",
    "    res = out[out.find('SQL Query:')+11:]\n",
    "    if debug: print(res)\n",
    "    run_query(res, cursor)\n",
    "    return res\n",
    "\n"
   ]
  },
  {
   "cell_type": "code",
   "execution_count": 26,
   "metadata": {},
   "outputs": [],
   "source": [
    "import torch\n",
    "# BAD, BAD, BAD\n",
    "def generate_sql(context, question, max_new_tokens = 256, debug=False):\n",
    "    full_question = f\"\"\"<|begin_of_sentence|>\n",
    "\n",
    "System: You are a helpful assistant who is a SQL expert. Your task is to write a SQL query based on the given context and question.\n",
    "<|User|>\n",
    "Context: {context}\n",
    "Question: {question}<|EOT|>\n",
    "<|Assistant|>\n",
    "SQL Query:<｜fim▁begin｜>\"\"\"\n",
    "    model_input = tokenizer(full_question, return_tensors=\"pt\").to(\"cuda:1\")\n",
    "    model.eval()\n",
    "    with torch.no_grad():\n",
    "        out = tokenizer.decode(model.generate(**model_input,max_new_tokens=max_new_tokens)[0],skip_special_tokens=True)\n",
    "    res = out[out.find('SQL Query:')+11:]\n",
    "    if debug: print(res)\n",
    "    run_query(res, cursor)\n",
    "    return res\n",
    "\n"
   ]
  },
  {
   "cell_type": "markdown",
   "metadata": {},
   "source": [
    "- Now generalize it to run on every query in valid set and get the results, counting OperationalError (query valid against db?), and perhaps starting to count execution accuracy (query accurate?)"
   ]
  },
  {
   "cell_type": "code",
   "execution_count": 14,
   "metadata": {},
   "outputs": [
    {
     "name": "stdout",
     "output_type": "stream",
     "text": [
      "Valid Data Loaded:\n",
      "[{'context': \"CREATE TABLE exoplanets (\\n    name TEXT,\\n    distance REAL,\\n    stellar_magnitude REAL,\\n    planet_type TEXT,\\n    discovery_year INTEGER,\\n    mass_multiplier REAL,\\n    mass_wrt TEXT,\\n    radius_multiplier REAL,\\n    radius_wrt TEXT,\\n    orbital_radius REAL,\\n    orbital_period REAL,\\n    eccentricity REAL,\\n    detection_method TEXT\\n); CREATE TABLE reference_planets (name TEXT, mass REAL);  'mass_wrt' in exoplanets table has a one-to-one match to 'name' in reference_planets table, and  'name' refers to either Earth or Jupyter, with Jupyter having 317.8 the mass of Earth.\", 'question': 'Determine the number of exoplanets discovered each year, and show the year with the highest number of discoveries.', 'answer': 'SELECT discovery_year, COUNT(*) AS count\\nFROM exoplanets\\nGROUP BY discovery_year\\nORDER BY count DESC\\nLIMIT 1;', 'results': '[{\"discovery_year\": 2016, \"count\": 1517}]'}, {'context': \"CREATE TABLE exoplanets (\\n    name TEXT,\\n    distance REAL,\\n    stellar_magnitude REAL,\\n    planet_type TEXT,\\n    discovery_year INTEGER,\\n    mass_multiplier REAL,\\n    mass_wrt TEXT,\\n    radius_multiplier REAL,\\n    radius_wrt TEXT,\\n    orbital_radius REAL,\\n    orbital_period REAL,\\n    eccentricity REAL,\\n    detection_method TEXT\\n); CREATE TABLE reference_planets (name TEXT, mass REAL);  'mass_wrt' in exoplanets table has a one-to-one match to 'name' in reference_planets table, and  'name' refers to either Earth or Jupyter, with Jupyter having 317.8 the mass of Earth.\", 'question': 'Display the detection method that has produced the most massive exoplanets (based on total mass).', 'answer': 'SELECT detection_method,\\n       SUM(mass_multiplier * (SELECT mass FROM reference_planets WHERE name = mass_wrt)) AS total_mass\\nFROM exoplanets\\nGROUP BY detection_method\\nORDER BY total_mass DESC\\nLIMIT 1;', 'results': '[{\"detection_method\": \"Radial Velocity\", \"total_mass\": 6.38296985206948e+30}]'}]\n"
     ]
    }
   ],
   "source": [
    "with open('./databases/valid.json', 'r') as valid_file:\n",
    "    valid_loaded = json.load(valid_file)\n",
    "    print(\"Valid Data Loaded:\")\n",
    "    print(valid_loaded[:2])  # Print the first 2 records for verification"
   ]
  },
  {
   "cell_type": "code",
   "execution_count": 15,
   "metadata": {},
   "outputs": [
    {
     "data": {
      "text/plain": [
       "10"
      ]
     },
     "execution_count": 15,
     "metadata": {},
     "output_type": "execute_result"
    }
   ],
   "source": [
    "len(valid_loaded)"
   ]
  },
  {
   "cell_type": "code",
   "execution_count": 27,
   "metadata": {},
   "outputs": [
    {
     "name": "stderr",
     "output_type": "stream",
     "text": [
      "Setting `pad_token_id` to `eos_token_id`:32021 for open-end generation.\n",
      "Setting `pad_token_id` to `eos_token_id`:32021 for open-end generation.\n"
     ]
    },
    {
     "name": "stdout",
     "output_type": "stream",
     "text": [
      "｜fim▁begin｜>SELECT discovery_year, COUNT(*) as num_exoplanets FROM exoplanets GROUP BY discovery_year ORDER BY num_exoplanets DESC LIMIT 1;\n"
     ]
    },
    {
     "name": "stderr",
     "output_type": "stream",
     "text": [
      "Setting `pad_token_id` to `eos_token_id`:32021 for open-end generation.\n"
     ]
    },
    {
     "name": "stdout",
     "output_type": "stream",
     "text": [
      "｜fim▁begin｜>SELECT detection_method FROM exoplanets WHERE mass_wrt = (SELECT name FROM reference_planets WHERE mass = 317.8) ORDER BY mass DESC LIMIT 1;\n"
     ]
    },
    {
     "name": "stderr",
     "output_type": "stream",
     "text": [
      "Setting `pad_token_id` to `eos_token_id`:32021 for open-end generation.\n"
     ]
    },
    {
     "name": "stdout",
     "output_type": "stream",
     "text": [
      "｜fim▁begin｜>SELECT discovery_year, SUM(mass) OVER (PARTITION BY discovery_year) AS total_mass FROM exoplanets ORDER BY total_mass DESC LIMIT 5;\n"
     ]
    },
    {
     "name": "stderr",
     "output_type": "stream",
     "text": [
      "Setting `pad_token_id` to `eos_token_id`:32021 for open-end generation.\n"
     ]
    },
    {
     "name": "stdout",
     "output_type": "stream",
     "text": [
      "｜fim▁begin｜>SELECT name, orbital_period, discovery_year FROM (SELECT name, orbital_period, discovery_year, ROW_NUMBER() OVER (PARTITION BY discovery_year ORDER BY orbital_period DESC) as rn FROM exoplanets) t WHERE rn <= 3;\n"
     ]
    },
    {
     "name": "stderr",
     "output_type": "stream",
     "text": [
      "Setting `pad_token_id` to `eos_token_id`:32021 for open-end generation.\n"
     ]
    },
    {
     "name": "stdout",
     "output_type": "stream",
     "text": [
      "｜fim▁begin｜>SELECT * FROM exoplanets WHERE discovery_year < 2000 AND eccentricity < 0.2;\n"
     ]
    },
    {
     "name": "stderr",
     "output_type": "stream",
     "text": [
      "Setting `pad_token_id` to `eos_token_id`:32021 for open-end generation.\n"
     ]
    },
    {
     "name": "stdout",
     "output_type": "stream",
     "text": [
      "｜fim▁begin｜>SELECT DISTINCT planet_type FROM exoplanets WHERE discovery_year < 2020;\n"
     ]
    },
    {
     "name": "stderr",
     "output_type": "stream",
     "text": [
      "Setting `pad_token_id` to `eos_token_id`:32021 for open-end generation.\n"
     ]
    },
    {
     "name": "stdout",
     "output_type": "stream",
     "text": [
      "｜fim▁begin｜>SELECT name, mass FROM (SELECT name, mass, discovery_year, MIN(mass) OVER (PARTITION BY discovery_year) as min_mass FROM exoplanets) WHERE mass = min_mass;\n"
     ]
    },
    {
     "name": "stderr",
     "output_type": "stream",
     "text": [
      "Setting `pad_token_id` to `eos_token_id`:32021 for open-end generation.\n"
     ]
    },
    {
     "name": "stdout",
     "output_type": "stream",
     "text": [
      "｜fim▁begin｜>SELECT name, discovery_year, detection_method FROM exoplanets WHERE discovery_year BETWEEN (SELECT MAX(discovery_year) - 2 FROM exoplanets) AND MAX(discovery_year);\n"
     ]
    },
    {
     "name": "stderr",
     "output_type": "stream",
     "text": [
      "Setting `pad_token_id` to `eos_token_id`:32021 for open-end generation.\n"
     ]
    },
    {
     "name": "stdout",
     "output_type": "stream",
     "text": [
      "｜fim▁begin｜>SELECT planet_type, AVG(orbital_radius) AS avg_orbital_radius FROM exoplanets GROUP BY planet_type ORDER BY avg_orbital_radius DESC;\n",
      "｜fim▁begin｜>SELECT name, (mass_wrt::REAL / radius_wrt::REAL) AS ratio FROM exoplanets ORDER BY ratio DESC LIMIT 5;\n",
      "num_opp_errors: 10, num_other_exceptions:0,\n",
      "Error rate: 100.0\n"
     ]
    }
   ],
   "source": [
    "num_opp_errors = 0\n",
    "num_other_exceptions = 0\n",
    "for example in valid_loaded:\n",
    "    try:\n",
    "        generate_sql(context=example['context'], question=example['question'],debug=True)\n",
    "    except sqlite3.OperationalError:\n",
    "        num_opp_errors += 1\n",
    "    except Exception as e:\n",
    "        num_other_exceptions +=1\n",
    "        print(e)\n",
    "print(f\"num_opp_errors: {num_opp_errors}, num_other_exceptions:{num_other_exceptions},\\nError rate: {(num_other_exceptions+num_opp_errors)*100/len(valid_loaded)}\")"
   ]
  },
  {
   "cell_type": "markdown",
   "metadata": {},
   "source": [
    "### Now see if can convert Gretl data to sqlite format"
   ]
  },
  {
   "cell_type": "code",
   "execution_count": null,
   "metadata": {},
   "outputs": [],
   "source": [
    "#!pip3 install \"sqlglot[rs]\""
   ]
  },
  {
   "cell_type": "code",
   "execution_count": null,
   "metadata": {},
   "outputs": [],
   "source": [
    "import sqlglot\n",
    "sqlglot.transpile(\"SELECT EPOCH_MS(1618088028295)\", read=\"mysql\", write=\"sqlite\")[0]"
   ]
  },
  {
   "cell_type": "code",
   "execution_count": null,
   "metadata": {},
   "outputs": [],
   "source": [
    "help(sqlglot.transpile)"
   ]
  },
  {
   "cell_type": "code",
   "execution_count": null,
   "metadata": {},
   "outputs": [],
   "source": [
    "import sqlglot\n",
    "sqlglot.transpile(\"SELECT AVG(word_count) OVER (PARTITION BY EXTRACT(YEAR_QUARTER FROM publish_date)) AS avg_word_count FROM articles WHERE category = 'social_justice' AND location = 'USA' AND YEAR(publish_date) BETWEEN 2021 AND 2022;\", read=\"mysql\", write=\"sqlite\")[0]"
   ]
  },
  {
   "cell_type": "code",
   "execution_count": 111,
   "metadata": {},
   "outputs": [],
   "source": [
    "#!pip install premsql"
   ]
  },
  {
   "cell_type": "code",
   "execution_count": 100,
   "metadata": {},
   "outputs": [],
   "source": [
    "from premsql.pipelines.simple import SimpleText2SQLAgent\n",
    "from premsql.generators.huggingface import Text2SQLGeneratorHF\n",
    "from langchain_community.utilities.sql_database import SQLDatabase\n",
    "from premsql.utils import convert_sqlite_path_to_dsn\n",
    "\n",
    "dsn_or_db_path = convert_sqlite_path_to_dsn(\n",
    "  \"exoplanets_db.db\"   \n",
    ")\n",
    "db = SQLDatabase.from_uri(dsn_or_db_path)"
   ]
  },
  {
   "cell_type": "code",
   "execution_count": 101,
   "metadata": {},
   "outputs": [],
   "source": [
    "#!pip install tabulate\n",
    "#!pip install openai"
   ]
  },
  {
   "cell_type": "markdown",
   "metadata": {},
   "source": [
    "## See if can use llama3b (currently no) and prem-1B-SQL to generate answers by connecting to db"
   ]
  },
  {
   "cell_type": "code",
   "execution_count": null,
   "metadata": {},
   "outputs": [],
   "source": [
    "agent = SimpleText2SQLAgent(\n",
    "    dsn_or_db_path=db,\n",
    "    generator=Text2SQLGeneratorHF(\n",
    "        model_or_name_or_path=\"premai-io/prem-1B-SQL\",\n",
    "        #model_or_name_or_path=\"llama3-3b\",\n",
    "        experiment_name=\"test_nli\",\n",
    "        device=\"cuda:0\",\n",
    "        type=\"test\"\n",
    "    ),\n",
    ")"
   ]
  },
  {
   "cell_type": "code",
   "execution_count": null,
   "metadata": {},
   "outputs": [],
   "source": [
    "response = agent.query(\n",
    "    question=\"please list the most recently discovered exoplanet\",\n",
    "    do_sample = True\n",
    ")\n",
    "\n",
    "response[\"table\"]"
   ]
  },
  {
   "cell_type": "code",
   "execution_count": null,
   "metadata": {},
   "outputs": [],
   "source": [
    "response"
   ]
  },
  {
   "cell_type": "code",
   "execution_count": null,
   "metadata": {},
   "outputs": [],
   "source": [
    "response = agent.query(\n",
    "    question=\"please list the most recently discovered exoplanet\",\n",
    "    do_sample = True\n",
    ")\n",
    "\n",
    "response[\"table\"]"
   ]
  },
  {
   "cell_type": "code",
   "execution_count": null,
   "metadata": {},
   "outputs": [],
   "source": [
    "cursor.execute(\"SELECT name FROM sqlite_master WHERE type='table';\")\n",
    "tables = cursor.fetchall()\n",
    "print(\"Tables in the database:\")\n",
    "for table in tables:\n",
    "    print(table[0])"
   ]
  },
  {
   "cell_type": "code",
   "execution_count": null,
   "metadata": {},
   "outputs": [],
   "source": [
    "import random\n",
    "\n",
    "# Sample dataset of questions and queries\n",
    "questions = [\n",
    "    {\n",
    "        \"question\": \"What is the average mass of exoplanets discovered each year?\",\n",
    "        \"query\": \"SELECT discovery_year, AVG(mass) FROM exoplanets GROUP BY discovery_year;\"\n",
    "    },\n",
    "    {\n",
    "        \"question\": \"How many exoplanets were discovered using each method?\",\n",
    "        \"query\": \"SELECT detection_method, COUNT(*) FROM exoplanets GROUP BY detection_method;\"\n",
    "    },\n",
    "    # Add more questions and queries...\n",
    "]\n",
    "\n",
    "# Example of variable options to permute\n",
    "variables = {\n",
    "    \"threshold\": [5, 10, 15],\n",
    "    \"column\": [\"stellar_magnitude\", \"distance\", \"orbital_period\"],\n",
    "    \"aggregate\": [\"AVG\", \"COUNT\", \"SUM\"],\n",
    "}\n",
    "\n",
    "# Function to create permutations\n",
    "def generate_permutations(questions, variables):\n",
    "    new_questions = []\n",
    "    for item in questions:\n",
    "        for threshold in variables[\"threshold\"]:\n",
    "            for column in variables[\"column\"]:\n",
    "                for agg in variables[\"aggregate\"]:\n",
    "                    # Create a new question and query\n",
    "                    new_question = item[\"question\"].replace(\"average mass\", f\"{agg.lower()} {column}\") + f\" (threshold: {threshold})\"\n",
    "                    new_query = item[\"query\"].replace(\"AVG(mass)\", f\"{agg}({column})\").replace(\"WHERE ...\", f\"WHERE {column} > {threshold}\")\n",
    "                    \n",
    "                    new_questions.append({\n",
    "                        \"question\": new_question,\n",
    "                        \"query\": new_query\n",
    "                    })\n",
    "    return new_questions\n",
    "\n",
    "# Generate new questions and queries\n",
    "new_dataset = generate_permutations(questions, variables)\n",
    "\n",
    "# Display new questions and queries\n",
    "for item in new_dataset:\n",
    "    print(f\"Question: {item['question']}\")\n",
    "    print(f\"SQL Query: {item['query']}\")\n",
    "    print()\n"
   ]
  },
  {
   "cell_type": "markdown",
   "metadata": {},
   "source": [
    "## TODOs:"
   ]
  },
  {
   "cell_type": "markdown",
   "metadata": {},
   "source": [
    "- Quantization and sqlite android/ios integration and emulator testing?"
   ]
  },
  {
   "cell_type": "markdown",
   "metadata": {},
   "source": []
  }
 ],
 "metadata": {
  "kernelspec": {
   "display_name": "sqlft",
   "language": "python",
   "name": "python3"
  },
  "language_info": {
   "codemirror_mode": {
    "name": "ipython",
    "version": 3
   },
   "file_extension": ".py",
   "mimetype": "text/x-python",
   "name": "python",
   "nbconvert_exporter": "python",
   "pygments_lexer": "ipython3",
   "version": "3.11.9"
  }
 },
 "nbformat": 4,
 "nbformat_minor": 2
}
