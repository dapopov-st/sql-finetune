{
 "cells": [
  {
   "cell_type": "code",
   "execution_count": null,
   "metadata": {},
   "outputs": [],
   "source": []
  },
  {
   "cell_type": "markdown",
   "metadata": {},
   "source": [
    "- Need instruction, input, output for the template"
   ]
  },
  {
   "cell_type": "code",
   "execution_count": 1,
   "metadata": {},
   "outputs": [
    {
     "name": "stderr",
     "output_type": "stream",
     "text": [
      "/home/mainuser/anaconda3/envs/sqlft/lib/python3.11/site-packages/tqdm/auto.py:21: TqdmWarning: IProgress not found. Please update jupyter and ipywidgets. See https://ipywidgets.readthedocs.io/en/stable/user_install.html\n",
      "  from .autonotebook import tqdm as notebook_tqdm\n",
      "Map: 100%|██████████| 13264/13264 [00:00<00:00, 21221.53 examples/s]\n"
     ]
    }
   ],
   "source": [
    "import datasets\n",
    "from copy import deepcopy\n",
    "dataset = datasets.load_from_disk('./data')\n",
    "#datasets.load_dataset('b-mc2/sql-create-context',split='train')\n",
    "\n",
    "orig_dataset = deepcopy(dataset)\n",
    "dataset\n",
    "def formatting_prompts_func(sample):\n",
    "    \"\"\"Given a sample dictionary with keys \"title\" and \"abstract\" format into a prompt.\n",
    "\n",
    "    Args:\n",
    "      sample: A sample dictionary from a Hugging Face dataset.\n",
    "\n",
    "    Returns:\n",
    "      sample: sample dictionary with \"text\" key for the formatted prompt.\n",
    "    \"\"\"\n",
    "    #sample['text']=f\"[INST] <> Write SQL code to answer the question based on the context. Please wrap your code answer using ```: <> {sample['question']} {sample['context']} [/INST] {sample['answer']}\"\n",
    "    sample['instruction']=\"You are a helpful assistant who is a SQL expert. Your task is to write a SQL query based on the given context and question.\"\n",
    "    sample['input'] = f\"\"\"\n",
    "Context: {sample['sql_context']}\n",
    "Question: {sample['sql_prompt']}<|end|>\n",
    "\"\"\"\n",
    "    \n",
    "    sample['output'] = f\"\"\"\n",
    "SQL Query:\n",
    "{sample['sql']}\n",
    "<|end|>\n",
    "    \"\"\"\n",
    "    return sample\n",
    "\n",
    "def filter_func(example):\n",
    "    # Replace 'column_name' and 'value' with the actual column name and value\n",
    "    return (example['sql_complexity'] == 'window functions' \n",
    "            or example['sql_complexity'] == 'multiple_joins'\n",
    "            or example['sql_complexity'] == 'subqueries'\n",
    "            )\n",
    "#dataset = load_from_disk('./data')\n",
    "dataset = (dataset\n",
    "          # .shuffle(1337)\n",
    "           #.map(formatting_prompts_func)\n",
    "           .filter(filter_func)#['train']\n",
    "            #.train_test_split(test_size=VAL_SIZE)\n",
    ")\n",
    "dataset = dataset.map(formatting_prompts_func,\n",
    "                      remove_columns=['id','domain','domain_description',\n",
    "                                      'sql_complexity','sql_complexity_description',\n",
    "                                      'sql_task_type','sql_task_type_description',\n",
    "                                      'sql_explanation','sql_prompt', 'sql_context', 'sql',])#, batched=True)\n",
    "dataset = dataset.shuffle(1337).train_test_split(test_size=0.005)\n"
   ]
  },
  {
   "cell_type": "code",
   "execution_count": 2,
   "metadata": {},
   "outputs": [
    {
     "data": {
      "text/plain": [
       "DatasetDict({\n",
       "    train: Dataset({\n",
       "        features: ['instruction', 'input', 'output'],\n",
       "        num_rows: 13197\n",
       "    })\n",
       "    test: Dataset({\n",
       "        features: ['instruction', 'input', 'output'],\n",
       "        num_rows: 67\n",
       "    })\n",
       "})"
      ]
     },
     "execution_count": 2,
     "metadata": {},
     "output_type": "execute_result"
    }
   ],
   "source": [
    "dataset"
   ]
  },
  {
   "cell_type": "code",
   "execution_count": 3,
   "metadata": {},
   "outputs": [
    {
     "name": "stderr",
     "output_type": "stream",
     "text": [
      "Saving the dataset (1/1 shards): 100%|██████████| 13197/13197 [00:00<00:00, 363446.86 examples/s]\n",
      "Saving the dataset (1/1 shards): 100%|██████████| 67/67 [00:00<00:00, 37589.40 examples/s]\n"
     ]
    }
   ],
   "source": [
    "dataset.save_to_disk('./data-processed')"
   ]
  },
  {
   "cell_type": "code",
   "execution_count": null,
   "metadata": {},
   "outputs": [],
   "source": []
  }
 ],
 "metadata": {
  "kernelspec": {
   "display_name": "sqlft",
   "language": "python",
   "name": "python3"
  },
  "language_info": {
   "codemirror_mode": {
    "name": "ipython",
    "version": 3
   },
   "file_extension": ".py",
   "mimetype": "text/x-python",
   "name": "python",
   "nbconvert_exporter": "python",
   "pygments_lexer": "ipython3",
   "version": "3.11.9"
  }
 },
 "nbformat": 4,
 "nbformat_minor": 2
}
