{
 "cells": [
  {
   "cell_type": "code",
   "execution_count": 1,
   "metadata": {},
   "outputs": [],
   "source": [
    "import sqlite3\n",
    "import json\n",
    "import pandas as pd\n",
    "pd.set_option('display.max_colwidth',1000)"
   ]
  },
  {
   "cell_type": "markdown",
   "metadata": {},
   "source": [
    "## Create db with exoplanets data"
   ]
  },
  {
   "cell_type": "markdown",
   "metadata": {},
   "source": [
    "- Data source: https://www.kaggle.com/datasets/adityamishraml/nasaexoplanets"
   ]
  },
  {
   "cell_type": "code",
   "execution_count": 2,
   "metadata": {},
   "outputs": [],
   "source": [
    "# exoplanets_df = pd.read_csv('cleaned_5250.csv')\n",
    "# conn = sqlite3.connect('./databases/exoplanets_db.db')\n",
    "# exoplanets_df.to_sql('exoplanets',conn,if_exists='replace',index=False)\n",
    "# conn.close()"
   ]
  },
  {
   "cell_type": "code",
   "execution_count": null,
   "metadata": {},
   "outputs": [],
   "source": [
    "conn = sqlite3.connect('./databases/exoplanets_db.db')\n",
    "cursor = conn.cursor()\n",
    "cursor.execute(f\"SELECT * FROM exoplanets LIMIT 5;\")"
   ]
  },
  {
   "cell_type": "code",
   "execution_count": null,
   "metadata": {},
   "outputs": [],
   "source": [
    "for row in cursor:\n",
    "    print(row)"
   ]
  },
  {
   "cell_type": "code",
   "execution_count": null,
   "metadata": {},
   "outputs": [],
   "source": [
    "cursor.execute(\"PRAGMA table_info(exoplanets)\")"
   ]
  },
  {
   "cell_type": "code",
   "execution_count": null,
   "metadata": {},
   "outputs": [],
   "source": [
    "for row in cursor:\n",
    "    print(row)"
   ]
  },
  {
   "cell_type": "code",
   "execution_count": null,
   "metadata": {},
   "outputs": [],
   "source": [
    "cursor.execute(\"\"\"\n",
    "SELECT discovery_year, AVG(\"Mass (MJ)\") AS average_mass\n",
    "FROM exoplanets\n",
    "GROUP BY \"Disc. Year\"\n",
    "ORDER BY \"Disc. Year\";\n",
    "\"\"\")"
   ]
  },
  {
   "cell_type": "code",
   "execution_count": 11,
   "metadata": {},
   "outputs": [],
   "source": [
    "# query = \"CREATE TABLE reference_planets (name TEXT, mass REAL);\"\n",
    "\n",
    "# cursor.execute(query)"
   ]
  },
  {
   "cell_type": "code",
   "execution_count": null,
   "metadata": {},
   "outputs": [],
   "source": [
    "#cursor.execute(\"DELETE  from reference_planets where 1==1;\")"
   ]
  },
  {
   "cell_type": "code",
   "execution_count": 30,
   "metadata": {},
   "outputs": [],
   "source": [
    "# insert1 = \"\"\"\n",
    "# INSERT INTO reference_planets (name, mass) VALUES ('Jupiter', 1.898e27);\n",
    "# \"\"\"\n",
    "# insert2 = \"\"\"\n",
    "# INSERT INTO reference_planets (name, mass) VALUES ('Earth', 5.972e24);\n",
    "# \"\"\"\n",
    "# cursor.execute(insert1);cursor.execute(insert2)\n",
    "# conn.commit()\n",
    "# conn.close()"
   ]
  },
  {
   "cell_type": "code",
   "execution_count": null,
   "metadata": {},
   "outputs": [],
   "source": [
    "cursor.execute(\"SELECT * FROM reference_planets;\")\n",
    "for row in cursor:\n",
    "    print(row)"
   ]
  },
  {
   "cell_type": "code",
   "execution_count": 8,
   "metadata": {},
   "outputs": [],
   "source": [
    "def test_query(query,verbose=False):\n",
    "    cursor.execute(query)\n",
    "    if verbose:\n",
    "        for row in cursor:\n",
    "            print(row)"
   ]
  },
  {
   "cell_type": "code",
   "execution_count": null,
   "metadata": {},
   "outputs": [],
   "source": [
    "#How many exoplanets were discovered using each method? (Order by the number of discoveries)\n",
    "query=f\"\"\"\n",
    "SELECT \n",
    "    e.detection_method,\n",
    "    COUNT(*) AS count_exoplanets\n",
    "FROM exoplanets e\n",
    "GROUP BY e.detection_method\n",
    "ORDER BY count_exoplanets DESC;  \n",
    "\"\"\"\n",
    "test_query(query,verbose=True)"
   ]
  },
  {
   "cell_type": "code",
   "execution_count": 54,
   "metadata": {},
   "outputs": [],
   "source": [
    "#Which exoplanets are located in the habitable zone (typically 0.95 to 1.37 AU for stars similar to the Sun)?\n",
    "query=f\"\"\"\n",
    "SELECT \n",
    "    e.name,\n",
    "    e.orbital_radius\n",
    "FROM exoplanets e\n",
    "WHERE e.orbital_radius BETWEEN 0.95 AND 1.37;\n",
    "\"\"\"\n",
    "test_query(query)"
   ]
  },
  {
   "cell_type": "code",
   "execution_count": 55,
   "metadata": {},
   "outputs": [],
   "source": [
    "#List exoplanets that are within 20 light-years of Earth.\n",
    "query=f\"\"\"\n",
    "SELECT \n",
    "    e.name,\n",
    "    e.distance\n",
    "FROM exoplanets e\n",
    "WHERE e.distance < 20;  -- Within 20 light-years\n",
    "\"\"\"\n",
    "test_query(query)"
   ]
  },
  {
   "cell_type": "code",
   "execution_count": null,
   "metadata": {},
   "outputs": [],
   "source": [
    "exoplanets_df[exoplanets_df.name=='11 Comae Berenices b']"
   ]
  },
  {
   "cell_type": "code",
   "execution_count": 57,
   "metadata": {},
   "outputs": [],
   "source": [
    "# Find exoplanets with eccentricity values greater than 0.5, indicating more elongated orbits. Order by highest eccentricity.\n",
    "query=f\"\"\"\n",
    "SELECT \n",
    "    e.name,\n",
    "    e.eccentricity,\n",
    "    e.orbital_period\n",
    "FROM exoplanets e\n",
    "WHERE e.eccentricity > 0.5\n",
    "ORDER BY e.eccentricity DESC;  -- Order by highest eccentricity\n",
    "\"\"\"\n",
    "test_query(query)"
   ]
  },
  {
   "cell_type": "code",
   "execution_count": 58,
   "metadata": {},
   "outputs": [],
   "source": [
    "# Find exoplanets with mass greater than a certain threshold (e.g., 5 MJ).\n",
    "query=f\"\"\"\n",
    "WITH MassFactors AS (\n",
    "    SELECT \n",
    "        MAX(CASE WHEN name = 'Earth' THEN mass END) AS earth_mass,\n",
    "        MAX(CASE WHEN name = 'Jupiter' THEN mass END) AS jupiter_mass\n",
    "    FROM reference_planets\n",
    ")\n",
    "\n",
    "SELECT \n",
    "    e.name,\n",
    "    CASE \n",
    "        WHEN e.mass_wrt = 'Earth' THEN e.mass_multiplier * r.mass  -- Mass in Earth masses\n",
    "        WHEN e.mass_wrt = 'Jupiter' THEN e.mass_multiplier * r.mass * (SELECT jupiter_mass / earth_mass FROM MassFactors)  -- Convert to Earth masses\n",
    "    END AS mass_in_earth_masses\n",
    "FROM exoplanets e\n",
    "JOIN reference_planets r ON e.mass_wrt = r.name\n",
    "WHERE (CASE \n",
    "            WHEN e.mass_wrt = 'Earth' THEN e.mass_multiplier * r.mass\n",
    "            WHEN e.mass_wrt = 'Jupiter' THEN e.mass_multiplier * r.mass * (SELECT jupiter_mass / earth_mass FROM MassFactors)\n",
    "        END) > 5;-- Mass threshold in Earth masses\n",
    "\"\"\"\n",
    "test_query(query)"
   ]
  },
  {
   "cell_type": "code",
   "execution_count": 59,
   "metadata": {},
   "outputs": [],
   "source": [
    "# Find exoplanets with mass greater than 5 Earth masses\n",
    "query=f\"\"\"\n",
    "WITH MassFactors AS (\n",
    "    SELECT \n",
    "        MAX(CASE WHEN name = 'Earth' THEN mass END) AS earth_mass,\n",
    "        MAX(CASE WHEN name = 'Jupiter' THEN mass END) AS jupiter_mass\n",
    "    FROM reference_planets\n",
    ")\n",
    "\n",
    "SELECT \n",
    "    e.name,\n",
    "    CASE \n",
    "        WHEN e.mass_wrt = 'Earth' THEN e.mass_multiplier * r.mass  -- Mass in Earth masses\n",
    "        WHEN e.mass_wrt = 'Jupiter' THEN e.mass_multiplier * r.mass * (SELECT jupiter_mass / earth_mass FROM MassFactors)  -- Convert to Earth masses\n",
    "    END AS mass_in_earth_masses\n",
    "FROM exoplanets e\n",
    "JOIN reference_planets r ON e.mass_wrt = r.name\n",
    "WHERE (CASE \n",
    "            WHEN e.mass_wrt = 'Earth' THEN e.mass_multiplier * r.mass\n",
    "            WHEN e.mass_wrt = 'Jupiter' THEN e.mass_multiplier * r.mass * (SELECT jupiter_mass / earth_mass FROM MassFactors)\n",
    "        END) > 5;  -- Mass threshold in Earth masses\n",
    "  -- Mass threshold in Earth masses\n",
    "\"\"\"\n",
    "test_query(query)"
   ]
  },
  {
   "cell_type": "code",
   "execution_count": null,
   "metadata": {},
   "outputs": [],
   "source": [
    "19.4*1.898e+27*(1.898e+27/5.972e+24) # perhaps was overestimated in db!!! query correct,though\n",
    "#('Jupiter', 1.898e+27)\n",
    "#('Earth', 5.972e+24)"
   ]
  },
  {
   "cell_type": "code",
   "execution_count": 61,
   "metadata": {},
   "outputs": [],
   "source": [
    "# Find the 5 closest exoplanets that are also the brightest.\n",
    "query=f\"\"\"\n",
    "SELECT \n",
    "    e.name,\n",
    "    e.distance,\n",
    "    e.stellar_magnitude\n",
    "FROM exoplanets e\n",
    "WHERE e.distance IS NOT NULL and e.stellar_magnitude IS NOT NULL\n",
    "ORDER BY e.distance ASC, e.stellar_magnitude ASC  -- Closest and brightest\n",
    "LIMIT 5;\n",
    "\"\"\"\n",
    "test_query(query)"
   ]
  },
  {
   "cell_type": "code",
   "execution_count": 62,
   "metadata": {},
   "outputs": [],
   "source": [
    "# Calculate the average orbital radius for each type of exoplanet. Order by average orbital radius descending.\n",
    "query=f\"\"\"\n",
    "SELECT \n",
    "    e.planet_type,\n",
    "    AVG(e.orbital_radius) AS avg_orbital_radius\n",
    "FROM exoplanets e\n",
    "GROUP BY e.planet_type\n",
    "ORDER BY avg_orbital_radius DESC;  \n",
    "\"\"\"\n",
    "test_query(query)"
   ]
  },
  {
   "cell_type": "code",
   "execution_count": 63,
   "metadata": {},
   "outputs": [],
   "source": [
    "# Count how many exoplanets of each type were discovered each year. Order by year ascending and count descending.\n",
    "query=f\"\"\"\n",
    "SELECT \n",
    "    e.discovery_year,\n",
    "    e.planet_type,\n",
    "    COUNT(*) AS count\n",
    "FROM exoplanets e\n",
    "GROUP BY e.discovery_year, e.planet_type\n",
    "ORDER BY e.discovery_year, count DESC;  \n",
    "\"\"\"\n",
    "test_query(query)"
   ]
  },
  {
   "cell_type": "code",
   "execution_count": 64,
   "metadata": {},
   "outputs": [],
   "source": [
    "# Find exoplanets with an eccentricity greater than 0.6 and an orbital period longer than 200 days.\n",
    "query=f\"\"\"\n",
    "SELECT \n",
    "    e.name,\n",
    "    e.eccentricity,\n",
    "    e.orbital_period\n",
    "FROM exoplanets e\n",
    "WHERE e.eccentricity > 0.6 AND e.orbital_period > 200\n",
    "ORDER BY e.eccentricity DESC; \n",
    "\"\"\"\n",
    "test_query(query)"
   ]
  },
  {
   "cell_type": "code",
   "execution_count": 65,
   "metadata": {},
   "outputs": [],
   "source": [
    "# List all exoplanets discovered in the last 5 years, sorted by discovery year.\n",
    "query=f\"\"\"\n",
    "SELECT \n",
    "    e.name,\n",
    "    e.discovery_year\n",
    "FROM exoplanets e\n",
    "WHERE e.discovery_year >= strftime('%Y', 'now') - 5  -- Last 5 years\n",
    "ORDER BY e.discovery_year DESC;  -- Most recent first\n",
    "\"\"\"\n",
    "test_query(query)"
   ]
  },
  {
   "cell_type": "code",
   "execution_count": 66,
   "metadata": {},
   "outputs": [],
   "source": [
    "#  Identify the most common types of exoplanets among the top 10 brightest, order by frequency of planet types.\n",
    "query=f\"\"\"\n",
    "WITH BrightestExoplanets AS (\n",
    "    SELECT \n",
    "        e.name,\n",
    "        e.planet_type,\n",
    "        e.stellar_magnitude\n",
    "    FROM exoplanets e\n",
    "    ORDER BY e.stellar_magnitude ASC  -- Brightest first\n",
    "    LIMIT 10\n",
    ")\n",
    "\n",
    "SELECT \n",
    "    planet_type,\n",
    "    COUNT(*) AS count\n",
    "FROM BrightestExoplanets\n",
    "GROUP BY planet_type\n",
    "ORDER BY count DESC;\n",
    "\"\"\"\n",
    "test_query(query)"
   ]
  },
  {
   "cell_type": "code",
   "execution_count": 67,
   "metadata": {},
   "outputs": [],
   "source": [
    "# Analyze the relationship between the discovery year and the average stellar magnitude of exoplanets discovered each year.\n",
    "query=f\"\"\"\n",
    "SELECT \n",
    "    e.discovery_year,\n",
    "    AVG(e.stellar_magnitude) AS avg_stellar_magnitude\n",
    "FROM exoplanets e\n",
    "GROUP BY e.discovery_year\n",
    "ORDER BY e.discovery_year;  -- Order by discovery year\n",
    "\n",
    "\"\"\"\n",
    "test_query(query)"
   ]
  },
  {
   "cell_type": "code",
   "execution_count": 68,
   "metadata": {},
   "outputs": [],
   "source": [
    "test_query(\"\"\"\n",
    "SELECT planet_type, name, radius_multiplier\n",
    "FROM exoplanets\n",
    "WHERE (planet_type, radius_multiplier) IN (\n",
    "    SELECT planet_type, radius_multiplier\n",
    "    FROM exoplanets\n",
    "    ORDER BY planet_type, radius_multiplier DESC\n",
    ")\n",
    "GROUP BY planet_type\n",
    "LIMIT 2;\n",
    "\"\"\")"
   ]
  },
  {
   "cell_type": "code",
   "execution_count": 69,
   "metadata": {},
   "outputs": [],
   "source": [
    "test_query(\"\"\"\n",
    "SELECT discovery_year, \n",
    "SUM(mass_multiplier * (SELECT mass FROM reference_planets WHERE name = mass_wrt)) AS total_mass\n",
    "FROM exoplanets\n",
    "WHERE mass_multiplier IS NOT NULL\n",
    "GROUP BY discovery_year\n",
    "ORDER BY total_mass DESC\n",
    "LIMIT 5;\n",
    "\"\"\")"
   ]
  },
  {
   "cell_type": "markdown",
   "metadata": {},
   "source": [
    "## Testing query results in batch"
   ]
  },
  {
   "cell_type": "code",
   "execution_count": 9,
   "metadata": {},
   "outputs": [],
   "source": [
    "generated_sql_df = pd.read_csv('Exoplanets-OG20 - Sheet1.csv')"
   ]
  },
  {
   "cell_type": "code",
   "execution_count": null,
   "metadata": {},
   "outputs": [],
   "source": [
    "generated_sql_df.head(2)"
   ]
  },
  {
   "cell_type": "code",
   "execution_count": null,
   "metadata": {},
   "outputs": [],
   "source": [
    "sql_queries=list(generated_sql_df['answer'])\n",
    "len(sql_queries)"
   ]
  },
  {
   "cell_type": "code",
   "execution_count": 12,
   "metadata": {},
   "outputs": [],
   "source": [
    "error_queries = []\n",
    "\n",
    "# Process each query\n",
    "for idx, query in enumerate(sql_queries):\n",
    "    try:\n",
    "        test_query(query)\n",
    "    except Exception as e:\n",
    "        print(f\"Error occurred: {e}\")\n",
    "        error_queries.append({'query': query, 'idx': idx, 'exception': type(e).__name__})\n",
    "        \n"
   ]
  },
  {
   "cell_type": "code",
   "execution_count": null,
   "metadata": {},
   "outputs": [],
   "source": [
    "error_queries"
   ]
  },
  {
   "cell_type": "code",
   "execution_count": null,
   "metadata": {},
   "outputs": [],
   "source": [
    "test_query('SELECT discovery_year, name, orbital_period FROM exoplanets WHERE (discovery_year, name, orbital_period) IN (   SELECT discovery_year, name, orbital_period    FROM exoplanets    ORDER BY discovery_year, orbital_period DESC) GROUP BY discovery_year LIMIT 3;', verbose=True)"
   ]
  },
  {
   "cell_type": "code",
   "execution_count": null,
   "metadata": {},
   "outputs": [],
   "source": [
    "test_query('SELECT e.name, e.orbital_radius, e.mass_multiplier * r.mass AS mass FROM exoplanets e JOIN reference_planets r ON e.mass_wrt = r.name WHERE e.orbital_radius BETWEEN 0.5 AND 1.5  ORDER BY mass DESC;', verbose=True)"
   ]
  },
  {
   "cell_type": "code",
   "execution_count": null,
   "metadata": {},
   "outputs": [],
   "source": [
    "test_query(\"\"\"WITH DetectionTrends AS (\n",
    "    SELECT \n",
    "        discovery_year,\n",
    "        detection_method,\n",
    "        COUNT(*) AS method_count\n",
    "    FROM exoplanets\n",
    "    GROUP BY discovery_year, detection_method\n",
    "),\n",
    "RankedTrends AS (\n",
    "    SELECT \n",
    "        discovery_year,\n",
    "        detection_method,\n",
    "        method_count, RANK() OVER (PARTITION BY discovery_year ORDER BY method_count DESC) AS method_rank FROM DetectionTrends) SELECT  discovery_year, detection_method, method_count, method_rank FROM RankedTrends WHERE method_rank <= 2 ORDER BY discovery_year, method_rank;\"\"\", verbose=True)"
   ]
  },
  {
   "cell_type": "code",
   "execution_count": 26,
   "metadata": {},
   "outputs": [],
   "source": [
    "def test_rows(query):\n",
    "    cursor.execute(query)\n",
    "    rows = cursor.fetchall()\n",
    "    if not rows:\n",
    "        raise ValueError(f\"The following query returned no rows: {query}\")\n",
    "    "
   ]
  },
  {
   "cell_type": "code",
   "execution_count": 27,
   "metadata": {},
   "outputs": [],
   "source": [
    "for idx, query in enumerate(sql_queries):\n",
    "    try:\n",
    "        test_rows(query)\n",
    "    except Exception as e:\n",
    "        print(f\"Look at idx: {idx+1}\")\n",
    "        print(e)"
   ]
  },
  {
   "cell_type": "code",
   "execution_count": null,
   "metadata": {},
   "outputs": [],
   "source": [
    "test_query(\"\"\"\n",
    "WITH detection_counts AS (\n",
    "    SELECT \n",
    "        detection_method, \n",
    "        COUNT(*) AS method_count\n",
    "    FROM \n",
    "        exoplanets\n",
    "    GROUP BY \n",
    "        detection_method\n",
    "),\n",
    "least_common_detection AS (\n",
    "    SELECT \n",
    "        detection_method\n",
    "    FROM \n",
    "        detection_counts\n",
    "    WHERE \n",
    "        method_count = (SELECT MIN(method_count) FROM detection_counts)\n",
    ")\n",
    "SELECT \n",
    "    e.*\n",
    "FROM \n",
    "    exoplanets e\n",
    "JOIN \n",
    "    least_common_detection lcd ON e.detection_method = lcd.detection_method;\n",
    "           \"\"\", verbose=True)"
   ]
  },
  {
   "cell_type": "code",
   "execution_count": 17,
   "metadata": {},
   "outputs": [],
   "source": [
    "test_rows(\"\"\"\n",
    "WITH detection_counts AS (\n",
    "    SELECT \n",
    "        detection_method, \n",
    "        COUNT(*) AS method_count\n",
    "    FROM \n",
    "        exoplanets\n",
    "    GROUP BY \n",
    "        detection_method\n",
    "),\n",
    "least_common_detection AS (\n",
    "    SELECT \n",
    "        detection_method\n",
    "    FROM \n",
    "        detection_counts\n",
    "    WHERE \n",
    "        method_count = (SELECT MIN(method_count) FROM detection_counts)\n",
    ")\n",
    "SELECT \n",
    "    e.*\n",
    "FROM \n",
    "    exoplanets e\n",
    "JOIN \n",
    "    least_common_detection lcd ON e.detection_method = lcd.detection_method;\n",
    "           \"\"\")"
   ]
  },
  {
   "cell_type": "code",
   "execution_count": 28,
   "metadata": {},
   "outputs": [],
   "source": [
    "# def run_query(query, cursor):\n",
    "#     cursor.execute(query)\n",
    "#     rows = cursor.fetchall()\n",
    "#     columns = [desc[0] for desc in cursor.description]\n",
    "#     return pd.DataFrame(rows, columns=columns)\n",
    "\n",
    "def run_query(query, cursor):\n",
    "    cursor.execute(query)\n",
    "    rows = cursor.fetchall()\n",
    "    columns = [desc[0] for desc in cursor.description]\n",
    "    result_dict = [dict(zip(columns, row)) for row in rows]\n",
    "    return json.dumps(result_dict)"
   ]
  },
  {
   "cell_type": "code",
   "execution_count": null,
   "metadata": {},
   "outputs": [],
   "source": [
    "run_query(sql_queries[0],cursor)"
   ]
  },
  {
   "cell_type": "code",
   "execution_count": null,
   "metadata": {},
   "outputs": [],
   "source": [
    "sql_queries[0]"
   ]
  },
  {
   "cell_type": "code",
   "execution_count": 29,
   "metadata": {},
   "outputs": [],
   "source": [
    "generated_sql_df['results'] = generated_sql_df['answer'].map(lambda query: run_query(query,cursor))"
   ]
  },
  {
   "cell_type": "code",
   "execution_count": null,
   "metadata": {},
   "outputs": [],
   "source": [
    "generated_sql_df.head()"
   ]
  },
  {
   "cell_type": "code",
   "execution_count": 31,
   "metadata": {},
   "outputs": [],
   "source": [
    "from sklearn.model_selection import train_test_split\n",
    "shuffled_df = generated_sql_df.sample(frac=1,random_state=42).reset_index(drop=True)#.rename(columns={'answer':'SQL'})"
   ]
  },
  {
   "cell_type": "code",
   "execution_count": 32,
   "metadata": {},
   "outputs": [],
   "source": [
    " # roll the dice via random seed but use judgement to get representative set \n",
    "train_df,valid_df = train_test_split(shuffled_df,test_size=10,random_state=177)"
   ]
  },
  {
   "cell_type": "code",
   "execution_count": null,
   "metadata": {},
   "outputs": [],
   "source": [
    "valid_df"
   ]
  },
  {
   "cell_type": "code",
   "execution_count": 111,
   "metadata": {},
   "outputs": [],
   "source": [
    "#valid_df.rename(columns={'answer':'SQL'},inplace=True)\n",
    "#train_df.rename(columns={'answer':'SQL'},inplace=True)\n",
    "#train_df.to_json('./databases/train.json',orient='records',lines=True)\n",
    "#valid_df.to_json('./databases/validation.json',orient='records',lines=True)"
   ]
  },
  {
   "cell_type": "code",
   "execution_count": null,
   "metadata": {},
   "outputs": [],
   "source": [
    "# Convert the DataFrame to a list of dictionaries\n",
    "train_data = train_df.to_dict(orient='records')\n",
    "valid_data = valid_df.to_dict(orient='records')\n",
    "\n",
    "# Save the list of dictionaries to a JSON file\n",
    "with open('./databases/train.json', 'w') as train_file:\n",
    "    json.dump(train_data, train_file, indent=4)\n",
    "\n",
    "with open('./databases/valid.json', 'w') as valid_file:\n",
    "    json.dump(valid_data, valid_file, indent=4)\n",
    "\n",
    "# Verify the saved JSON files\n",
    "with open('./databases/train.json', 'r') as train_file:\n",
    "    train_loaded = json.load(train_file)\n",
    "    print(\"Train Data Loaded:\")\n",
    "    print(train_loaded[:2])  # Print the first 2 records for verification\n",
    "\n",
    "with open('./databases/valid.json', 'r') as valid_file:\n",
    "    valid_loaded = json.load(valid_file)\n",
    "    print(\"Valid Data Loaded:\")\n",
    "    print(valid_loaded[:2])  # Print the first 2 records for verification"
   ]
  },
  {
   "cell_type": "code",
   "execution_count": null,
   "metadata": {},
   "outputs": [],
   "source": [
    "# make sure to rename above if don't go building own evaluators approach fully\n",
    "from premsql.datasets import StandardDataset\n",
    "\n",
    "validation_dataset = StandardDataset(\n",
    "    split=\"validation\",    # it can be either train / validation / test depending on your dataset and the name of the json file\n",
    "    dataset_path=\"./databases\",\n",
    "    database_folder_name=\"databases\", # The same name of the folder \n",
    "    json_file_name=\"valid.json\",\n",
    ")\n",
    "\n",
    "train_dataset = StandardDataset(\n",
    "    split=\"train\",    # it can be either train / validation / test depending on your dataset and the name of the json file\n",
    "    dataset_path=\"./databases\",\n",
    "    database_folder_name=\"databases\", # The same name of the folder \n",
    "    json_file_name=\"train.json\",\n",
    ")\n"
   ]
  },
  {
   "cell_type": "code",
   "execution_count": null,
   "metadata": {},
   "outputs": [],
   "source": [
    "train_dataset"
   ]
  },
  {
   "cell_type": "markdown",
   "metadata": {},
   "source": [
    "### Format as HF datasets"
   ]
  },
  {
   "cell_type": "code",
   "execution_count": null,
   "metadata": {},
   "outputs": [],
   "source": [
    "from datasets import load_dataset, DatasetDict"
   ]
  },
  {
   "cell_type": "code",
   "execution_count": 3,
   "metadata": {},
   "outputs": [],
   "source": [
    "train_dataset = load_dataset('json', data_files='./databases/train.json', split='train')\n",
    "valid_dataset = load_dataset('json', data_files='./databases/valid.json', split='train')\n"
   ]
  },
  {
   "cell_type": "code",
   "execution_count": 4,
   "metadata": {},
   "outputs": [],
   "source": [
    "dataset = DatasetDict({\n",
    "    'train': train_dataset,\n",
    "    'valid': valid_dataset\n",
    "}\n",
    ")"
   ]
  },
  {
   "cell_type": "code",
   "execution_count": null,
   "metadata": {},
   "outputs": [],
   "source": [
    "dataset"
   ]
  },
  {
   "cell_type": "code",
   "execution_count": null,
   "metadata": {},
   "outputs": [],
   "source": [
    "#!huggingface-cli login\n",
    "dataset.push_to_hub('dpv/exoplanets-sql')"
   ]
  },
  {
   "cell_type": "markdown",
   "metadata": {},
   "source": [
    "- Tried to update README.MD multiple times with the following:\n",
    "This is a small dataset based on https://www.kaggle.com/datasets/adityamishraml/nasaexoplanets/data.  sqlite table *exoplanets* was made from the data, along with a *reference_planets* table made by inserting  (name, mass) VALUES ('Jupiter', 1.898e27) and  (name, mass) VALUES ('Earth', 5.972e24).\n",
    "The *mass_wrt* column in *exoplanets* maps to *mass* table in *reference_planets*.  This table table allows for more complex queries involving joins.  Queries have been checked for logical consistency, as well as by running against the databa"
   ]
  },
  {
   "cell_type": "markdown",
   "metadata": {},
   "source": [
    "## Experiments"
   ]
  },
  {
   "cell_type": "code",
   "execution_count": null,
   "metadata": {},
   "outputs": [],
   "source": [
    "import torch; torch.cuda.is_available()"
   ]
  },
  {
   "cell_type": "code",
   "execution_count": 6,
   "metadata": {},
   "outputs": [],
   "source": [
    "\n",
    "# from premsql.executors.from_sqlite import SQLiteExecutor\n",
    "# from premsql.datasets import Text2SQLDataset\n",
    "# from premsql.tuner.peft import Text2SQLPeftTuner\n",
    "# from premsql.datasets.error_dataset import ErrorDatasetGenerator"
   ]
  },
  {
   "cell_type": "code",
   "execution_count": null,
   "metadata": {},
   "outputs": [],
   "source": []
  },
  {
   "cell_type": "markdown",
   "metadata": {},
   "source": [
    "### Now see if can convert Gretl data to sqlite format"
   ]
  },
  {
   "cell_type": "code",
   "execution_count": null,
   "metadata": {},
   "outputs": [],
   "source": [
    "#!pip3 install \"sqlglot[rs]\""
   ]
  },
  {
   "cell_type": "code",
   "execution_count": null,
   "metadata": {},
   "outputs": [],
   "source": [
    "import sqlglot\n",
    "sqlglot.transpile(\"SELECT EPOCH_MS(1618088028295)\", read=\"mysql\", write=\"sqlite\")[0]"
   ]
  },
  {
   "cell_type": "code",
   "execution_count": null,
   "metadata": {},
   "outputs": [],
   "source": [
    "help(sqlglot.transpile)"
   ]
  },
  {
   "cell_type": "code",
   "execution_count": null,
   "metadata": {},
   "outputs": [],
   "source": [
    "import sqlglot\n",
    "sqlglot.transpile(\"SELECT AVG(word_count) OVER (PARTITION BY EXTRACT(YEAR_QUARTER FROM publish_date)) AS avg_word_count FROM articles WHERE category = 'social_justice' AND location = 'USA' AND YEAR(publish_date) BETWEEN 2021 AND 2022;\", read=\"mysql\", write=\"sqlite\")[0]"
   ]
  },
  {
   "cell_type": "code",
   "execution_count": 111,
   "metadata": {},
   "outputs": [],
   "source": [
    "#!pip install premsql"
   ]
  },
  {
   "cell_type": "code",
   "execution_count": 100,
   "metadata": {},
   "outputs": [],
   "source": [
    "from premsql.pipelines.simple import SimpleText2SQLAgent\n",
    "from premsql.generators.huggingface import Text2SQLGeneratorHF\n",
    "from langchain_community.utilities.sql_database import SQLDatabase\n",
    "from premsql.utils import convert_sqlite_path_to_dsn\n",
    "\n",
    "dsn_or_db_path = convert_sqlite_path_to_dsn(\n",
    "  \"exoplanets_db.db\"   \n",
    ")\n",
    "db = SQLDatabase.from_uri(dsn_or_db_path)"
   ]
  },
  {
   "cell_type": "code",
   "execution_count": 101,
   "metadata": {},
   "outputs": [],
   "source": [
    "#!pip install tabulate\n",
    "#!pip install openai"
   ]
  },
  {
   "cell_type": "markdown",
   "metadata": {},
   "source": [
    "## See if can use llama3b (currently no) and prem-1B-SQL to generate answers by connecting to db"
   ]
  },
  {
   "cell_type": "code",
   "execution_count": null,
   "metadata": {},
   "outputs": [],
   "source": [
    "agent = SimpleText2SQLAgent(\n",
    "    dsn_or_db_path=db,\n",
    "    generator=Text2SQLGeneratorHF(\n",
    "        model_or_name_or_path=\"premai-io/prem-1B-SQL\",\n",
    "        #model_or_name_or_path=\"llama3-3b\",\n",
    "        experiment_name=\"test_nli\",\n",
    "        device=\"cuda:0\",\n",
    "        type=\"test\"\n",
    "    ),\n",
    ")"
   ]
  },
  {
   "cell_type": "code",
   "execution_count": null,
   "metadata": {},
   "outputs": [],
   "source": [
    "response = agent.query(\n",
    "    question=\"please list the most recently discovered exoplanet\",\n",
    "    do_sample = True\n",
    ")\n",
    "\n",
    "response[\"table\"]"
   ]
  },
  {
   "cell_type": "code",
   "execution_count": null,
   "metadata": {},
   "outputs": [],
   "source": [
    "response"
   ]
  },
  {
   "cell_type": "code",
   "execution_count": null,
   "metadata": {},
   "outputs": [],
   "source": [
    "response = agent.query(\n",
    "    question=\"please list the most recently discovered exoplanet\",\n",
    "    do_sample = True\n",
    ")\n",
    "\n",
    "response[\"table\"]"
   ]
  },
  {
   "cell_type": "code",
   "execution_count": null,
   "metadata": {},
   "outputs": [],
   "source": [
    "cursor.execute(\"SELECT name FROM sqlite_master WHERE type='table';\")\n",
    "tables = cursor.fetchall()\n",
    "print(\"Tables in the database:\")\n",
    "for table in tables:\n",
    "    print(table[0])"
   ]
  },
  {
   "cell_type": "markdown",
   "metadata": {},
   "source": [
    "## Consider generating more questions from seed of 20 programmatically: TODO"
   ]
  },
  {
   "cell_type": "code",
   "execution_count": null,
   "metadata": {},
   "outputs": [],
   "source": [
    "import random\n",
    "\n",
    "# Sample dataset of questions and queries\n",
    "questions = [\n",
    "    {\n",
    "        \"question\": \"What is the average mass of exoplanets discovered each year?\",\n",
    "        \"query\": \"SELECT discovery_year, AVG(mass) FROM exoplanets GROUP BY discovery_year;\"\n",
    "    },\n",
    "    {\n",
    "        \"question\": \"How many exoplanets were discovered using each method?\",\n",
    "        \"query\": \"SELECT detection_method, COUNT(*) FROM exoplanets GROUP BY detection_method;\"\n",
    "    },\n",
    "    # Add more questions and queries...\n",
    "]\n",
    "\n",
    "# Example of variable options to permute\n",
    "variables = {\n",
    "    \"threshold\": [5, 10, 15],\n",
    "    \"column\": [\"stellar_magnitude\", \"distance\", \"orbital_period\"],\n",
    "    \"aggregate\": [\"AVG\", \"COUNT\", \"SUM\"],\n",
    "}\n",
    "\n",
    "# Function to create permutations\n",
    "def generate_permutations(questions, variables):\n",
    "    new_questions = []\n",
    "    for item in questions:\n",
    "        for threshold in variables[\"threshold\"]:\n",
    "            for column in variables[\"column\"]:\n",
    "                for agg in variables[\"aggregate\"]:\n",
    "                    # Create a new question and query\n",
    "                    new_question = item[\"question\"].replace(\"average mass\", f\"{agg.lower()} {column}\") + f\" (threshold: {threshold})\"\n",
    "                    new_query = item[\"query\"].replace(\"AVG(mass)\", f\"{agg}({column})\").replace(\"WHERE ...\", f\"WHERE {column} > {threshold}\")\n",
    "                    \n",
    "                    new_questions.append({\n",
    "                        \"question\": new_question,\n",
    "                        \"query\": new_query\n",
    "                    })\n",
    "    return new_questions\n",
    "\n",
    "# Generate new questions and queries\n",
    "new_dataset = generate_permutations(questions, variables)\n",
    "\n",
    "# Display new questions and queries\n",
    "for item in new_dataset:\n",
    "    print(f\"Question: {item['question']}\")\n",
    "    print(f\"SQL Query: {item['query']}\")\n",
    "    print()\n"
   ]
  },
  {
   "cell_type": "markdown",
   "metadata": {},
   "source": [
    "## TODOs:"
   ]
  },
  {
   "cell_type": "markdown",
   "metadata": {},
   "source": [
    "- expand data generation from seed (50-100 examples), all tested\n",
    "- sqglot exector or premai executor (experiment)-> Unit tests\n",
    "- other ways to write unit tests?  see Hammel\n",
    "- decide on finetuning approach; with whatever approach must be able to test against db, so see if can test llama3-3b against db or finetune prem in full precision perhaps (just on my data)\n",
    "- sqlite android/ios integration and emulator testing"
   ]
  }
 ],
 "metadata": {
  "kernelspec": {
   "display_name": "sqlft",
   "language": "python",
   "name": "python3"
  },
  "language_info": {
   "codemirror_mode": {
    "name": "ipython",
    "version": 3
   },
   "file_extension": ".py",
   "mimetype": "text/x-python",
   "name": "python",
   "nbconvert_exporter": "python",
   "pygments_lexer": "ipython3",
   "version": "3.11.9"
  }
 },
 "nbformat": 4,
 "nbformat_minor": 2
}
